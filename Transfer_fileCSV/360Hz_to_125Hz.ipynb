{
 "cells": [
  {
   "cell_type": "code",
   "execution_count": 1,
   "metadata": {},
   "outputs": [],
   "source": [
    "import os\n",
    "import wfdb as wf\n",
    "import numpy as np\n",
    "import matplotlib.pyplot as plt\n",
    "from scipy import signal\n",
    "from biosppy.signals import ecg\n",
    "from glob import glob"
   ]
  },
  {
   "cell_type": "code",
   "execution_count": 2,
   "metadata": {},
   "outputs": [],
   "source": [
    "def get_records():\n",
    "    \"\"\" Get paths for data in data/mit/ directory \"\"\"\n",
    "    # There are 3 files for each record\n",
    "    # *.atr is one of them\n",
    "    path_source = '../MIT-BIH//*.atr'\n",
    "    paths = glob(path_source)\n",
    "\n",
    "    # Get rid of the extension\n",
    "    paths = [path[:-4] for path in paths]\n",
    "    paths.sort()\n",
    "\n",
    "    return paths"
   ]
  },
  {
   "cell_type": "code",
   "execution_count": 3,
   "metadata": {},
   "outputs": [
    {
     "name": "stdout",
     "output_type": "stream",
     "text": [
      "Total files:  5\n"
     ]
    }
   ],
   "source": [
    "records = get_records()\n",
    "print('Total files: ', len(records))\n",
    "realbeats = ['N','L','R','B','A','a','J','S','V','r',\n",
    "             'F','e','j','n','E','/','f','Q','?']\n",
    "normal=['N','L','R','B','e','j'] #0(N)\n",
    "supraventricular=['A','J','S','a','n'] #1(S)\n",
    "ventricular=['V','E','r'] #2(V)\n",
    "fusion= ['F'] #3(F)\n",
    "unknownbeats=['/','f','Q','?'] #4(Q)\n"
   ]
  },
  {
   "cell_type": "code",
   "execution_count": 4,
   "metadata": {},
   "outputs": [
    {
     "name": "stdout",
     "output_type": "stream",
     "text": [
      "Loading file: ../NSR\\19088\n",
      "    Sampling frequency used for this record: 128\n",
      "    Shape of loaded data array: (10967040, 2)\n",
      "    Number of loaded annotations: 117880\n",
      "     ECG channel type: ECG1\n"
     ]
    },
    {
     "name": "stderr",
     "output_type": "stream",
     "text": [
      "c:\\Users\\ASUS\\anaconda3\\envs\\KTDL\\lib\\site-packages\\numpy\\lib\\function_base.py:5071: VisibleDeprecationWarning: Creating an ndarray from ragged nested sequences (which is a list-or-tuple of lists-or-tuples-or ndarrays with different lengths or shapes) is deprecated. If you meant to do this, you must specify 'dtype=object' when creating the ndarray.\n",
      "  arr = asarray(arr)\n",
      "C:\\Users\\ASUS\\AppData\\Local\\Temp\\ipykernel_17300\\2098647787.py:106: DeprecationWarning: `np.float` is a deprecated alias for the builtin `float`. To silence this warning, use `float` by itself. Doing this will not modify any behavior and is safe. If you specifically wanted the numpy scalar type, use `np.float64` here.\n",
      "Deprecated in NumPy 1.20; for more details and guidance: https://numpy.org/devdocs/release/1.20.0-notes.html#deprecations\n",
      "  savedata = np.array(list(beats[:]), dtype=np.float)\n"
     ]
    },
    {
     "name": "stdout",
     "output_type": "stream",
     "text": [
      "    Generating  ../File CSV\\NSR\\19088_ECG1.csv\n",
      "     ECG channel type: ECG2\n",
      "    Generating  ../File CSV\\NSR\\19088_ECG2.csv\n",
      "Loading file: ../NSR\\19090\n",
      "    Sampling frequency used for this record: 128\n",
      "    Shape of loaded data array: (11143168, 2)\n",
      "    Number of loaded annotations: 81953\n",
      "     ECG channel type: ECG1\n"
     ]
    },
    {
     "name": "stderr",
     "output_type": "stream",
     "text": [
      "c:\\Users\\ASUS\\anaconda3\\envs\\KTDL\\lib\\site-packages\\numpy\\lib\\function_base.py:5071: VisibleDeprecationWarning: Creating an ndarray from ragged nested sequences (which is a list-or-tuple of lists-or-tuples-or ndarrays with different lengths or shapes) is deprecated. If you meant to do this, you must specify 'dtype=object' when creating the ndarray.\n",
      "  arr = asarray(arr)\n",
      "C:\\Users\\ASUS\\AppData\\Local\\Temp\\ipykernel_17300\\2098647787.py:106: DeprecationWarning: `np.float` is a deprecated alias for the builtin `float`. To silence this warning, use `float` by itself. Doing this will not modify any behavior and is safe. If you specifically wanted the numpy scalar type, use `np.float64` here.\n",
      "Deprecated in NumPy 1.20; for more details and guidance: https://numpy.org/devdocs/release/1.20.0-notes.html#deprecations\n",
      "  savedata = np.array(list(beats[:]), dtype=np.float)\n"
     ]
    },
    {
     "name": "stdout",
     "output_type": "stream",
     "text": [
      "    Generating  ../File CSV\\NSR\\19090_ECG1.csv\n",
      "     ECG channel type: ECG2\n",
      "    Generating  ../File CSV\\NSR\\19090_ECG2.csv\n",
      "Loading file: ../NSR\\19093\n",
      "    Sampling frequency used for this record: 128\n",
      "    Shape of loaded data array: (10705920, 2)\n",
      "    Number of loaded annotations: 83670\n",
      "     ECG channel type: ECG1\n"
     ]
    },
    {
     "name": "stderr",
     "output_type": "stream",
     "text": [
      "c:\\Users\\ASUS\\anaconda3\\envs\\KTDL\\lib\\site-packages\\numpy\\lib\\function_base.py:5071: VisibleDeprecationWarning: Creating an ndarray from ragged nested sequences (which is a list-or-tuple of lists-or-tuples-or ndarrays with different lengths or shapes) is deprecated. If you meant to do this, you must specify 'dtype=object' when creating the ndarray.\n",
      "  arr = asarray(arr)\n",
      "C:\\Users\\ASUS\\AppData\\Local\\Temp\\ipykernel_17300\\2098647787.py:106: DeprecationWarning: `np.float` is a deprecated alias for the builtin `float`. To silence this warning, use `float` by itself. Doing this will not modify any behavior and is safe. If you specifically wanted the numpy scalar type, use `np.float64` here.\n",
      "Deprecated in NumPy 1.20; for more details and guidance: https://numpy.org/devdocs/release/1.20.0-notes.html#deprecations\n",
      "  savedata = np.array(list(beats[:]), dtype=np.float)\n"
     ]
    },
    {
     "name": "stdout",
     "output_type": "stream",
     "text": [
      "    Generating  ../File CSV\\NSR\\19093_ECG1.csv\n",
      "     ECG channel type: ECG2\n",
      "    Generating  ../File CSV\\NSR\\19093_ECG2.csv\n",
      "Loading file: ../NSR\\19140\n",
      "    Sampling frequency used for this record: 128\n",
      "    Shape of loaded data array: (11139072, 2)\n",
      "    Number of loaded annotations: 96992\n",
      "     ECG channel type: ECG1\n"
     ]
    },
    {
     "name": "stderr",
     "output_type": "stream",
     "text": [
      "c:\\Users\\ASUS\\anaconda3\\envs\\KTDL\\lib\\site-packages\\numpy\\lib\\function_base.py:5071: VisibleDeprecationWarning: Creating an ndarray from ragged nested sequences (which is a list-or-tuple of lists-or-tuples-or ndarrays with different lengths or shapes) is deprecated. If you meant to do this, you must specify 'dtype=object' when creating the ndarray.\n",
      "  arr = asarray(arr)\n",
      "C:\\Users\\ASUS\\AppData\\Local\\Temp\\ipykernel_17300\\2098647787.py:106: DeprecationWarning: `np.float` is a deprecated alias for the builtin `float`. To silence this warning, use `float` by itself. Doing this will not modify any behavior and is safe. If you specifically wanted the numpy scalar type, use `np.float64` here.\n",
      "Deprecated in NumPy 1.20; for more details and guidance: https://numpy.org/devdocs/release/1.20.0-notes.html#deprecations\n",
      "  savedata = np.array(list(beats[:]), dtype=np.float)\n"
     ]
    },
    {
     "name": "stdout",
     "output_type": "stream",
     "text": [
      "    Generating  ../File CSV\\NSR\\19140_ECG1.csv\n",
      "     ECG channel type: ECG2\n",
      "    Generating  ../File CSV\\NSR\\19140_ECG2.csv\n",
      "Loading file: ../NSR\\19830\n",
      "    Sampling frequency used for this record: 128\n",
      "    Shape of loaded data array: (10701824, 2)\n",
      "    Number of loaded annotations: 111263\n",
      "     ECG channel type: ECG1\n"
     ]
    },
    {
     "name": "stderr",
     "output_type": "stream",
     "text": [
      "c:\\Users\\ASUS\\anaconda3\\envs\\KTDL\\lib\\site-packages\\numpy\\lib\\function_base.py:5071: VisibleDeprecationWarning: Creating an ndarray from ragged nested sequences (which is a list-or-tuple of lists-or-tuples-or ndarrays with different lengths or shapes) is deprecated. If you meant to do this, you must specify 'dtype=object' when creating the ndarray.\n",
      "  arr = asarray(arr)\n",
      "C:\\Users\\ASUS\\AppData\\Local\\Temp\\ipykernel_17300\\2098647787.py:106: DeprecationWarning: `np.float` is a deprecated alias for the builtin `float`. To silence this warning, use `float` by itself. Doing this will not modify any behavior and is safe. If you specifically wanted the numpy scalar type, use `np.float64` here.\n",
      "Deprecated in NumPy 1.20; for more details and guidance: https://numpy.org/devdocs/release/1.20.0-notes.html#deprecations\n",
      "  savedata = np.array(list(beats[:]), dtype=np.float)\n"
     ]
    },
    {
     "name": "stdout",
     "output_type": "stream",
     "text": [
      "    Generating  ../File CSV\\NSR\\19830_ECG1.csv\n",
      "     ECG channel type: ECG2\n",
      "    Generating  ../File CSV\\NSR\\19830_ECG2.csv\n"
     ]
    }
   ],
   "source": [
    "for path in records:\n",
    "    pathpts = path.split('/')\n",
    "    fn = pathpts[-1]\n",
    "    print('Loading file:', path)\n",
    "\n",
    "    # Read in the data\n",
    "    record = wf.rdsamp(path)\n",
    "    annotation = wf.rdann(path, 'atr')\n",
    "\n",
    "    # Print some meta informations\n",
    "    print('    Sampling frequency used for this record:', record[1].get('fs'))\n",
    "    print('    Shape of loaded data array:', record[0].shape)\n",
    "    print('    Number of loaded annotations:', len(annotation.num))\n",
    "    \n",
    "    # Get the ECG values from the file.\n",
    "    data = record[0].transpose()\n",
    "\n",
    "    # Generate the classifications based on the annotations.\n",
    "    # 0.0 = undetermined\n",
    "    # 1.0 = normal\n",
    "    # 2.0 = abnormal\n",
    "    cat = np.array(annotation.symbol)\n",
    "    rate = np.zeros_like(cat, dtype='float')\n",
    "    for catid, catval in enumerate(cat):\n",
    "        if (catval in normal):\n",
    "            rate[catid] = 1.0 # Normal\n",
    "        elif (catval in supraventricular):\n",
    "            rate[catid] = 2.0 # supraventricular\n",
    "        elif (catval in ventricular):\n",
    "            rate[catid] = 3.0 # ventricular\n",
    "        elif (catval in fusion):\n",
    "            rate[catid] = 4.0 # ventricular\n",
    "        elif (catval in unknownbeats):\n",
    "            rate[catid] = 5.0 # ventricular\n",
    "    rates = np.zeros_like(data[0], dtype='float')\n",
    "    rates[annotation.sample] = rate\n",
    "    \n",
    "    indices = np.arange(data[0].size, dtype='int')\n",
    "\n",
    "    # Process each channel separately (2 per input file).\n",
    "    for channelid, channel in enumerate(data):\n",
    "        chname = record[1].get('sig_name')[channelid]\n",
    "        print('     ECG channel type:', chname)\n",
    "        \n",
    "        # Find rpeaks in the ECG data. Most should match with\n",
    "        # the annotations.\n",
    "        out = ecg.ecg(signal=channel, sampling_rate=360, show=False)\n",
    "        rpeaks = np.zeros_like(channel, dtype='float')\n",
    "        rpeaks[out['rpeaks']] = 1.0\n",
    "        \n",
    "        beatstoremove = np.array([0])\n",
    "\n",
    "        # Split into individual heartbeats. For each heartbeat\n",
    "        # record, append classification (normal/abnormal).\n",
    "        beats = np.split(channel, out['rpeaks'])\n",
    "        for idx, idxval in enumerate(out['rpeaks']):\n",
    "            firstround = idx == 0\n",
    "            lastround = idx == len(beats) - 1\n",
    "\n",
    "            # Skip first and last beat.\n",
    "            if (firstround or lastround):\n",
    "                continue\n",
    "\n",
    "            # Get the classification value that is on\n",
    "            # or near the position of the rpeak index.\n",
    "            fromidx = 0 if idxval < 10 else idxval - 10\n",
    "            toidx = idxval + 10\n",
    "            catval = rates[fromidx:toidx].max()\n",
    "            \n",
    "            # Skip beat if there is no classification.\n",
    "            if (catval == 0.0):\n",
    "                beatstoremove = np.append(beatstoremove, idx)\n",
    "                continue\n",
    "\n",
    "            # Normal beat is now classified as 0.0 and abnormal is 1.0.\n",
    "            catval = catval - 1.0\n",
    "\n",
    "            # Append some extra readings from next beat.\n",
    "            beats[idx] = np.append(beats[idx], beats[idx+1][:40])\n",
    "\n",
    "            # Normalize the readings to a 0-1 range for ML purposes.\n",
    "            beats[idx] = (beats[idx] - beats[idx].min()) / beats[idx].ptp()\n",
    "\n",
    "            # Resample from 360Hz to 125Hz\n",
    "            newsize = int((beats[idx].size * 125 / 360) + 0.5)\n",
    "            beats[idx] = signal.resample(beats[idx], newsize)\n",
    "\n",
    "            # Skipping records that are too long.\n",
    "            if (beats[idx].size > 187):\n",
    "                beatstoremove = np.append(beatstoremove, idx)\n",
    "                continue\n",
    "\n",
    "            # Pad with zeroes.\n",
    "            zerocount = 187 - beats[idx].size\n",
    "            beats[idx] = np.pad(beats[idx], (0, zerocount), 'constant', constant_values=(0.0, 0.0))\n",
    "\n",
    "            # Append the classification to the beat data.\n",
    "            beats[idx] = np.append(beats[idx], catval)\n",
    "\n",
    "        beatstoremove = np.append(beatstoremove, len(beats)-1)\n",
    "\n",
    "        # Remove first and last beats and the ones without classification.\n",
    "        beats = np.delete(beats, beatstoremove)\n",
    "\n",
    "        # Save to CSV   file.\n",
    "        savedata = np.array(list(beats[:]), dtype=np.float)\n",
    "        outfn = '../File CSV\\\\'+fn+'_'+chname+'.csv'\n",
    "        print('    Generating ', outfn)\n",
    "        with open(outfn, \"wb\") as fin:\n",
    "            np.savetxt(fin, savedata, delimiter=\",\", fmt='%f')"
   ]
  },
  {
   "cell_type": "code",
   "execution_count": null,
   "metadata": {},
   "outputs": [],
   "source": []
  },
  {
   "cell_type": "code",
   "execution_count": null,
   "metadata": {},
   "outputs": [],
   "source": []
  }
 ],
 "metadata": {
  "kernelspec": {
   "display_name": "KTDL",
   "language": "python",
   "name": "python3"
  },
  "language_info": {
   "codemirror_mode": {
    "name": "ipython",
    "version": 3
   },
   "file_extension": ".py",
   "mimetype": "text/x-python",
   "name": "python",
   "nbconvert_exporter": "python",
   "pygments_lexer": "ipython3",
   "version": "3.10.9"
  },
  "orig_nbformat": 4
 },
 "nbformat": 4,
 "nbformat_minor": 2
}
