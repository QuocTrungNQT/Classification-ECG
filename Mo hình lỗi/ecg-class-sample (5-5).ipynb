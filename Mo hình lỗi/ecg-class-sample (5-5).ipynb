{
 "cells": [
  {
   "cell_type": "code",
   "execution_count": 1,
   "id": "25047eb2",
   "metadata": {
    "execution": {
     "iopub.execute_input": "2023-12-09T16:58:30.287653Z",
     "iopub.status.busy": "2023-12-09T16:58:30.287235Z",
     "iopub.status.idle": "2023-12-09T16:58:43.394903Z",
     "shell.execute_reply": "2023-12-09T16:58:43.393763Z"
    },
    "papermill": {
     "duration": 13.14884,
     "end_time": "2023-12-09T16:58:43.397799",
     "exception": false,
     "start_time": "2023-12-09T16:58:30.248959",
     "status": "completed"
    },
    "tags": []
   },
   "outputs": [],
   "source": [
    "import numpy as np\n",
    "import pandas as pd\n",
    "from sklearn.preprocessing import MinMaxScaler\n",
    "from tensorflow.keras.models import Sequential\n",
    "from tensorflow.keras.layers import LSTM, Dense, TimeDistributed\n",
    "from sklearn.model_selection import train_test_split\n",
    "from matplotlib import pyplot as plt\n",
    "import seaborn as sns\n",
    "import tensorflow as tf\n",
    "import os"
   ]
  },
  {
   "cell_type": "markdown",
   "id": "daf7e3b4",
   "metadata": {
    "papermill": {
     "duration": 0.03498,
     "end_time": "2023-12-09T16:58:43.470512",
     "exception": false,
     "start_time": "2023-12-09T16:58:43.435532",
     "status": "completed"
    },
    "tags": []
   },
   "source": [
    "# Configuration"
   ]
  },
  {
   "cell_type": "code",
   "execution_count": 2,
   "id": "e4ef7ec9",
   "metadata": {
    "execution": {
     "iopub.execute_input": "2023-12-09T16:58:43.542814Z",
     "iopub.status.busy": "2023-12-09T16:58:43.542120Z",
     "iopub.status.idle": "2023-12-09T16:58:43.548306Z",
     "shell.execute_reply": "2023-12-09T16:58:43.547099Z"
    },
    "papermill": {
     "duration": 0.045311,
     "end_time": "2023-12-09T16:58:43.550737",
     "exception": false,
     "start_time": "2023-12-09T16:58:43.505426",
     "status": "completed"
    },
    "tags": []
   },
   "outputs": [],
   "source": [
    "data_path = '/kaggle/input/file-csv/File CSV/MIT-BIH/'\n",
    "window_input= 200\n",
    "window_out= 200\n",
    "train_size = 0.8\n",
    "test_size = 1 - train_size\n",
    "data_set = {\n",
    "  0: \"testset\",\n",
    "  1: \"trainset\"\n",
    "}"
   ]
  },
  {
   "cell_type": "markdown",
   "id": "9ee9ea3b",
   "metadata": {
    "papermill": {
     "duration": 0.034737,
     "end_time": "2023-12-09T16:58:43.620629",
     "exception": false,
     "start_time": "2023-12-09T16:58:43.585892",
     "status": "completed"
    },
    "tags": []
   },
   "source": [
    "# Start"
   ]
  },
  {
   "cell_type": "markdown",
   "id": "74db213f",
   "metadata": {
    "papermill": {
     "duration": 0.036025,
     "end_time": "2023-12-09T16:58:43.754012",
     "exception": false,
     "start_time": "2023-12-09T16:58:43.717987",
     "status": "completed"
    },
    "tags": []
   },
   "source": [
    "## DỰ ĐOÁN TÍN HIỆU ECG"
   ]
  },
  {
   "cell_type": "code",
   "execution_count": 3,
   "id": "04fd7a7c",
   "metadata": {
    "execution": {
     "iopub.execute_input": "2023-12-09T16:58:43.828058Z",
     "iopub.status.busy": "2023-12-09T16:58:43.827010Z",
     "iopub.status.idle": "2023-12-09T16:58:43.838776Z",
     "shell.execute_reply": "2023-12-09T16:58:43.837795Z"
    },
    "papermill": {
     "duration": 0.052205,
     "end_time": "2023-12-09T16:58:43.841520",
     "exception": false,
     "start_time": "2023-12-09T16:58:43.789315",
     "status": "completed"
    },
    "tags": []
   },
   "outputs": [],
   "source": [
    "def get_data(istrainset):    \n",
    "    missing_file = 0\n",
    "    total_sample = 0\n",
    "    directory = f\"{data_path}{data_set[istrainset]}/\"\n",
    "    X, y = [], []\n",
    "    for filename in os.listdir(directory):\n",
    "        f = os.path.join(directory, filename)\n",
    "        if os.path.isfile(f):\n",
    "            df = pd.read_csv(f, header=None)\n",
    "            data=df.drop(columns=187)\n",
    "            data=data.values\n",
    "            # Số lượng lặp qua dữ liệu\n",
    "            num_samples = len(data) - window_input - window_out \n",
    "            # print(\"----------------------\")\n",
    "            # print(\"🍒Len data:\", len(data))\n",
    "            # print(\"🍒Num_samples:\", num_samples)\n",
    "            # Đối với tập train\n",
    "            # Tạo dữ liệu train từ cửa sổ trượt\n",
    "            if(num_samples>0):\n",
    "                total_sample = total_sample + num_samples\n",
    "                for i in range(num_samples):\n",
    "                    X_window = data[i:i+window_input]\n",
    "                    y_window = data[i+window_input+window_out:i+window_input+window_out+1]\n",
    "\n",
    "                    X.append(X_window)\n",
    "                    y.append(y_window)\n",
    "            else:\n",
    "                missing_file = missing_file + 1\n",
    "    print(f\"Num of file can not use due to its missing of length: {missing_file}\")\n",
    "    print(f\"Number of sample: {len(y)}/{len(X)}/{total_sample}\")\n",
    "    return X,y"
   ]
  },
  {
   "cell_type": "code",
   "execution_count": 4,
   "id": "973afcb2",
   "metadata": {
    "execution": {
     "iopub.execute_input": "2023-12-09T16:58:43.915804Z",
     "iopub.status.busy": "2023-12-09T16:58:43.915015Z",
     "iopub.status.idle": "2023-12-09T16:58:52.918130Z",
     "shell.execute_reply": "2023-12-09T16:58:52.916733Z"
    },
    "papermill": {
     "duration": 9.042882,
     "end_time": "2023-12-09T16:58:52.920480",
     "exception": false,
     "start_time": "2023-12-09T16:58:43.877598",
     "status": "completed"
    },
    "tags": []
   },
   "outputs": [
    {
     "name": "stdout",
     "output_type": "stream",
     "text": [
      "Num of file can not use due to its missing of length: 10\n",
      "Number of sample: 91632/91632/91632\n",
      "Num of file can not use due to its missing of length: 2\n",
      "Number of sample: 26080/26080/26080\n"
     ]
    }
   ],
   "source": [
    "X_train, y_train = get_data(1)\n",
    "X_test, y_test = get_data(0)"
   ]
  },
  {
   "cell_type": "code",
   "execution_count": 5,
   "id": "5439387d",
   "metadata": {
    "execution": {
     "iopub.execute_input": "2023-12-09T16:58:52.995627Z",
     "iopub.status.busy": "2023-12-09T16:58:52.995190Z",
     "iopub.status.idle": "2023-12-09T16:58:53.002710Z",
     "shell.execute_reply": "2023-12-09T16:58:53.001367Z"
    },
    "papermill": {
     "duration": 0.048234,
     "end_time": "2023-12-09T16:58:53.005769",
     "exception": false,
     "start_time": "2023-12-09T16:58:52.957535",
     "status": "completed"
    },
    "tags": []
   },
   "outputs": [
    {
     "name": "stdout",
     "output_type": "stream",
     "text": [
      "Len(X_train/y_train): 91632/91632\n",
      "Len(X_test/y_test): 26080/26080\n",
      "Test Rate:  0.22155770014951748\n",
      "Train Rate:  0.7784422998504825\n"
     ]
    }
   ],
   "source": [
    "print(f\"Len(X_train/y_train): {len(X_train)}/{len(y_train)}\")\n",
    "print(f\"Len(X_test/y_test): {len(X_test)}/{len(y_test)}\")\n",
    "print(f\"Test Rate: \",len(X_test)/(len(X_train)+len(X_test)))\n",
    "print(f\"Train Rate: \",len(X_train)/(len(X_train)+len(X_test)))"
   ]
  },
  {
   "cell_type": "code",
   "execution_count": 6,
   "id": "b68191ff",
   "metadata": {
    "execution": {
     "iopub.execute_input": "2023-12-09T16:58:53.081615Z",
     "iopub.status.busy": "2023-12-09T16:58:53.081199Z",
     "iopub.status.idle": "2023-12-09T16:58:53.086382Z",
     "shell.execute_reply": "2023-12-09T16:58:53.085117Z"
    },
    "papermill": {
     "duration": 0.046773,
     "end_time": "2023-12-09T16:58:53.089046",
     "exception": false,
     "start_time": "2023-12-09T16:58:53.042273",
     "status": "completed"
    },
    "tags": []
   },
   "outputs": [],
   "source": [
    "# X_train= np.array(X_train)\n",
    "# y_train= np.concatenate(y_train)\n",
    "# X_test= np.array(X_test)\n",
    "# y_test= np.concatenate(y_test)"
   ]
  },
  {
   "cell_type": "code",
   "execution_count": 7,
   "id": "3d14867d",
   "metadata": {
    "execution": {
     "iopub.execute_input": "2023-12-09T16:58:53.163531Z",
     "iopub.status.busy": "2023-12-09T16:58:53.163129Z",
     "iopub.status.idle": "2023-12-09T16:58:53.168469Z",
     "shell.execute_reply": "2023-12-09T16:58:53.167172Z"
    },
    "papermill": {
     "duration": 0.045805,
     "end_time": "2023-12-09T16:58:53.171204",
     "exception": false,
     "start_time": "2023-12-09T16:58:53.125399",
     "status": "completed"
    },
    "tags": []
   },
   "outputs": [],
   "source": [
    "# print(X_train.shape)\n",
    "# print(y_train.shape)\n",
    "# print(X_test.shape)\n",
    "# print(y_test.shape)"
   ]
  },
  {
   "cell_type": "code",
   "execution_count": 8,
   "id": "30df39f8",
   "metadata": {
    "execution": {
     "iopub.execute_input": "2023-12-09T16:58:53.244313Z",
     "iopub.status.busy": "2023-12-09T16:58:53.243922Z",
     "iopub.status.idle": "2023-12-09T16:58:53.251455Z",
     "shell.execute_reply": "2023-12-09T16:58:53.250141Z"
    },
    "papermill": {
     "duration": 0.046933,
     "end_time": "2023-12-09T16:58:53.253805",
     "exception": false,
     "start_time": "2023-12-09T16:58:53.206872",
     "status": "completed"
    },
    "tags": []
   },
   "outputs": [],
   "source": [
    "class Dataset:\n",
    "    def __init__(self, data, label):\n",
    "        self.data = np.array(data)\n",
    "        self.label = np.concatenate(label)\n",
    "\n",
    "    def __len__(self):\n",
    "        return len(self.data)\n",
    "\n",
    "    def __getitem__(self, i):\n",
    "        # read data\n",
    "        X = self.data[i]\n",
    "        y = self.label[i]\n",
    "        return X, y"
   ]
  },
  {
   "cell_type": "code",
   "execution_count": 9,
   "id": "aed8acf1",
   "metadata": {
    "execution": {
     "iopub.execute_input": "2023-12-09T16:58:53.328988Z",
     "iopub.status.busy": "2023-12-09T16:58:53.328532Z",
     "iopub.status.idle": "2023-12-09T16:58:53.337607Z",
     "shell.execute_reply": "2023-12-09T16:58:53.336243Z"
    },
    "papermill": {
     "duration": 0.048935,
     "end_time": "2023-12-09T16:58:53.340127",
     "exception": false,
     "start_time": "2023-12-09T16:58:53.291192",
     "status": "completed"
    },
    "tags": []
   },
   "outputs": [],
   "source": [
    "class Dataloader(tf.keras.utils.Sequence):\n",
    "    def __init__(self, dataset, batch_size,size):\n",
    "        self.dataset = dataset\n",
    "        self.batch_size = batch_size\n",
    "        self.size= size\n",
    "\n",
    "    def __getitem__(self, i):\n",
    "        # collect batch data\n",
    "        start = i * self.batch_size\n",
    "        stop = (i + 1) * self.batch_size\n",
    "        data = []\n",
    "        for j in range(start, stop):\n",
    "            data.append(self.dataset[j])\n",
    "\n",
    "        batch = [np.stack(samples, axis=0) for samples in zip(*data)]\n",
    "        return tuple(batch)\n",
    "\n",
    "    def __len__(self):\n",
    "        return self.size //self.batch_size"
   ]
  },
  {
   "cell_type": "code",
   "execution_count": 10,
   "id": "3bbd7754",
   "metadata": {
    "execution": {
     "iopub.execute_input": "2023-12-09T16:58:53.413385Z",
     "iopub.status.busy": "2023-12-09T16:58:53.412960Z"
    },
    "papermill": {
     "duration": 32.697005,
     "end_time": "2023-12-09T16:59:26.073149",
     "exception": false,
     "start_time": "2023-12-09T16:58:53.376144",
     "status": "completed"
    },
    "tags": []
   },
   "outputs": [],
   "source": [
    "train_dataset = Dataset(X_train, y_train)\n",
    "test_dataset = Dataset(X_test, y_test)"
   ]
  },
  {
   "cell_type": "code",
   "execution_count": null,
   "id": "45e71849",
   "metadata": {
    "execution": {
     "iopub.execute_input": "2023-11-13T13:54:50.112332Z",
     "iopub.status.busy": "2023-11-13T13:54:50.111929Z",
     "iopub.status.idle": "2023-11-13T13:54:50.118472Z",
     "shell.execute_reply": "2023-11-13T13:54:50.117242Z",
     "shell.execute_reply.started": "2023-11-13T13:54:50.112294Z"
    },
    "papermill": {
     "duration": null,
     "end_time": null,
     "exception": null,
     "start_time": null,
     "status": "completed"
    },
    "tags": []
   },
   "outputs": [],
   "source": [
    "train_loader = Dataloader(train_dataset, 16,len(train_dataset))\n",
    "test_loader = Dataloader(test_dataset,16,len(test_dataset))"
   ]
  },
  {
   "cell_type": "code",
   "execution_count": null,
   "id": "378efc54",
   "metadata": {
    "execution": {
     "iopub.execute_input": "2023-11-13T13:54:50.120471Z",
     "iopub.status.busy": "2023-11-13T13:54:50.120014Z",
     "iopub.status.idle": "2023-11-13T13:54:50.821990Z",
     "shell.execute_reply": "2023-11-13T13:54:50.820502Z",
     "shell.execute_reply.started": "2023-11-13T13:54:50.120439Z"
    },
    "papermill": {
     "duration": null,
     "end_time": null,
     "exception": null,
     "start_time": null,
     "status": "completed"
    },
    "tags": []
   },
   "outputs": [],
   "source": [
    "# Tạo một mô hình LSTM\n",
    "model = Sequential()\n",
    "model.add(LSTM(64,activation='relu' ,input_shape=(40, 187)))  # Đặt input_shape phù hợp với kích thước của mảng X_train\n",
    "model.add(Dense(187))# Đặt lớp Dense phù hợp với kích thước của mảng y_train\n",
    "# Biên dịch mô hình\n",
    "model.compile(optimizer='adam', loss='mean_squared_error')"
   ]
  },
  {
   "cell_type": "code",
   "execution_count": null,
   "id": "ea32fe2c",
   "metadata": {
    "execution": {
     "iopub.execute_input": "2023-11-13T13:54:50.824335Z",
     "iopub.status.busy": "2023-11-13T13:54:50.823796Z",
     "iopub.status.idle": "2023-11-13T14:00:11.961598Z",
     "shell.execute_reply": "2023-11-13T14:00:11.960110Z",
     "shell.execute_reply.started": "2023-11-13T13:54:50.824300Z"
    },
    "papermill": {
     "duration": null,
     "end_time": null,
     "exception": null,
     "start_time": null,
     "status": "completed"
    },
    "tags": []
   },
   "outputs": [],
   "source": [
    "model.fit_generator(train_loader, validation_data=test_loader, epochs=5, verbose=1)"
   ]
  },
  {
   "cell_type": "code",
   "execution_count": null,
   "id": "610abbc8",
   "metadata": {
    "execution": {
     "iopub.execute_input": "2023-11-13T14:00:11.967113Z",
     "iopub.status.busy": "2023-11-13T14:00:11.966359Z",
     "iopub.status.idle": "2023-11-13T14:00:26.529804Z",
     "shell.execute_reply": "2023-11-13T14:00:26.528407Z",
     "shell.execute_reply.started": "2023-11-13T14:00:11.967048Z"
    },
    "papermill": {
     "duration": null,
     "end_time": null,
     "exception": null,
     "start_time": null,
     "status": "completed"
    },
    "tags": []
   },
   "outputs": [],
   "source": [
    "# Dự đoán trên tập kiểm tra\n",
    "y_pred = model.predict(test_dataset[:][0])"
   ]
  },
  {
   "cell_type": "markdown",
   "id": "763cae1d",
   "metadata": {
    "papermill": {
     "duration": null,
     "end_time": null,
     "exception": null,
     "start_time": null,
     "status": "completed"
    },
    "tags": []
   },
   "source": [
    "### Đánh giá độ chính xác mô hình"
   ]
  },
  {
   "cell_type": "code",
   "execution_count": null,
   "id": "f7da2268",
   "metadata": {
    "execution": {
     "iopub.execute_input": "2023-11-13T14:00:26.531996Z",
     "iopub.status.busy": "2023-11-13T14:00:26.531591Z",
     "iopub.status.idle": "2023-11-13T14:00:26.669096Z",
     "shell.execute_reply": "2023-11-13T14:00:26.667730Z",
     "shell.execute_reply.started": "2023-11-13T14:00:26.531960Z"
    },
    "papermill": {
     "duration": null,
     "end_time": null,
     "exception": null,
     "start_time": null,
     "status": "completed"
    },
    "tags": []
   },
   "outputs": [],
   "source": [
    "from sklearn.metrics import mean_squared_error, r2_score\n",
    "# Độ đo Mean Squared Error (MSE)\n",
    "mse = mean_squared_error(test_dataset[:][1], y_pred)\n",
    "print(f\"Mean Squared Error (MSE): {mse}\")\n",
    "\n",
    "# Độ đo R-squared (R2)\n",
    "r2 = r2_score(test_dataset[:][1], y_pred)\n",
    "print(f\"R-squared (R2): {r2}\")"
   ]
  },
  {
   "cell_type": "markdown",
   "id": "659a4173",
   "metadata": {
    "papermill": {
     "duration": null,
     "end_time": null,
     "exception": null,
     "start_time": null,
     "status": "completed"
    },
    "tags": []
   },
   "source": [
    "Trực quan "
   ]
  },
  {
   "cell_type": "code",
   "execution_count": null,
   "id": "2260fadb",
   "metadata": {
    "execution": {
     "iopub.execute_input": "2023-11-13T14:00:26.670930Z",
     "iopub.status.busy": "2023-11-13T14:00:26.670555Z",
     "iopub.status.idle": "2023-11-13T14:00:27.120155Z",
     "shell.execute_reply": "2023-11-13T14:00:27.118692Z",
     "shell.execute_reply.started": "2023-11-13T14:00:26.670897Z"
    },
    "papermill": {
     "duration": null,
     "end_time": null,
     "exception": null,
     "start_time": null,
     "status": "completed"
    },
    "tags": []
   },
   "outputs": [],
   "source": [
    "import matplotlib.pyplot as plt\n",
    "\n",
    "# Chọn một ví dụ cụ thể để trực quan hóa\n",
    "example_index = 40  # Thay đổi chỉ số ví dụ nếu cần\n",
    "\n",
    "# Lấy giá trị dự đoán và giá trị thực tế tương ứng\n",
    "y_pred_example = y_pred[example_index]\n",
    "y_test_example = test_dataset[:][1][example_index]\n",
    "\n",
    "# Vẽ biểu đồ cho giá trị dự đoán (màu xanh) và giá trị thực tế (màu đỏ)\n",
    "plt.figure(figsize=(12, 6))\n",
    "plt.plot(y_pred_example, label='Dự đoán', color='blue')\n",
    "plt.plot(y_test_example, label='Thực tế', color='red')\n",
    "plt.xlabel('Cột giá trị')\n",
    "plt.ylabel('Giá trị')\n",
    "plt.title('So sánh Dự đoán và Thực tế cho ví dụ cụ thể')\n",
    "plt.legend()\n",
    "plt.grid()\n",
    "plt.show()\n"
   ]
  },
  {
   "cell_type": "markdown",
   "id": "f9cca216",
   "metadata": {
    "papermill": {
     "duration": null,
     "end_time": null,
     "exception": null,
     "start_time": null,
     "status": "completed"
    },
    "tags": []
   },
   "source": [
    "#### Giải phóng dữ liệu"
   ]
  },
  {
   "cell_type": "code",
   "execution_count": null,
   "id": "43ff8a78",
   "metadata": {
    "execution": {
     "iopub.execute_input": "2023-11-13T14:00:27.122826Z",
     "iopub.status.busy": "2023-11-13T14:00:27.122276Z",
     "iopub.status.idle": "2023-11-13T14:00:27.129114Z",
     "shell.execute_reply": "2023-11-13T14:00:27.127682Z",
     "shell.execute_reply.started": "2023-11-13T14:00:27.122776Z"
    },
    "papermill": {
     "duration": null,
     "end_time": null,
     "exception": null,
     "start_time": null,
     "status": "completed"
    },
    "tags": []
   },
   "outputs": [],
   "source": [
    "# import gc\n",
    "# # Giải phóng dữ liệu đào tạo và kiểm tra\n",
    "# X_class_train=None\n",
    "# # Sử dụng garbage collection để giải phóng bộ nhớ\n",
    "# gc.collect()"
   ]
  },
  {
   "cell_type": "markdown",
   "id": "b2c1d1f7",
   "metadata": {
    "papermill": {
     "duration": null,
     "end_time": null,
     "exception": null,
     "start_time": null,
     "status": "completed"
    },
    "tags": []
   },
   "source": [
    "## PHÂN LỚP TÍN HIỆU ECG TƯƠNG LAI"
   ]
  },
  {
   "cell_type": "markdown",
   "id": "3c6fae9e",
   "metadata": {
    "papermill": {
     "duration": null,
     "end_time": null,
     "exception": null,
     "start_time": null,
     "status": "completed"
    },
    "tags": []
   },
   "source": [
    "### Preprocesing"
   ]
  },
  {
   "cell_type": "code",
   "execution_count": null,
   "id": "205eed98",
   "metadata": {
    "execution": {
     "iopub.execute_input": "2023-11-13T14:00:27.131650Z",
     "iopub.status.busy": "2023-11-13T14:00:27.131079Z",
     "iopub.status.idle": "2023-11-13T14:00:27.144970Z",
     "shell.execute_reply": "2023-11-13T14:00:27.143497Z",
     "shell.execute_reply.started": "2023-11-13T14:00:27.131607Z"
    },
    "papermill": {
     "duration": null,
     "end_time": null,
     "exception": null,
     "start_time": null,
     "status": "completed"
    },
    "tags": []
   },
   "outputs": [],
   "source": [
    "def get_data_class(istrainset):    \n",
    "    missing_file = 0\n",
    "    total_sample = 0\n",
    "    directory = f\"{data_path}{data_set[istrainset]}/\"\n",
    "    X, y = [], []\n",
    "    for filename in os.listdir(directory):\n",
    "        f = os.path.join(directory, filename)\n",
    "        if os.path.isfile(f):\n",
    "            df = pd.read_csv(f, header=None)\n",
    "            data=df.values\n",
    "            X_window = data[:,:-1]\n",
    "            y_window = data[:,-1]\n",
    "            X.append(X_window)\n",
    "            y.append(y_window)\n",
    "    print(f\"Number of sample: {len(y)}/{len(X)}\")\n",
    "    return X,y"
   ]
  },
  {
   "cell_type": "code",
   "execution_count": null,
   "id": "827a7fe5",
   "metadata": {
    "execution": {
     "iopub.execute_input": "2023-11-13T14:00:27.147664Z",
     "iopub.status.busy": "2023-11-13T14:00:27.146634Z",
     "iopub.status.idle": "2023-11-13T14:00:31.852533Z",
     "shell.execute_reply": "2023-11-13T14:00:31.851223Z",
     "shell.execute_reply.started": "2023-11-13T14:00:27.147614Z"
    },
    "papermill": {
     "duration": null,
     "end_time": null,
     "exception": null,
     "start_time": null,
     "status": "completed"
    },
    "tags": []
   },
   "outputs": [],
   "source": [
    "X_class_train, y_class_train = get_data_class(1)"
   ]
  },
  {
   "cell_type": "code",
   "execution_count": null,
   "id": "adb65df8",
   "metadata": {
    "execution": {
     "iopub.execute_input": "2023-11-13T14:00:31.854498Z",
     "iopub.status.busy": "2023-11-13T14:00:31.854123Z",
     "iopub.status.idle": "2023-11-13T14:00:31.936432Z",
     "shell.execute_reply": "2023-11-13T14:00:31.935328Z",
     "shell.execute_reply.started": "2023-11-13T14:00:31.854466Z"
    },
    "papermill": {
     "duration": null,
     "end_time": null,
     "exception": null,
     "start_time": null,
     "status": "completed"
    },
    "tags": []
   },
   "outputs": [],
   "source": [
    "X_class_train= np.concatenate(X_class_train,axis=0)"
   ]
  },
  {
   "cell_type": "code",
   "execution_count": null,
   "id": "9a1157cc",
   "metadata": {
    "execution": {
     "iopub.execute_input": "2023-11-13T14:00:31.938537Z",
     "iopub.status.busy": "2023-11-13T14:00:31.938152Z",
     "iopub.status.idle": "2023-11-13T14:00:31.948653Z",
     "shell.execute_reply": "2023-11-13T14:00:31.947347Z",
     "shell.execute_reply.started": "2023-11-13T14:00:31.938505Z"
    },
    "papermill": {
     "duration": null,
     "end_time": null,
     "exception": null,
     "start_time": null,
     "status": "completed"
    },
    "tags": []
   },
   "outputs": [],
   "source": [
    "y_class_train= np.concatenate(y_class_train, axis=0)\n",
    "y_class_train=y_class_train.astype(int)"
   ]
  },
  {
   "cell_type": "code",
   "execution_count": null,
   "id": "2bf70307",
   "metadata": {
    "execution": {
     "iopub.execute_input": "2023-11-13T14:00:31.951374Z",
     "iopub.status.busy": "2023-11-13T14:00:31.950458Z",
     "iopub.status.idle": "2023-11-13T14:00:31.968587Z",
     "shell.execute_reply": "2023-11-13T14:00:31.967095Z",
     "shell.execute_reply.started": "2023-11-13T14:00:31.951321Z"
    },
    "papermill": {
     "duration": null,
     "end_time": null,
     "exception": null,
     "start_time": null,
     "status": "completed"
    },
    "tags": []
   },
   "outputs": [],
   "source": [
    "#ECG dự đoán phân lớp X_class_test\n",
    "X_class_test= y_pred\n",
    "X_class_test"
   ]
  },
  {
   "cell_type": "code",
   "execution_count": null,
   "id": "f7d02591",
   "metadata": {
    "execution": {
     "iopub.execute_input": "2023-11-13T14:00:31.970409Z",
     "iopub.status.busy": "2023-11-13T14:00:31.969994Z",
     "iopub.status.idle": "2023-11-13T14:00:31.980050Z",
     "shell.execute_reply": "2023-11-13T14:00:31.979106Z",
     "shell.execute_reply.started": "2023-11-13T14:00:31.970370Z"
    },
    "papermill": {
     "duration": null,
     "end_time": null,
     "exception": null,
     "start_time": null,
     "status": "completed"
    },
    "tags": []
   },
   "outputs": [],
   "source": [
    "#Lây lớp của y_test\n",
    "def get_data_class2(istrainset):    \n",
    "    missing_file = 0\n",
    "    total_sample = 0\n",
    "    directory = f\"{data_path}{data_set[istrainset]}/\"\n",
    "    X, y = [], []\n",
    "    for filename in os.listdir(directory):\n",
    "        f = os.path.join(directory, filename)\n",
    "        if os.path.isfile(f):\n",
    "            df = pd.read_csv(f, header=None)\n",
    "            data=df.values\n",
    "            y_window = data[window_input+window_out:,-1]\n",
    "            y.append(y_window)\n",
    "    print(f\"Number of sample: {len(y)}\")\n",
    "    return y"
   ]
  },
  {
   "cell_type": "code",
   "execution_count": null,
   "id": "0772a314",
   "metadata": {
    "execution": {
     "iopub.execute_input": "2023-11-13T14:00:31.982263Z",
     "iopub.status.busy": "2023-11-13T14:00:31.981335Z",
     "iopub.status.idle": "2023-11-13T14:00:33.257080Z",
     "shell.execute_reply": "2023-11-13T14:00:33.255803Z",
     "shell.execute_reply.started": "2023-11-13T14:00:31.982225Z"
    },
    "papermill": {
     "duration": null,
     "end_time": null,
     "exception": null,
     "start_time": null,
     "status": "completed"
    },
    "tags": []
   },
   "outputs": [],
   "source": [
    "y_class= get_data_class2(0)"
   ]
  },
  {
   "cell_type": "code",
   "execution_count": null,
   "id": "8114f71a",
   "metadata": {
    "execution": {
     "iopub.execute_input": "2023-11-13T14:00:33.260855Z",
     "iopub.status.busy": "2023-11-13T14:00:33.260419Z",
     "iopub.status.idle": "2023-11-13T14:00:33.276241Z",
     "shell.execute_reply": "2023-11-13T14:00:33.274834Z",
     "shell.execute_reply.started": "2023-11-13T14:00:33.260815Z"
    },
    "papermill": {
     "duration": null,
     "end_time": null,
     "exception": null,
     "start_time": null,
     "status": "completed"
    },
    "tags": []
   },
   "outputs": [],
   "source": [
    "#Xác định y_test_class ban đầu\n",
    "y_class=np.concatenate(y_class)\n",
    "y_class_test=y_class.astype(int)"
   ]
  },
  {
   "cell_type": "code",
   "execution_count": null,
   "id": "1ef4ff26",
   "metadata": {
    "execution": {
     "iopub.execute_input": "2023-11-13T14:00:33.278099Z",
     "iopub.status.busy": "2023-11-13T14:00:33.277732Z",
     "iopub.status.idle": "2023-11-13T14:00:33.288603Z",
     "shell.execute_reply": "2023-11-13T14:00:33.287509Z",
     "shell.execute_reply.started": "2023-11-13T14:00:33.278068Z"
    },
    "papermill": {
     "duration": null,
     "end_time": null,
     "exception": null,
     "start_time": null,
     "status": "completed"
    },
    "tags": []
   },
   "outputs": [],
   "source": [
    "print(X_class_train.shape)\n",
    "print(y_class_train.shape)\n",
    "print(X_class_test.shape)\n",
    "print(y_class_test.shape)"
   ]
  },
  {
   "cell_type": "code",
   "execution_count": null,
   "id": "d11409cd",
   "metadata": {
    "execution": {
     "iopub.execute_input": "2023-11-10T15:47:13.943476Z",
     "iopub.status.busy": "2023-11-10T15:47:13.942974Z",
     "iopub.status.idle": "2023-11-10T15:47:13.951777Z",
     "shell.execute_reply": "2023-11-10T15:47:13.950481Z",
     "shell.execute_reply.started": "2023-11-10T15:47:13.943437Z"
    },
    "papermill": {
     "duration": null,
     "end_time": null,
     "exception": null,
     "start_time": null,
     "status": "completed"
    },
    "tags": []
   },
   "outputs": [],
   "source": [
    "# import numpy as np\n",
    "\n",
    "# unique_values, counts = np.unique(y_class_test, return_counts=True)\n",
    "\n",
    "# for value, count in zip(unique_values, counts):\n",
    "#     print(f\"{value}: {count}\")"
   ]
  },
  {
   "cell_type": "markdown",
   "id": "d6406e9c",
   "metadata": {
    "papermill": {
     "duration": null,
     "end_time": null,
     "exception": null,
     "start_time": null,
     "status": "completed"
    },
    "tags": []
   },
   "source": [
    "### Mô hình đơn"
   ]
  },
  {
   "cell_type": "markdown",
   "id": "ceee8aac",
   "metadata": {
    "papermill": {
     "duration": null,
     "end_time": null,
     "exception": null,
     "start_time": null,
     "status": "completed"
    },
    "tags": []
   },
   "source": [
    "#### Mô hình LSTM"
   ]
  },
  {
   "cell_type": "code",
   "execution_count": null,
   "id": "ce8d94fd",
   "metadata": {
    "execution": {
     "iopub.execute_input": "2023-11-10T15:47:28.171169Z",
     "iopub.status.busy": "2023-11-10T15:47:28.170669Z",
     "iopub.status.idle": "2023-11-10T15:47:28.439904Z",
     "shell.execute_reply": "2023-11-10T15:47:28.438389Z",
     "shell.execute_reply.started": "2023-11-10T15:47:28.171129Z"
    },
    "papermill": {
     "duration": null,
     "end_time": null,
     "exception": null,
     "start_time": null,
     "status": "completed"
    },
    "tags": []
   },
   "outputs": [],
   "source": [
    "# Bước: Xây dựng mô hình LSTM\n",
    "input_shape = (X_class_train.shape[1], 1)\n",
    "\n",
    "model_lstm= Sequential()\n",
    "model_lstm.add(LSTM(64, input_shape=input_shape, activation='relu', return_sequences=True))\n",
    "model_lstm.add(LSTM(32, activation='relu'))\n",
    "model_lstm.add(Dense(16, activation='relu'))\n",
    "model_lstm.add(Dense(5, activation='softmax'))\n",
    "model_lstm.compile(loss='sparse_categorical_crossentropy', optimizer='adam', metrics=['accuracy'])"
   ]
  },
  {
   "cell_type": "code",
   "execution_count": null,
   "id": "16874106",
   "metadata": {
    "execution": {
     "iopub.execute_input": "2023-11-10T15:47:31.196091Z",
     "iopub.status.busy": "2023-11-10T15:47:31.195600Z"
    },
    "papermill": {
     "duration": null,
     "end_time": null,
     "exception": null,
     "start_time": null,
     "status": "completed"
    },
    "tags": []
   },
   "outputs": [],
   "source": [
    "model_lstm.fit(X_class_train.reshape(X_class_train.shape[0], X_class_train.shape[1], 1), y_class_train, epochs=5, batch_size=32)"
   ]
  },
  {
   "cell_type": "code",
   "execution_count": null,
   "id": "5855fab7",
   "metadata": {
    "papermill": {
     "duration": null,
     "end_time": null,
     "exception": null,
     "start_time": null,
     "status": "completed"
    },
    "tags": []
   },
   "outputs": [],
   "source": [
    "predictions = model_lstm.predict(X_class_test)\n",
    "y_pred_classes = np.argmax(predictions, axis=1)"
   ]
  },
  {
   "cell_type": "markdown",
   "id": "c8b13455",
   "metadata": {
    "papermill": {
     "duration": null,
     "end_time": null,
     "exception": null,
     "start_time": null,
     "status": "completed"
    },
    "tags": []
   },
   "source": [
    "##### ĐÁNH GIÁ MÔ HÌNH"
   ]
  },
  {
   "cell_type": "code",
   "execution_count": null,
   "id": "375e0ddd",
   "metadata": {
    "execution": {
     "iopub.execute_input": "2023-11-13T14:03:54.701135Z",
     "iopub.status.busy": "2023-11-13T14:03:54.700487Z",
     "iopub.status.idle": "2023-11-13T14:03:54.708547Z",
     "shell.execute_reply": "2023-11-13T14:03:54.707126Z",
     "shell.execute_reply.started": "2023-11-13T14:03:54.701051Z"
    },
    "papermill": {
     "duration": null,
     "end_time": null,
     "exception": null,
     "start_time": null,
     "status": "completed"
    },
    "tags": []
   },
   "outputs": [],
   "source": [
    "from sklearn.metrics import accuracy_score\n",
    "from sklearn.metrics import confusion_matrix\n",
    "from sklearn.metrics import recall_score\n",
    "from sklearn.metrics import classification_report\n",
    "import matplotlib.pyplot as plt"
   ]
  },
  {
   "cell_type": "markdown",
   "id": "24db4591",
   "metadata": {
    "papermill": {
     "duration": null,
     "end_time": null,
     "exception": null,
     "start_time": null,
     "status": "completed"
    },
    "tags": []
   },
   "source": [
    "Accuracy"
   ]
  },
  {
   "cell_type": "code",
   "execution_count": null,
   "id": "dff6270a",
   "metadata": {
    "papermill": {
     "duration": null,
     "end_time": null,
     "exception": null,
     "start_time": null,
     "status": "completed"
    },
    "tags": []
   },
   "outputs": [],
   "source": [
    "report = classification_report(y_class_test, y_pred_classes)\n",
    "print(report)"
   ]
  },
  {
   "cell_type": "markdown",
   "id": "108b012d",
   "metadata": {
    "papermill": {
     "duration": null,
     "end_time": null,
     "exception": null,
     "start_time": null,
     "status": "completed"
    },
    "tags": []
   },
   "source": [
    "Sensitivity"
   ]
  },
  {
   "cell_type": "code",
   "execution_count": null,
   "id": "38157b13",
   "metadata": {
    "papermill": {
     "duration": null,
     "end_time": null,
     "exception": null,
     "start_time": null,
     "status": "completed"
    },
    "tags": []
   },
   "outputs": [],
   "source": [
    "conf_matrix = confusion_matrix(y_class_test, y_pred_classes)\n",
    "# Tạo biểu đồ dạng heatmap\n",
    "plt.figure(figsize=(8, 6))\n",
    "sns.heatmap(conf_matrix, annot=True, fmt='d', cmap='Blues')\n",
    "plt.xlabel('Predicted')\n",
    "plt.ylabel('Actual')\n",
    "plt.title('Confusion Matrix')\n",
    "plt.show()"
   ]
  },
  {
   "cell_type": "code",
   "execution_count": null,
   "id": "b025f12a",
   "metadata": {
    "papermill": {
     "duration": null,
     "end_time": null,
     "exception": null,
     "start_time": null,
     "status": "completed"
    },
    "tags": []
   },
   "outputs": [],
   "source": [
    "sensitivity_class_0 = recall_score(y_class_test == 0, y_pred_classes == 0)\n",
    "sensitivity_class_1 = recall_score(y_class_test == 1, y_pred_classes == 1)\n",
    "sensitivity_class_2 = recall_score(y_class_test == 2, y_pred_classes == 2)\n",
    "sensitivity_class_3 = recall_score(y_class_test == 3, y_pred_classes == 3)\n",
    "sensitivity_class_4 = recall_score(y_class_test == 4, y_pred_classes == 4)"
   ]
  },
  {
   "cell_type": "code",
   "execution_count": null,
   "id": "8a981e1d",
   "metadata": {
    "papermill": {
     "duration": null,
     "end_time": null,
     "exception": null,
     "start_time": null,
     "status": "completed"
    },
    "tags": []
   },
   "outputs": [],
   "source": [
    "# Giả sử bạn đã tính được sensitivity cho các lớp\n",
    "sensitivity_scores = [sensitivity_class_0,sensitivity_class_1, sensitivity_class_2, sensitivity_class_3, sensitivity_class_4]\n",
    "\n",
    "# Tên của các lớp\n",
    "class_names = ['Class 0','Class 1', 'Class 2', 'Class 3', 'Class 4']\n",
    "\n",
    "# Vẽ biểu đồ cột\n",
    "plt.figure(figsize=(8, 6))\n",
    "plt.bar(class_names, sensitivity_scores, color='skyblue')\n",
    "plt.title('Sensitivity for Each Class')\n",
    "plt.xlabel('Class')\n",
    "plt.ylabel('Sensitivity')\n",
    "plt.ylim(0, 1)  # Đặt giới hạn trục y từ 0 đến 1 để hiển thị độ nhạy từ 0% đến 100%\n",
    "plt.show()\n"
   ]
  },
  {
   "cell_type": "markdown",
   "id": "96ab76fd",
   "metadata": {
    "papermill": {
     "duration": null,
     "end_time": null,
     "exception": null,
     "start_time": null,
     "status": "completed"
    },
    "tags": []
   },
   "source": [
    "Precision"
   ]
  },
  {
   "cell_type": "code",
   "execution_count": null,
   "id": "2a5522a2",
   "metadata": {
    "papermill": {
     "duration": null,
     "end_time": null,
     "exception": null,
     "start_time": null,
     "status": "completed"
    },
    "tags": []
   },
   "outputs": [],
   "source": [
    "from sklearn.metrics import classification_report\n",
    "# Lấy báo cáo phân loại cho các lớp\n",
    "report = classification_report(y_class_test, y_pred_classes)\n",
    "print(report)\n"
   ]
  },
  {
   "cell_type": "markdown",
   "id": "065bc2aa",
   "metadata": {
    "papermill": {
     "duration": null,
     "end_time": null,
     "exception": null,
     "start_time": null,
     "status": "completed"
    },
    "tags": []
   },
   "source": [
    "#### KNN"
   ]
  },
  {
   "cell_type": "code",
   "execution_count": null,
   "id": "c8b043b3",
   "metadata": {
    "papermill": {
     "duration": null,
     "end_time": null,
     "exception": null,
     "start_time": null,
     "status": "completed"
    },
    "tags": []
   },
   "outputs": [],
   "source": [
    "from sklearn.neighbors import KNeighborsClassifier\n",
    "\n",
    "# Khởi tạo mô hình KNeighborsClassifier với số hàng xóm (neighbors) cần xem xét\n",
    "knn_model = KNeighborsClassifier(n_neighbors=5)  # Tuỳ chỉnh số hàng xóm nếu cần\n",
    "knn_model.fit(X_class_train, y_class_train)"
   ]
  },
  {
   "cell_type": "code",
   "execution_count": null,
   "id": "608bcba3",
   "metadata": {
    "papermill": {
     "duration": null,
     "end_time": null,
     "exception": null,
     "start_time": null,
     "status": "completed"
    },
    "tags": []
   },
   "outputs": [],
   "source": [
    "predictions = knn_model.predict(X_class_test)"
   ]
  },
  {
   "cell_type": "markdown",
   "id": "055f6ea6",
   "metadata": {
    "papermill": {
     "duration": null,
     "end_time": null,
     "exception": null,
     "start_time": null,
     "status": "completed"
    },
    "tags": []
   },
   "source": [
    "##### Đánh giá mô hình"
   ]
  },
  {
   "cell_type": "code",
   "execution_count": null,
   "id": "c81e5486",
   "metadata": {
    "papermill": {
     "duration": null,
     "end_time": null,
     "exception": null,
     "start_time": null,
     "status": "completed"
    },
    "tags": []
   },
   "outputs": [],
   "source": [
    "report = classification_report(y_class_test, predictions)\n",
    "print(report)"
   ]
  },
  {
   "cell_type": "code",
   "execution_count": null,
   "id": "69c02894",
   "metadata": {
    "papermill": {
     "duration": null,
     "end_time": null,
     "exception": null,
     "start_time": null,
     "status": "completed"
    },
    "tags": []
   },
   "outputs": [],
   "source": [
    "import matplotlib.pyplot as plt\n",
    "from sklearn.metrics import confusion_matrix\n",
    "import seaborn as sns\n",
    "# Tính ma trận nhầm lẫn\n",
    "conf_matrix = confusion_matrix(y_class_test, predictions)\n",
    "# Tạo biểu đồ dạng heatmap\n",
    "plt.figure(figsize=(8, 6))\n",
    "sns.heatmap(conf_matrix, annot=True, fmt='d', cmap='Blues')\n",
    "plt.xlabel('Predicted')\n",
    "plt.ylabel('Actual')\n",
    "plt.title('Confusion Matrix')\n",
    "plt.show()\n"
   ]
  },
  {
   "cell_type": "code",
   "execution_count": null,
   "id": "e407f840",
   "metadata": {
    "papermill": {
     "duration": null,
     "end_time": null,
     "exception": null,
     "start_time": null,
     "status": "completed"
    },
    "tags": []
   },
   "outputs": [],
   "source": [
    "sensitivity_class_0 = recall_score(y_class_test == 0, predictions == 0)\n",
    "sensitivity_class_1 = recall_score(y_class_test == 1, predictions == 1)\n",
    "sensitivity_class_2 = recall_score(y_class_test == 2, predictions == 2)\n",
    "sensitivity_class_3 = recall_score(y_class_test == 3, predictions == 3)\n",
    "sensitivity_class_4 = recall_score(y_class_test == 4, predictions == 4)\n",
    "\n",
    "import matplotlib.pyplot as plt\n",
    "\n",
    "# Sử dụng recall_score để tính sensitivity cho từng lớp\n",
    "from sklearn.metrics import recall_score\n",
    "\n",
    "# Giả sử bạn đã tính được sensitivity cho các lớp\n",
    "sensitivity_scores = [sensitivity_class_0,sensitivity_class_1, sensitivity_class_2, sensitivity_class_3, sensitivity_class_4]\n",
    "\n",
    "# Tên của các lớp\n",
    "class_names = ['Class 0','Class 1', 'Class 2', 'Class 3', 'Class 4']\n",
    "\n",
    "# Vẽ biểu đồ cột\n",
    "plt.figure(figsize=(8, 6))\n",
    "plt.bar(class_names, sensitivity_scores, color='skyblue')\n",
    "plt.title('Sensitivity for Each Class')\n",
    "plt.xlabel('Class')\n",
    "plt.ylabel('Sensitivity')\n",
    "plt.ylim(0, 1)  # Đặt giới hạn trục y từ 0 đến 1 để hiển thị độ nhạy từ 0% đến 100%\n",
    "plt.show()\n"
   ]
  },
  {
   "cell_type": "markdown",
   "id": "3f7c2d82",
   "metadata": {
    "papermill": {
     "duration": null,
     "end_time": null,
     "exception": null,
     "start_time": null,
     "status": "completed"
    },
    "tags": []
   },
   "source": [
    "#### Random Forest"
   ]
  },
  {
   "cell_type": "code",
   "execution_count": null,
   "id": "31aafb3e",
   "metadata": {
    "papermill": {
     "duration": null,
     "end_time": null,
     "exception": null,
     "start_time": null,
     "status": "completed"
    },
    "tags": []
   },
   "outputs": [],
   "source": [
    "from sklearn.ensemble import RandomForestClassifier\n",
    "\n",
    "# Khởi tạo mô hình KNeighborsClassifier với số hàng xóm (neighbors) cần xem xét\n",
    "rf_model = RandomForestClassifier(n_estimators=100, random_state=42)  # Tuỳ chỉnh số cây (n_estimators) nếu cần"
   ]
  },
  {
   "cell_type": "code",
   "execution_count": null,
   "id": "bf57c5ed",
   "metadata": {
    "papermill": {
     "duration": null,
     "end_time": null,
     "exception": null,
     "start_time": null,
     "status": "completed"
    },
    "tags": []
   },
   "outputs": [],
   "source": [
    "rf_model.fit(X_class_train, y_class_train)"
   ]
  },
  {
   "cell_type": "code",
   "execution_count": null,
   "id": "5ebc38ff",
   "metadata": {
    "papermill": {
     "duration": null,
     "end_time": null,
     "exception": null,
     "start_time": null,
     "status": "completed"
    },
    "tags": []
   },
   "outputs": [],
   "source": [
    "predictions = rf_model.predict(X_class_test)"
   ]
  },
  {
   "cell_type": "markdown",
   "id": "24ee12c0",
   "metadata": {
    "papermill": {
     "duration": null,
     "end_time": null,
     "exception": null,
     "start_time": null,
     "status": "completed"
    },
    "tags": []
   },
   "source": [
    "##### Danh gia mo hinh"
   ]
  },
  {
   "cell_type": "code",
   "execution_count": null,
   "id": "3216cb20",
   "metadata": {
    "papermill": {
     "duration": null,
     "end_time": null,
     "exception": null,
     "start_time": null,
     "status": "completed"
    },
    "tags": []
   },
   "outputs": [],
   "source": [
    "report = classification_report(y_class_test, predictions)\n",
    "print(report)"
   ]
  },
  {
   "cell_type": "code",
   "execution_count": null,
   "id": "0f65a4ad",
   "metadata": {
    "papermill": {
     "duration": null,
     "end_time": null,
     "exception": null,
     "start_time": null,
     "status": "completed"
    },
    "tags": []
   },
   "outputs": [],
   "source": [
    "# Tính ma trận nhầm lẫn\n",
    "conf_matrix = confusion_matrix(y_class_test, predictions)\n",
    "# Tạo biểu đồ dạng heatmap\n",
    "plt.figure(figsize=(8, 6))\n",
    "sns.heatmap(conf_matrix, annot=True, fmt='d', cmap='Blues')\n",
    "plt.xlabel('Predicted')\n",
    "plt.ylabel('Actual')\n",
    "plt.title('Confusion Matrix')\n",
    "plt.show()\n"
   ]
  },
  {
   "cell_type": "code",
   "execution_count": null,
   "id": "ff5ef632",
   "metadata": {
    "papermill": {
     "duration": null,
     "end_time": null,
     "exception": null,
     "start_time": null,
     "status": "completed"
    },
    "tags": []
   },
   "outputs": [],
   "source": [
    "sensitivity_class_0 = recall_score(y_class_test == 0, predictions == 0)\n",
    "sensitivity_class_1 = recall_score(y_class_test == 1, predictions == 1)\n",
    "sensitivity_class_2 = recall_score(y_class_test == 2, predictions == 2)\n",
    "sensitivity_class_3 = recall_score(y_class_test == 3, predictions == 3)\n",
    "sensitivity_class_4 = recall_score(y_class_test == 4, predictions == 4)\n",
    "\n",
    "# Giả sử bạn đã tính được sensitivity cho các lớp\n",
    "sensitivity_scores = [sensitivity_class_0,sensitivity_class_1, sensitivity_class_2, sensitivity_class_3, sensitivity_class_4]\n",
    "\n",
    "# Tên của các lớp\n",
    "class_names = ['Class 0','Class 1', 'Class 2', 'Class 3', 'Class 4']\n",
    "\n",
    "# Vẽ biểu đồ cột\n",
    "plt.figure(figsize=(8, 6))\n",
    "plt.bar(class_names, sensitivity_scores, color='skyblue')\n",
    "plt.title('Sensitivity for Each Class')\n",
    "plt.xlabel('Class')\n",
    "plt.ylabel('Sensitivity')\n",
    "plt.ylim(0, 1)  # Đặt giới hạn trục y từ 0 đến 1 để hiển thị độ nhạy từ 0% đến 100%\n",
    "plt.show()\n"
   ]
  },
  {
   "cell_type": "markdown",
   "id": "eff25d34",
   "metadata": {
    "papermill": {
     "duration": null,
     "end_time": null,
     "exception": null,
     "start_time": null,
     "status": "completed"
    },
    "tags": []
   },
   "source": [
    "#### Decision Tree"
   ]
  },
  {
   "cell_type": "markdown",
   "id": "dd84260a",
   "metadata": {
    "papermill": {
     "duration": null,
     "end_time": null,
     "exception": null,
     "start_time": null,
     "status": "completed"
    },
    "tags": []
   },
   "source": [
    "##### Xây dựng mô hình"
   ]
  },
  {
   "cell_type": "code",
   "execution_count": null,
   "id": "fe47100e",
   "metadata": {
    "papermill": {
     "duration": null,
     "end_time": null,
     "exception": null,
     "start_time": null,
     "status": "completed"
    },
    "tags": []
   },
   "outputs": [],
   "source": [
    "from sklearn.tree import DecisionTreeClassifier\n",
    "\n",
    "# Khởi tạo mô hình DecisionTreeClassifier\n",
    "dt_model = DecisionTreeClassifier(random_state=42)"
   ]
  },
  {
   "cell_type": "code",
   "execution_count": null,
   "id": "fff0874e",
   "metadata": {
    "papermill": {
     "duration": null,
     "end_time": null,
     "exception": null,
     "start_time": null,
     "status": "completed"
    },
    "tags": []
   },
   "outputs": [],
   "source": [
    "dt_model.fit(X_class_train, y_class_train)"
   ]
  },
  {
   "cell_type": "code",
   "execution_count": null,
   "id": "544207b9",
   "metadata": {
    "papermill": {
     "duration": null,
     "end_time": null,
     "exception": null,
     "start_time": null,
     "status": "completed"
    },
    "tags": []
   },
   "outputs": [],
   "source": [
    "predictions = dt_model.predict(X_class_test)"
   ]
  },
  {
   "cell_type": "markdown",
   "id": "79baf3df",
   "metadata": {
    "papermill": {
     "duration": null,
     "end_time": null,
     "exception": null,
     "start_time": null,
     "status": "completed"
    },
    "tags": []
   },
   "source": [
    "##### Đánh giá mô hình"
   ]
  },
  {
   "cell_type": "code",
   "execution_count": null,
   "id": "8959f88c",
   "metadata": {
    "papermill": {
     "duration": null,
     "end_time": null,
     "exception": null,
     "start_time": null,
     "status": "completed"
    },
    "tags": []
   },
   "outputs": [],
   "source": [
    "report = classification_report(y_class_test, predictions)\n",
    "print(report)"
   ]
  },
  {
   "cell_type": "code",
   "execution_count": null,
   "id": "4353cee4",
   "metadata": {
    "papermill": {
     "duration": null,
     "end_time": null,
     "exception": null,
     "start_time": null,
     "status": "completed"
    },
    "tags": []
   },
   "outputs": [],
   "source": [
    "# Tính ma trận nhầm lẫn\n",
    "conf_matrix = confusion_matrix(y_class_test, predictions)\n",
    "# Tạo biểu đồ dạng heatmap\n",
    "plt.figure(figsize=(8, 6))\n",
    "sns.heatmap(conf_matrix, annot=True, fmt='d', cmap='Blues')\n",
    "plt.xlabel('Predicted')\n",
    "plt.ylabel('Actual')\n",
    "plt.title('Confusion Matrix')\n",
    "plt.show()\n"
   ]
  },
  {
   "cell_type": "code",
   "execution_count": null,
   "id": "5777e234",
   "metadata": {
    "papermill": {
     "duration": null,
     "end_time": null,
     "exception": null,
     "start_time": null,
     "status": "completed"
    },
    "tags": []
   },
   "outputs": [],
   "source": [
    "sensitivity_class_0 = recall_score(y_class_test == 0, predictions == 0)\n",
    "sensitivity_class_1 = recall_score(y_class_test == 1, predictions == 1)\n",
    "sensitivity_class_2 = recall_score(y_class_test == 2, predictions == 2)\n",
    "sensitivity_class_3 = recall_score(y_class_test == 3, predictions == 3)\n",
    "sensitivity_class_4 = recall_score(y_class_test == 4, predictions == 4)\n",
    "\n",
    "# Giả sử bạn đã tính được sensitivity cho các lớp\n",
    "sensitivity_scores = [sensitivity_class_0,sensitivity_class_1, sensitivity_class_2, sensitivity_class_3, sensitivity_class_4]\n",
    "\n",
    "# Tên của các lớp\n",
    "class_names = ['Class 0','Class 1', 'Class 2', 'Class 3', 'Class 4']\n",
    "\n",
    "# Vẽ biểu đồ cột\n",
    "plt.figure(figsize=(8, 6))\n",
    "plt.bar(class_names, sensitivity_scores, color='skyblue')\n",
    "plt.title('Sensitivity for Each Class')\n",
    "plt.xlabel('Class')\n",
    "plt.ylabel('Sensitivity')\n",
    "plt.ylim(0, 1)  # Đặt giới hạn trục y từ 0 đến 1 để hiển thị độ nhạy từ 0% đến 100%\n",
    "plt.show()\n"
   ]
  },
  {
   "cell_type": "markdown",
   "id": "aac7568c",
   "metadata": {
    "papermill": {
     "duration": null,
     "end_time": null,
     "exception": null,
     "start_time": null,
     "status": "completed"
    },
    "tags": []
   },
   "source": [
    "#### LogisticRegression"
   ]
  },
  {
   "cell_type": "markdown",
   "id": "ea64bfc9",
   "metadata": {
    "papermill": {
     "duration": null,
     "end_time": null,
     "exception": null,
     "start_time": null,
     "status": "completed"
    },
    "tags": []
   },
   "source": [
    "##### Xay dung mo hinh"
   ]
  },
  {
   "cell_type": "code",
   "execution_count": null,
   "id": "fe3ec6c8",
   "metadata": {
    "papermill": {
     "duration": null,
     "end_time": null,
     "exception": null,
     "start_time": null,
     "status": "completed"
    },
    "tags": []
   },
   "outputs": [],
   "source": [
    "from sklearn.linear_model import LogisticRegression\n",
    "# Khởi tạo mô hình Logistic Regression\n",
    "logistic_model = LogisticRegression()\n",
    "# Huấn luyện mô hình trên tập huấn luyện\n",
    "logistic_model.fit(X_class_train, y_class_train)"
   ]
  },
  {
   "cell_type": "code",
   "execution_count": null,
   "id": "9616297c",
   "metadata": {
    "papermill": {
     "duration": null,
     "end_time": null,
     "exception": null,
     "start_time": null,
     "status": "completed"
    },
    "tags": []
   },
   "outputs": [],
   "source": [
    "predictions = logistic_model.predict(X_class_test)"
   ]
  },
  {
   "cell_type": "markdown",
   "id": "85577d6e",
   "metadata": {
    "papermill": {
     "duration": null,
     "end_time": null,
     "exception": null,
     "start_time": null,
     "status": "completed"
    },
    "tags": []
   },
   "source": [
    "##### Danh gia mo hinh"
   ]
  },
  {
   "cell_type": "code",
   "execution_count": null,
   "id": "5d438052",
   "metadata": {
    "papermill": {
     "duration": null,
     "end_time": null,
     "exception": null,
     "start_time": null,
     "status": "completed"
    },
    "tags": []
   },
   "outputs": [],
   "source": [
    "report = classification_report(y_class_test, predictions)\n",
    "print(report)"
   ]
  },
  {
   "cell_type": "code",
   "execution_count": null,
   "id": "ecd1d09c",
   "metadata": {
    "papermill": {
     "duration": null,
     "end_time": null,
     "exception": null,
     "start_time": null,
     "status": "completed"
    },
    "tags": []
   },
   "outputs": [],
   "source": [
    "# Tính ma trận nhầm lẫn\n",
    "conf_matrix = confusion_matrix(y_class_test, predictions)\n",
    "# Tạo biểu đồ dạng heatmap\n",
    "plt.figure(figsize=(8, 6))\n",
    "sns.heatmap(conf_matrix, annot=True, fmt='d', cmap='Blues')\n",
    "plt.xlabel('Predicted')\n",
    "plt.ylabel('Actual')\n",
    "plt.title('Confusion Matrix')\n",
    "plt.show()"
   ]
  },
  {
   "cell_type": "code",
   "execution_count": null,
   "id": "84824668",
   "metadata": {
    "papermill": {
     "duration": null,
     "end_time": null,
     "exception": null,
     "start_time": null,
     "status": "completed"
    },
    "tags": []
   },
   "outputs": [],
   "source": [
    "sensitivity_class_0 = recall_score(y_class_test == 0, predictions == 0)\n",
    "sensitivity_class_1 = recall_score(y_class_test == 1, predictions == 1)\n",
    "sensitivity_class_2 = recall_score(y_class_test == 2, predictions == 2)\n",
    "sensitivity_class_3 = recall_score(y_class_test == 3, predictions == 3)\n",
    "sensitivity_class_4 = recall_score(y_class_test == 4, predictions == 4)\n",
    "\n",
    "# Giả sử bạn đã tính được sensitivity cho các lớp\n",
    "sensitivity_scores = [sensitivity_class_0,sensitivity_class_1, sensitivity_class_2, sensitivity_class_3, sensitivity_class_4]\n",
    "\n",
    "# Tên của các lớp\n",
    "class_names = ['Class 0','Class 1', 'Class 2', 'Class 3', 'Class 4']\n",
    "\n",
    "# Vẽ biểu đồ cột\n",
    "plt.figure(figsize=(8, 6))\n",
    "plt.bar(class_names, sensitivity_scores, color='skyblue')\n",
    "plt.title('Sensitivity for Each Class')\n",
    "plt.xlabel('Class')\n",
    "plt.ylabel('Sensitivity')\n",
    "plt.ylim(0, 1)  # Đặt giới hạn trục y từ 0 đến 1 để hiển thị độ nhạy từ 0% đến 100%\n",
    "plt.show()\n"
   ]
  },
  {
   "cell_type": "markdown",
   "id": "025fe96e",
   "metadata": {
    "papermill": {
     "duration": null,
     "end_time": null,
     "exception": null,
     "start_time": null,
     "status": "completed"
    },
    "tags": []
   },
   "source": [
    "#### NaiveBayes"
   ]
  },
  {
   "cell_type": "markdown",
   "id": "d9030da4",
   "metadata": {
    "papermill": {
     "duration": null,
     "end_time": null,
     "exception": null,
     "start_time": null,
     "status": "completed"
    },
    "tags": []
   },
   "source": [
    "##### Xay dung mo hinh"
   ]
  },
  {
   "cell_type": "code",
   "execution_count": null,
   "id": "7deda06a",
   "metadata": {
    "papermill": {
     "duration": null,
     "end_time": null,
     "exception": null,
     "start_time": null,
     "status": "completed"
    },
    "tags": []
   },
   "outputs": [],
   "source": [
    "from sklearn.naive_bayes import GaussianNB\n",
    "\n",
    "# Khởi tạo mô hình Naive Bayes (Gaussian Naive Bayes)\n",
    "nb_model = GaussianNB()\n",
    "# Huấn luyện mô hình trên tập huấn luyện\n",
    "nb_model.fit(X_class_train, y_class_train)"
   ]
  },
  {
   "cell_type": "code",
   "execution_count": null,
   "id": "298bc601",
   "metadata": {
    "papermill": {
     "duration": null,
     "end_time": null,
     "exception": null,
     "start_time": null,
     "status": "completed"
    },
    "tags": []
   },
   "outputs": [],
   "source": [
    "predictions = nb_model.predict(X_class_test)"
   ]
  },
  {
   "cell_type": "markdown",
   "id": "2545bfc3",
   "metadata": {
    "papermill": {
     "duration": null,
     "end_time": null,
     "exception": null,
     "start_time": null,
     "status": "completed"
    },
    "tags": []
   },
   "source": [
    "##### Danh gia mo hinh"
   ]
  },
  {
   "cell_type": "code",
   "execution_count": null,
   "id": "2d9d7131",
   "metadata": {
    "papermill": {
     "duration": null,
     "end_time": null,
     "exception": null,
     "start_time": null,
     "status": "completed"
    },
    "tags": []
   },
   "outputs": [],
   "source": [
    "report = classification_report(y_class_test, predictions)\n",
    "print(report)"
   ]
  },
  {
   "cell_type": "code",
   "execution_count": null,
   "id": "532aadf0",
   "metadata": {
    "papermill": {
     "duration": null,
     "end_time": null,
     "exception": null,
     "start_time": null,
     "status": "completed"
    },
    "tags": []
   },
   "outputs": [],
   "source": [
    "# Tính ma trận nhầm lẫn\n",
    "conf_matrix = confusion_matrix(y_class_test, predictions)\n",
    "# Tạo biểu đồ dạng heatmap\n",
    "plt.figure(figsize=(8, 6))\n",
    "sns.heatmap(conf_matrix, annot=True, fmt='d', cmap='Blues')\n",
    "plt.xlabel('Predicted')\n",
    "plt.ylabel('Actual')\n",
    "plt.title('Confusion Matrix')\n",
    "plt.show()"
   ]
  },
  {
   "cell_type": "code",
   "execution_count": null,
   "id": "b8de4be9",
   "metadata": {
    "papermill": {
     "duration": null,
     "end_time": null,
     "exception": null,
     "start_time": null,
     "status": "completed"
    },
    "tags": []
   },
   "outputs": [],
   "source": [
    "sensitivity_class_0 = recall_score(y_class_test == 0, predictions == 0)\n",
    "sensitivity_class_1 = recall_score(y_class_test == 1, predictions == 1)\n",
    "sensitivity_class_2 = recall_score(y_class_test == 2, predictions == 2)\n",
    "sensitivity_class_3 = recall_score(y_class_test == 3, predictions == 3)\n",
    "sensitivity_class_4 = recall_score(y_class_test == 4, predictions == 4)\n",
    "\n",
    "# Giả sử bạn đã tính được sensitivity cho các lớp\n",
    "sensitivity_scores = [sensitivity_class_0,sensitivity_class_1, sensitivity_class_2, sensitivity_class_3, sensitivity_class_4]\n",
    "\n",
    "# Tên của các lớp\n",
    "class_names = ['Class 0','Class 1', 'Class 2', 'Class 3', 'Class 4']\n",
    "\n",
    "# Vẽ biểu đồ cột\n",
    "plt.figure(figsize=(8, 6))\n",
    "plt.bar(class_names, sensitivity_scores, color='skyblue')\n",
    "plt.title('Sensitivity for Each Class')\n",
    "plt.xlabel('Class')\n",
    "plt.ylabel('Sensitivity')\n",
    "plt.ylim(0, 1)  # Đặt giới hạn trục y từ 0 đến 1 để hiển thị độ nhạy từ 0% đến 100%\n",
    "plt.show()\n"
   ]
  },
  {
   "cell_type": "markdown",
   "id": "200914de",
   "metadata": {
    "papermill": {
     "duration": null,
     "end_time": null,
     "exception": null,
     "start_time": null,
     "status": "completed"
    },
    "tags": []
   },
   "source": [
    "#### GradientBoostingClassifier"
   ]
  },
  {
   "cell_type": "markdown",
   "id": "6e2f5f05",
   "metadata": {
    "papermill": {
     "duration": null,
     "end_time": null,
     "exception": null,
     "start_time": null,
     "status": "completed"
    },
    "tags": []
   },
   "source": [
    "##### Xay dung mo hinh"
   ]
  },
  {
   "cell_type": "code",
   "execution_count": null,
   "id": "5f688764",
   "metadata": {
    "papermill": {
     "duration": null,
     "end_time": null,
     "exception": null,
     "start_time": null,
     "status": "completed"
    },
    "tags": []
   },
   "outputs": [],
   "source": [
    "from sklearn.ensemble import GradientBoostingClassifier\n",
    "\n",
    "gb_model = GradientBoostingClassifier(random_state=42, n_estimators=100, learning_rate=0.1, max_depth=3)\n",
    "# Đào tạo mô hình Gradient Boosting trên dữ liệu huấn luyện\n",
    "gb_model.fit(X_class_train, y_class_train)"
   ]
  },
  {
   "cell_type": "code",
   "execution_count": null,
   "id": "5b9a50fb",
   "metadata": {
    "papermill": {
     "duration": null,
     "end_time": null,
     "exception": null,
     "start_time": null,
     "status": "completed"
    },
    "tags": []
   },
   "outputs": [],
   "source": [
    "# Dự đoán với mô hình đã đào tạo\n",
    "predictions = gb_model.predict(X_class_test)"
   ]
  },
  {
   "cell_type": "markdown",
   "id": "471821cf",
   "metadata": {
    "papermill": {
     "duration": null,
     "end_time": null,
     "exception": null,
     "start_time": null,
     "status": "completed"
    },
    "tags": []
   },
   "source": [
    "##### Danh gia mo hinh"
   ]
  },
  {
   "cell_type": "code",
   "execution_count": null,
   "id": "cce93484",
   "metadata": {
    "papermill": {
     "duration": null,
     "end_time": null,
     "exception": null,
     "start_time": null,
     "status": "completed"
    },
    "tags": []
   },
   "outputs": [],
   "source": [
    "report = classification_report(y_class_test, predictions)\n",
    "print(report)"
   ]
  },
  {
   "cell_type": "code",
   "execution_count": null,
   "id": "405a7d66",
   "metadata": {
    "papermill": {
     "duration": null,
     "end_time": null,
     "exception": null,
     "start_time": null,
     "status": "completed"
    },
    "tags": []
   },
   "outputs": [],
   "source": [
    "# Tính ma trận nhầm lẫn\n",
    "conf_matrix = confusion_matrix(y_class_test, predictions)\n",
    "# Tạo biểu đồ dạng heatmap\n",
    "plt.figure(figsize=(8, 6))\n",
    "sns.heatmap(conf_matrix, annot=True, fmt='d', cmap='Blues')\n",
    "plt.xlabel('Predicted')\n",
    "plt.ylabel('Actual')\n",
    "plt.title('Confusion Matrix')\n",
    "plt.show()"
   ]
  },
  {
   "cell_type": "code",
   "execution_count": null,
   "id": "6cb4a482",
   "metadata": {
    "papermill": {
     "duration": null,
     "end_time": null,
     "exception": null,
     "start_time": null,
     "status": "completed"
    },
    "tags": []
   },
   "outputs": [],
   "source": [
    "sensitivity_class_0 = recall_score(y_class_test == 0, predictions == 0)\n",
    "sensitivity_class_1 = recall_score(y_class_test == 1, predictions == 1)\n",
    "sensitivity_class_2 = recall_score(y_class_test == 2, predictions == 2)\n",
    "sensitivity_class_3 = recall_score(y_class_test == 3, predictions == 3)\n",
    "sensitivity_class_4 = recall_score(y_class_test == 4, predictions == 4)\n",
    "\n",
    "# Giả sử bạn đã tính được sensitivity cho các lớp\n",
    "sensitivity_scores = [sensitivity_class_0,sensitivity_class_1, sensitivity_class_2, sensitivity_class_3, sensitivity_class_4]\n",
    "\n",
    "# Tên của các lớp\n",
    "class_names = ['Class 0','Class 1', 'Class 2', 'Class 3', 'Class 4']\n",
    "\n",
    "# Vẽ biểu đồ cột\n",
    "plt.figure(figsize=(8, 6))\n",
    "plt.bar(class_names, sensitivity_scores, color='skyblue')\n",
    "plt.title('Sensitivity for Each Class')\n",
    "plt.xlabel('Class')\n",
    "plt.ylabel('Sensitivity')\n",
    "plt.ylim(0, 1)  # Đặt giới hạn trục y từ 0 đến 1 để hiển thị độ nhạy từ 0% đến 100%\n",
    "plt.show()\n"
   ]
  },
  {
   "cell_type": "markdown",
   "id": "3107926d",
   "metadata": {
    "papermill": {
     "duration": null,
     "end_time": null,
     "exception": null,
     "start_time": null,
     "status": "completed"
    },
    "tags": []
   },
   "source": [
    "#### Mô hình SVM"
   ]
  },
  {
   "cell_type": "code",
   "execution_count": null,
   "id": "c533fc57",
   "metadata": {
    "execution": {
     "iopub.execute_input": "2023-11-12T08:11:40.771126Z",
     "iopub.status.busy": "2023-11-12T08:11:40.770732Z",
     "iopub.status.idle": "2023-11-12T08:18:07.571115Z",
     "shell.execute_reply": "2023-11-12T08:18:07.570002Z",
     "shell.execute_reply.started": "2023-11-12T08:11:40.771096Z"
    },
    "papermill": {
     "duration": null,
     "end_time": null,
     "exception": null,
     "start_time": null,
     "status": "completed"
    },
    "tags": []
   },
   "outputs": [],
   "source": [
    "from sklearn.svm import SVC\n",
    "\n",
    "# Khởi tạo mô hình SVM\n",
    "svm_model = SVC(random_state=42)\n",
    "svm_model.fit(X_class_train, y_class_train)\n",
    "predictions = svm_model.predict(X_class_test)\n"
   ]
  },
  {
   "cell_type": "markdown",
   "id": "bee6e147",
   "metadata": {
    "papermill": {
     "duration": null,
     "end_time": null,
     "exception": null,
     "start_time": null,
     "status": "completed"
    },
    "tags": []
   },
   "source": [
    "##### Đánh giá mô hình"
   ]
  },
  {
   "cell_type": "code",
   "execution_count": null,
   "id": "5ec5a284",
   "metadata": {
    "execution": {
     "iopub.execute_input": "2023-11-12T08:19:00.219978Z",
     "iopub.status.busy": "2023-11-12T08:19:00.219435Z",
     "iopub.status.idle": "2023-11-12T08:19:00.263890Z",
     "shell.execute_reply": "2023-11-12T08:19:00.262785Z",
     "shell.execute_reply.started": "2023-11-12T08:19:00.219938Z"
    },
    "papermill": {
     "duration": null,
     "end_time": null,
     "exception": null,
     "start_time": null,
     "status": "completed"
    },
    "tags": []
   },
   "outputs": [],
   "source": [
    "report = classification_report(y_class_test, predictions)\n",
    "print(report)"
   ]
  },
  {
   "cell_type": "code",
   "execution_count": null,
   "id": "9034b4f3",
   "metadata": {
    "execution": {
     "iopub.execute_input": "2023-11-12T08:25:10.422806Z",
     "iopub.status.busy": "2023-11-12T08:25:10.422399Z",
     "iopub.status.idle": "2023-11-12T08:25:10.817804Z",
     "shell.execute_reply": "2023-11-12T08:25:10.816690Z",
     "shell.execute_reply.started": "2023-11-12T08:25:10.422777Z"
    },
    "papermill": {
     "duration": null,
     "end_time": null,
     "exception": null,
     "start_time": null,
     "status": "completed"
    },
    "tags": []
   },
   "outputs": [],
   "source": [
    "# Tính ma trận nhầm lẫn\n",
    "conf_matrix = confusion_matrix(y_class_test, predictions)\n",
    "# Tạo biểu đồ dạng heatmap\n",
    "plt.figure(figsize=(8, 6))\n",
    "sns.heatmap(conf_matrix, annot=True, fmt='d', cmap='Blues')\n",
    "plt.xlabel('Predicted')\n",
    "plt.ylabel('Actual')\n",
    "plt.title('Confusion Matrix')\n",
    "plt.show()"
   ]
  },
  {
   "cell_type": "code",
   "execution_count": null,
   "id": "a4d9f9ef",
   "metadata": {
    "execution": {
     "iopub.execute_input": "2023-11-12T08:29:52.132612Z",
     "iopub.status.busy": "2023-11-12T08:29:52.132196Z",
     "iopub.status.idle": "2023-11-12T08:29:52.453581Z",
     "shell.execute_reply": "2023-11-12T08:29:52.452390Z",
     "shell.execute_reply.started": "2023-11-12T08:29:52.132579Z"
    },
    "papermill": {
     "duration": null,
     "end_time": null,
     "exception": null,
     "start_time": null,
     "status": "completed"
    },
    "tags": []
   },
   "outputs": [],
   "source": [
    "sensitivity_class_0 = recall_score(y_class_test == 0, predictions == 0)\n",
    "sensitivity_class_1 = recall_score(y_class_test == 1, predictions == 1)\n",
    "sensitivity_class_2 = recall_score(y_class_test == 2, predictions == 2)\n",
    "sensitivity_class_3 = recall_score(y_class_test == 3, predictions == 3)\n",
    "sensitivity_class_4 = recall_score(y_class_test == 4, predictions == 4)\n",
    "\n",
    "# Giả sử bạn đã tính được sensitivity cho các lớp\n",
    "sensitivity_scores = [sensitivity_class_0,sensitivity_class_1, sensitivity_class_2, sensitivity_class_3, sensitivity_class_4]\n",
    "\n",
    "# Tên của các lớp\n",
    "class_names = ['Class 0','Class 1', 'Class 2', 'Class 3', 'Class 4']\n",
    "\n",
    "# Vẽ biểu đồ cột\n",
    "plt.figure(figsize=(8, 6))\n",
    "plt.bar(class_names, sensitivity_scores, color='skyblue')\n",
    "plt.title('Sensitivity for Each Class')\n",
    "plt.xlabel('Class')\n",
    "plt.ylabel('Sensitivity')\n",
    "plt.ylim(0, 1)  # Đặt giới hạn trục y từ 0 đến 1 để hiển thị độ nhạy từ 0% đến 100%\n",
    "plt.show()\n"
   ]
  },
  {
   "cell_type": "markdown",
   "id": "2ac96f89",
   "metadata": {
    "papermill": {
     "duration": null,
     "end_time": null,
     "exception": null,
     "start_time": null,
     "status": "completed"
    },
    "tags": []
   },
   "source": [
    "#### Mô hình Multi-layer Perceptron"
   ]
  },
  {
   "cell_type": "code",
   "execution_count": null,
   "id": "c401e606",
   "metadata": {
    "execution": {
     "iopub.execute_input": "2023-11-12T08:29:56.343923Z",
     "iopub.status.busy": "2023-11-12T08:29:56.343518Z",
     "iopub.status.idle": "2023-11-12T08:43:20.979707Z",
     "shell.execute_reply": "2023-11-12T08:43:20.978010Z",
     "shell.execute_reply.started": "2023-11-12T08:29:56.343891Z"
    },
    "papermill": {
     "duration": null,
     "end_time": null,
     "exception": null,
     "start_time": null,
     "status": "completed"
    },
    "tags": []
   },
   "outputs": [],
   "source": [
    "from sklearn.neural_network import MLPClassifier\n",
    "\n",
    "# Khởi tạo mô hình MLP\n",
    "mlp_model = MLPClassifier(random_state=42)\n",
    "mlp_model.fit(X_class_train, y_class_train)\n",
    "predictions = mlp_model.predict(X_class_test)\n"
   ]
  },
  {
   "cell_type": "markdown",
   "id": "59fb81be",
   "metadata": {
    "papermill": {
     "duration": null,
     "end_time": null,
     "exception": null,
     "start_time": null,
     "status": "completed"
    },
    "tags": []
   },
   "source": [
    "##### Đánh giá mô hình"
   ]
  },
  {
   "cell_type": "code",
   "execution_count": null,
   "id": "3294a58b",
   "metadata": {
    "execution": {
     "iopub.execute_input": "2023-11-12T08:43:20.984721Z",
     "iopub.status.busy": "2023-11-12T08:43:20.983462Z",
     "iopub.status.idle": "2023-11-12T08:43:21.079866Z",
     "shell.execute_reply": "2023-11-12T08:43:21.078413Z",
     "shell.execute_reply.started": "2023-11-12T08:43:20.984656Z"
    },
    "papermill": {
     "duration": null,
     "end_time": null,
     "exception": null,
     "start_time": null,
     "status": "completed"
    },
    "tags": []
   },
   "outputs": [],
   "source": [
    "report = classification_report(y_class_test, predictions)\n",
    "print(report)"
   ]
  },
  {
   "cell_type": "code",
   "execution_count": null,
   "id": "ae26a074",
   "metadata": {
    "execution": {
     "iopub.execute_input": "2023-11-12T08:43:21.083698Z",
     "iopub.status.busy": "2023-11-12T08:43:21.082505Z",
     "iopub.status.idle": "2023-11-12T08:43:21.503529Z",
     "shell.execute_reply": "2023-11-12T08:43:21.502238Z",
     "shell.execute_reply.started": "2023-11-12T08:43:21.083638Z"
    },
    "papermill": {
     "duration": null,
     "end_time": null,
     "exception": null,
     "start_time": null,
     "status": "completed"
    },
    "tags": []
   },
   "outputs": [],
   "source": [
    "# Tính ma trận nhầm lẫn\n",
    "conf_matrix = confusion_matrix(y_class_test, predictions)\n",
    "# Tạo biểu đồ dạng heatmap\n",
    "plt.figure(figsize=(8, 6))\n",
    "sns.heatmap(conf_matrix, annot=True, fmt='d', cmap='Blues')\n",
    "plt.xlabel('Predicted')\n",
    "plt.ylabel('Actual')\n",
    "plt.title('Confusion Matrix')\n",
    "plt.show()"
   ]
  },
  {
   "cell_type": "code",
   "execution_count": null,
   "id": "588f0720",
   "metadata": {
    "execution": {
     "iopub.execute_input": "2023-11-12T08:43:21.506009Z",
     "iopub.status.busy": "2023-11-12T08:43:21.505624Z",
     "iopub.status.idle": "2023-11-12T08:43:21.824950Z",
     "shell.execute_reply": "2023-11-12T08:43:21.823841Z",
     "shell.execute_reply.started": "2023-11-12T08:43:21.505976Z"
    },
    "papermill": {
     "duration": null,
     "end_time": null,
     "exception": null,
     "start_time": null,
     "status": "completed"
    },
    "tags": []
   },
   "outputs": [],
   "source": [
    "sensitivity_class_0 = recall_score(y_class_test == 0, predictions == 0)\n",
    "sensitivity_class_1 = recall_score(y_class_test == 1, predictions == 1)\n",
    "sensitivity_class_2 = recall_score(y_class_test == 2, predictions == 2)\n",
    "sensitivity_class_3 = recall_score(y_class_test == 3, predictions == 3)\n",
    "sensitivity_class_4 = recall_score(y_class_test == 4, predictions == 4)\n",
    "\n",
    "# Giả sử bạn đã tính được sensitivity cho các lớp\n",
    "sensitivity_scores = [sensitivity_class_0,sensitivity_class_1, sensitivity_class_2, sensitivity_class_3, sensitivity_class_4]\n",
    "\n",
    "# Tên của các lớp\n",
    "class_names = ['Class 0','Class 1', 'Class 2', 'Class 3', 'Class 4']\n",
    "\n",
    "# Vẽ biểu đồ cột\n",
    "plt.figure(figsize=(8, 6))\n",
    "plt.bar(class_names, sensitivity_scores, color='skyblue')\n",
    "plt.title('Sensitivity for Each Class')\n",
    "plt.xlabel('Class')\n",
    "plt.ylabel('Sensitivity')\n",
    "plt.ylim(0, 1)  # Đặt giới hạn trục y từ 0 đến 1 để hiển thị độ nhạy từ 0% đến 100%\n",
    "plt.show()\n"
   ]
  },
  {
   "cell_type": "markdown",
   "id": "50658f1d",
   "metadata": {
    "papermill": {
     "duration": null,
     "end_time": null,
     "exception": null,
     "start_time": null,
     "status": "completed"
    },
    "tags": []
   },
   "source": [
    "#### Mô hình BiLSTM"
   ]
  },
  {
   "cell_type": "code",
   "execution_count": null,
   "id": "4d66cec2",
   "metadata": {
    "execution": {
     "iopub.execute_input": "2023-11-12T08:44:23.969081Z",
     "iopub.status.busy": "2023-11-12T08:44:23.968665Z",
     "iopub.status.idle": "2023-11-12T09:09:17.242607Z",
     "shell.execute_reply": "2023-11-12T09:09:17.240742Z",
     "shell.execute_reply.started": "2023-11-12T08:44:23.969047Z"
    },
    "papermill": {
     "duration": null,
     "end_time": null,
     "exception": null,
     "start_time": null,
     "status": "completed"
    },
    "tags": []
   },
   "outputs": [],
   "source": [
    "from tensorflow.keras.layers import Bidirectional\n",
    "\n",
    "# Bước: Xây dựng mô hình BiLSTM\n",
    "input_shape = (X_class_train.shape[1], 1)\n",
    "\n",
    "model_bilstm = Sequential()\n",
    "model_bilstm.add(Bidirectional(LSTM(64, input_shape=input_shape, activation='relu', return_sequences=True)))\n",
    "model_bilstm.add(Bidirectional(LSTM(32, activation='relu')))\n",
    "model_bilstm.add(Dense(16, activation='relu'))\n",
    "model_bilstm.add(Dense(5, activation='softmax'))\n",
    "model_bilstm.compile(loss='sparse_categorical_crossentropy', optimizer='adam', metrics=['accuracy'])\n",
    "model_bilstm.fit(X_class_train.reshape(X_class_train.shape[0], X_class_train.shape[1], 1), y_class_train, epochs=5, batch_size=32)\n"
   ]
  },
  {
   "cell_type": "code",
   "execution_count": null,
   "id": "f4aed195",
   "metadata": {
    "execution": {
     "iopub.execute_input": "2023-11-12T09:09:17.245068Z",
     "iopub.status.busy": "2023-11-12T09:09:17.244755Z",
     "iopub.status.idle": "2023-11-12T09:10:13.230534Z",
     "shell.execute_reply": "2023-11-12T09:10:13.229271Z",
     "shell.execute_reply.started": "2023-11-12T09:09:17.245040Z"
    },
    "papermill": {
     "duration": null,
     "end_time": null,
     "exception": null,
     "start_time": null,
     "status": "completed"
    },
    "tags": []
   },
   "outputs": [],
   "source": [
    "predictions_bilstm = model_bilstm.predict(X_class_test)\n",
    "y_pred_classes_bilstm = np.argmax(predictions_bilstm, axis=1)"
   ]
  },
  {
   "cell_type": "markdown",
   "id": "0bde0369",
   "metadata": {
    "papermill": {
     "duration": null,
     "end_time": null,
     "exception": null,
     "start_time": null,
     "status": "completed"
    },
    "tags": []
   },
   "source": [
    "##### Đánh giá mô hình "
   ]
  },
  {
   "cell_type": "code",
   "execution_count": null,
   "id": "99165718",
   "metadata": {
    "execution": {
     "iopub.execute_input": "2023-11-12T09:10:13.232909Z",
     "iopub.status.busy": "2023-11-12T09:10:13.232169Z",
     "iopub.status.idle": "2023-11-12T09:10:13.281680Z",
     "shell.execute_reply": "2023-11-12T09:10:13.280414Z",
     "shell.execute_reply.started": "2023-11-12T09:10:13.232867Z"
    },
    "papermill": {
     "duration": null,
     "end_time": null,
     "exception": null,
     "start_time": null,
     "status": "completed"
    },
    "tags": []
   },
   "outputs": [],
   "source": [
    "from sklearn.metrics import classification_report\n",
    "\n",
    "report = classification_report(y_class_test, y_pred_classes_bilstm)\n",
    "print(report)"
   ]
  },
  {
   "cell_type": "code",
   "execution_count": null,
   "id": "f7e44d5d",
   "metadata": {
    "execution": {
     "iopub.execute_input": "2023-11-12T09:10:13.284766Z",
     "iopub.status.busy": "2023-11-12T09:10:13.284292Z",
     "iopub.status.idle": "2023-11-12T09:10:13.680189Z",
     "shell.execute_reply": "2023-11-12T09:10:13.679051Z",
     "shell.execute_reply.started": "2023-11-12T09:10:13.284733Z"
    },
    "papermill": {
     "duration": null,
     "end_time": null,
     "exception": null,
     "start_time": null,
     "status": "completed"
    },
    "tags": []
   },
   "outputs": [],
   "source": [
    "import matplotlib.pyplot as plt\n",
    "from sklearn.metrics import confusion_matrix\n",
    "import seaborn as sns\n",
    "# Tính ma trận nhầm lẫn\n",
    "conf_matrix = confusion_matrix(y_class_test, y_pred_classes_bilstm)\n",
    "# Tạo biểu đồ dạng heatmap\n",
    "plt.figure(figsize=(8, 6))\n",
    "sns.heatmap(conf_matrix, annot=True, fmt='d', cmap='Blues')\n",
    "plt.xlabel('Predicted')\n",
    "plt.ylabel('Actual')\n",
    "plt.title('Confusion Matrix')\n",
    "plt.show()\n"
   ]
  },
  {
   "cell_type": "code",
   "execution_count": null,
   "id": "3684c764",
   "metadata": {
    "execution": {
     "iopub.execute_input": "2023-11-12T09:10:13.682131Z",
     "iopub.status.busy": "2023-11-12T09:10:13.681715Z",
     "iopub.status.idle": "2023-11-12T09:10:13.998166Z",
     "shell.execute_reply": "2023-11-12T09:10:13.997077Z",
     "shell.execute_reply.started": "2023-11-12T09:10:13.682098Z"
    },
    "papermill": {
     "duration": null,
     "end_time": null,
     "exception": null,
     "start_time": null,
     "status": "completed"
    },
    "tags": []
   },
   "outputs": [],
   "source": [
    "sensitivity_class_0 = recall_score(y_class_test == 0, y_pred_classes_bilstm == 0)\n",
    "sensitivity_class_1 = recall_score(y_class_test == 1, y_pred_classes_bilstm == 1)\n",
    "sensitivity_class_2 = recall_score(y_class_test == 2, y_pred_classes_bilstm == 2)\n",
    "sensitivity_class_3 = recall_score(y_class_test == 3, y_pred_classes_bilstm == 3)\n",
    "sensitivity_class_4 = recall_score(y_class_test == 4, y_pred_classes_bilstm == 4)\n",
    "\n",
    "# Giả sử bạn đã tính được sensitivity cho các lớp\n",
    "sensitivity_scores = [sensitivity_class_0,sensitivity_class_1, sensitivity_class_2, sensitivity_class_3, sensitivity_class_4]\n",
    "\n",
    "# Tên của các lớp\n",
    "class_names = ['Class 0','Class 1', 'Class 2', 'Class 3', 'Class 4']\n",
    "\n",
    "# Vẽ biểu đồ cột\n",
    "plt.figure(figsize=(8, 6))\n",
    "plt.bar(class_names, sensitivity_scores, color='skyblue')\n",
    "plt.title('Sensitivity for Each Class')\n",
    "plt.xlabel('Class')\n",
    "plt.ylabel('Sensitivity')\n",
    "plt.ylim(0, 1)  # Đặt giới hạn trục y từ 0 đến 1 để hiển thị độ nhạy từ 0% đến 100%\n",
    "plt.show()\n"
   ]
  },
  {
   "cell_type": "markdown",
   "id": "4b65e81f",
   "metadata": {
    "papermill": {
     "duration": null,
     "end_time": null,
     "exception": null,
     "start_time": null,
     "status": "completed"
    },
    "tags": []
   },
   "source": [
    "#### Mô hình ANN"
   ]
  },
  {
   "cell_type": "code",
   "execution_count": null,
   "id": "47082f42",
   "metadata": {
    "execution": {
     "iopub.execute_input": "2023-11-12T09:10:13.999910Z",
     "iopub.status.busy": "2023-11-12T09:10:13.999543Z",
     "iopub.status.idle": "2023-11-12T09:11:26.386172Z",
     "shell.execute_reply": "2023-11-12T09:11:26.385130Z",
     "shell.execute_reply.started": "2023-11-12T09:10:13.999880Z"
    },
    "papermill": {
     "duration": null,
     "end_time": null,
     "exception": null,
     "start_time": null,
     "status": "completed"
    },
    "tags": []
   },
   "outputs": [],
   "source": [
    "from tensorflow.keras.models import Sequential\n",
    "from tensorflow.keras.layers import Dense\n",
    "\n",
    "# Bước: Xây dựng mô hình ANN\n",
    "input_shape = X_class_train.shape[1]  # Số lượng đặc trưng đầu vào\n",
    "\n",
    "model_ann = Sequential()\n",
    "model_ann.add(Dense(64, input_shape=(input_shape,), activation='relu'))\n",
    "model_ann.add(Dense(32, activation='relu'))\n",
    "model_ann.add(Dense(16, activation='relu'))\n",
    "model_ann.add(Dense(5, activation='softmax'))\n",
    "\n",
    "model_ann.compile(loss='sparse_categorical_crossentropy', optimizer='adam', metrics=['accuracy'])\n",
    "model_ann.fit(X_class_train, y_class_train, epochs=10, batch_size=32)\n",
    "predictions_ann = model_ann.predict(X_class_test)\n",
    "predictions = np.argmax(predictions_ann, axis=1)"
   ]
  },
  {
   "cell_type": "markdown",
   "id": "0c367768",
   "metadata": {
    "papermill": {
     "duration": null,
     "end_time": null,
     "exception": null,
     "start_time": null,
     "status": "completed"
    },
    "tags": []
   },
   "source": [
    "##### Đánh giá mô hình"
   ]
  },
  {
   "cell_type": "code",
   "execution_count": null,
   "id": "a62caa63",
   "metadata": {
    "execution": {
     "iopub.execute_input": "2023-11-12T09:11:26.388161Z",
     "iopub.status.busy": "2023-11-12T09:11:26.387792Z",
     "iopub.status.idle": "2023-11-12T09:11:26.434007Z",
     "shell.execute_reply": "2023-11-12T09:11:26.433114Z",
     "shell.execute_reply.started": "2023-11-12T09:11:26.388129Z"
    },
    "papermill": {
     "duration": null,
     "end_time": null,
     "exception": null,
     "start_time": null,
     "status": "completed"
    },
    "tags": []
   },
   "outputs": [],
   "source": [
    "report = classification_report(y_class_test, predictions)\n",
    "print(report)"
   ]
  },
  {
   "cell_type": "code",
   "execution_count": null,
   "id": "eef0e94c",
   "metadata": {
    "execution": {
     "iopub.execute_input": "2023-11-12T09:11:26.436284Z",
     "iopub.status.busy": "2023-11-12T09:11:26.435290Z",
     "iopub.status.idle": "2023-11-12T09:11:26.836800Z",
     "shell.execute_reply": "2023-11-12T09:11:26.835614Z",
     "shell.execute_reply.started": "2023-11-12T09:11:26.436148Z"
    },
    "papermill": {
     "duration": null,
     "end_time": null,
     "exception": null,
     "start_time": null,
     "status": "completed"
    },
    "tags": []
   },
   "outputs": [],
   "source": [
    "# Tính ma trận nhầm lẫn\n",
    "conf_matrix = confusion_matrix(y_class_test, predictions)\n",
    "# Tạo biểu đồ dạng heatmap\n",
    "plt.figure(figsize=(8, 6))\n",
    "sns.heatmap(conf_matrix, annot=True, fmt='d', cmap='Blues')\n",
    "plt.xlabel('Predicted')\n",
    "plt.ylabel('Actual')\n",
    "plt.title('Confusion Matrix')\n",
    "plt.show()"
   ]
  },
  {
   "cell_type": "code",
   "execution_count": null,
   "id": "d82448c7",
   "metadata": {
    "execution": {
     "iopub.execute_input": "2023-11-12T09:11:26.839147Z",
     "iopub.status.busy": "2023-11-12T09:11:26.838473Z",
     "iopub.status.idle": "2023-11-12T09:11:27.157766Z",
     "shell.execute_reply": "2023-11-12T09:11:27.156594Z",
     "shell.execute_reply.started": "2023-11-12T09:11:26.839107Z"
    },
    "papermill": {
     "duration": null,
     "end_time": null,
     "exception": null,
     "start_time": null,
     "status": "completed"
    },
    "tags": []
   },
   "outputs": [],
   "source": [
    "sensitivity_class_0 = recall_score(y_class_test == 0, predictions == 0)\n",
    "sensitivity_class_1 = recall_score(y_class_test == 1, predictions == 1)\n",
    "sensitivity_class_2 = recall_score(y_class_test == 2, predictions == 2)\n",
    "sensitivity_class_3 = recall_score(y_class_test == 3, predictions == 3)\n",
    "sensitivity_class_4 = recall_score(y_class_test == 4, predictions == 4)\n",
    "\n",
    "# Giả sử bạn đã tính được sensitivity cho các lớp\n",
    "sensitivity_scores = [sensitivity_class_0,sensitivity_class_1, sensitivity_class_2, sensitivity_class_3, sensitivity_class_4]\n",
    "\n",
    "# Tên của các lớp\n",
    "class_names = ['Class 0','Class 1', 'Class 2', 'Class 3', 'Class 4']\n",
    "\n",
    "# Vẽ biểu đồ cột\n",
    "plt.figure(figsize=(8, 6))\n",
    "plt.bar(class_names, sensitivity_scores, color='skyblue')\n",
    "plt.title('Sensitivity for Each Class')\n",
    "plt.xlabel('Class')\n",
    "plt.ylabel('Sensitivity')\n",
    "plt.ylim(0, 1)  # Đặt giới hạn trục y từ 0 đến 1 để hiển thị độ nhạy từ 0% đến 100%\n",
    "plt.show()\n"
   ]
  },
  {
   "cell_type": "markdown",
   "id": "0dc77e5a",
   "metadata": {
    "papermill": {
     "duration": null,
     "end_time": null,
     "exception": null,
     "start_time": null,
     "status": "completed"
    },
    "tags": []
   },
   "source": [
    "#### Mô hình CNN"
   ]
  },
  {
   "cell_type": "code",
   "execution_count": null,
   "id": "f868a690",
   "metadata": {
    "execution": {
     "iopub.execute_input": "2023-11-12T10:08:00.554982Z",
     "iopub.status.busy": "2023-11-12T10:08:00.554588Z",
     "iopub.status.idle": "2023-11-12T10:18:26.592515Z",
     "shell.execute_reply": "2023-11-12T10:18:26.591086Z",
     "shell.execute_reply.started": "2023-11-12T10:08:00.554952Z"
    },
    "papermill": {
     "duration": null,
     "end_time": null,
     "exception": null,
     "start_time": null,
     "status": "completed"
    },
    "tags": []
   },
   "outputs": [],
   "source": [
    "from tensorflow.keras.models import Sequential\n",
    "from tensorflow.keras.layers import Conv1D, MaxPooling1D, LSTM, Dense, Flatten\n",
    "\n",
    "# Bước: Xây dựng mô hình CNN từ đoạn code LSTM\n",
    "input_shape = (X_class_train.shape[1], 1)\n",
    "\n",
    "model_cnn = Sequential()\n",
    "model_cnn.add(Conv1D(filters=32, kernel_size=3, activation='relu', input_shape=input_shape))\n",
    "model_cnn.add(MaxPooling1D(pool_size=2))\n",
    "model_cnn.add(LSTM(64, activation='relu', return_sequences=True))\n",
    "model_cnn.add(LSTM(32, activation='relu'))\n",
    "model_cnn.add(Dense(16, activation='relu'))\n",
    "model_cnn.add(Dense(5, activation='softmax'))\n",
    "\n",
    "model_cnn.compile(loss='sparse_categorical_crossentropy', optimizer='adam', metrics=['accuracy'])\n",
    "model_cnn.fit(X_class_train, y_class_train, epochs=5, batch_size=32)\n"
   ]
  },
  {
   "cell_type": "code",
   "execution_count": null,
   "id": "82f21709",
   "metadata": {
    "execution": {
     "iopub.execute_input": "2023-11-12T10:18:26.595425Z",
     "iopub.status.busy": "2023-11-12T10:18:26.594939Z",
     "iopub.status.idle": "2023-11-12T10:18:53.423120Z",
     "shell.execute_reply": "2023-11-12T10:18:53.421095Z",
     "shell.execute_reply.started": "2023-11-12T10:18:26.595383Z"
    },
    "papermill": {
     "duration": null,
     "end_time": null,
     "exception": null,
     "start_time": null,
     "status": "completed"
    },
    "tags": []
   },
   "outputs": [],
   "source": [
    "predictions = model_cnn.predict(X_class_test)\n",
    "predictions = np.argmax(predictions, axis=1)"
   ]
  },
  {
   "cell_type": "markdown",
   "id": "f35ca476",
   "metadata": {
    "papermill": {
     "duration": null,
     "end_time": null,
     "exception": null,
     "start_time": null,
     "status": "completed"
    },
    "tags": []
   },
   "source": [
    "##### Đánh giá mô hình"
   ]
  },
  {
   "cell_type": "code",
   "execution_count": null,
   "id": "e718034c",
   "metadata": {
    "execution": {
     "iopub.execute_input": "2023-11-12T10:20:57.790273Z",
     "iopub.status.busy": "2023-11-12T10:20:57.789831Z",
     "iopub.status.idle": "2023-11-12T10:20:57.834406Z",
     "shell.execute_reply": "2023-11-12T10:20:57.833122Z",
     "shell.execute_reply.started": "2023-11-12T10:20:57.790237Z"
    },
    "papermill": {
     "duration": null,
     "end_time": null,
     "exception": null,
     "start_time": null,
     "status": "completed"
    },
    "tags": []
   },
   "outputs": [],
   "source": [
    "report = classification_report(y_class_test, predictions)\n",
    "print(report)"
   ]
  },
  {
   "cell_type": "code",
   "execution_count": null,
   "id": "02422a8b",
   "metadata": {
    "execution": {
     "iopub.execute_input": "2023-11-12T10:21:03.666882Z",
     "iopub.status.busy": "2023-11-12T10:21:03.666431Z",
     "iopub.status.idle": "2023-11-12T10:21:04.068949Z",
     "shell.execute_reply": "2023-11-12T10:21:04.067963Z",
     "shell.execute_reply.started": "2023-11-12T10:21:03.666847Z"
    },
    "papermill": {
     "duration": null,
     "end_time": null,
     "exception": null,
     "start_time": null,
     "status": "completed"
    },
    "tags": []
   },
   "outputs": [],
   "source": [
    "# Tính ma trận nhầm lẫn\n",
    "conf_matrix = confusion_matrix(y_class_test, predictions)\n",
    "# Tạo biểu đồ dạng heatmap\n",
    "plt.figure(figsize=(8, 6))\n",
    "sns.heatmap(conf_matrix, annot=True, fmt='d', cmap='Blues')\n",
    "plt.xlabel('Predicted')\n",
    "plt.ylabel('Actual')\n",
    "plt.title('Confusion Matrix')\n",
    "plt.show()"
   ]
  },
  {
   "cell_type": "code",
   "execution_count": null,
   "id": "f3cf079c",
   "metadata": {
    "execution": {
     "iopub.execute_input": "2023-11-12T09:33:20.778563Z",
     "iopub.status.busy": "2023-11-12T09:33:20.778096Z",
     "iopub.status.idle": "2023-11-12T09:33:21.099906Z",
     "shell.execute_reply": "2023-11-12T09:33:21.098742Z",
     "shell.execute_reply.started": "2023-11-12T09:33:20.778520Z"
    },
    "papermill": {
     "duration": null,
     "end_time": null,
     "exception": null,
     "start_time": null,
     "status": "completed"
    },
    "tags": []
   },
   "outputs": [],
   "source": [
    "sensitivity_class_0 = recall_score(y_class_test == 0, predictions == 0)\n",
    "sensitivity_class_1 = recall_score(y_class_test == 1, predictions == 1)\n",
    "sensitivity_class_2 = recall_score(y_class_test == 2, predictions == 2)\n",
    "sensitivity_class_3 = recall_score(y_class_test == 3, predictions == 3)\n",
    "sensitivity_class_4 = recall_score(y_class_test == 4, predictions == 4)\n",
    "\n",
    "# Giả sử bạn đã tính được sensitivity cho các lớp\n",
    "sensitivity_scores = [sensitivity_class_0,sensitivity_class_1, sensitivity_class_2, sensitivity_class_3, sensitivity_class_4]\n",
    "\n",
    "# Tên của các lớp\n",
    "class_names = ['Class 0','Class 1', 'Class 2', 'Class 3', 'Class 4']\n",
    "\n",
    "# Vẽ biểu đồ cột\n",
    "plt.figure(figsize=(8, 6))\n",
    "plt.bar(class_names, sensitivity_scores, color='skyblue')\n",
    "plt.title('Sensitivity for Each Class')\n",
    "plt.xlabel('Class')\n",
    "plt.ylabel('Sensitivity')\n",
    "plt.ylim(0, 1)  # Đặt giới hạn trục y từ 0 đến 1 để hiển thị độ nhạy từ 0% đến 100%\n",
    "plt.show()\n"
   ]
  },
  {
   "cell_type": "markdown",
   "id": "df8dbe70",
   "metadata": {
    "papermill": {
     "duration": null,
     "end_time": null,
     "exception": null,
     "start_time": null,
     "status": "completed"
    },
    "tags": []
   },
   "source": [
    "#### Mô hình RNN"
   ]
  },
  {
   "cell_type": "code",
   "execution_count": null,
   "id": "831438b7",
   "metadata": {
    "execution": {
     "iopub.execute_input": "2023-11-12T10:21:59.580325Z",
     "iopub.status.busy": "2023-11-12T10:21:59.579902Z",
     "iopub.status.idle": "2023-11-12T10:37:24.685498Z",
     "shell.execute_reply": "2023-11-12T10:37:24.684197Z",
     "shell.execute_reply.started": "2023-11-12T10:21:59.580292Z"
    },
    "papermill": {
     "duration": null,
     "end_time": null,
     "exception": null,
     "start_time": null,
     "status": "completed"
    },
    "tags": []
   },
   "outputs": [],
   "source": [
    "from tensorflow.keras.layers import SimpleRNN\n",
    "\n",
    "# Bước: Xây dựng mô hình RNN dựa trên mô hình LSTM đã có\n",
    "input_shape = (X_class_train.shape[1], 1)\n",
    "\n",
    "model_rnn = Sequential()\n",
    "model_rnn.add(LSTM(64, input_shape=input_shape, activation='relu', return_sequences=True))\n",
    "model_rnn.add(SimpleRNN(32, activation='relu'))\n",
    "model_rnn.add(Dense(16, activation='relu'))\n",
    "model_rnn.add(Dense(5, activation='softmax'))\n",
    "\n",
    "model_rnn.compile(loss='sparse_categorical_crossentropy', optimizer='adam', metrics=['accuracy'])\n",
    "model_rnn.fit(X_class_train, y_class_train, epochs=5, batch_size=32)"
   ]
  },
  {
   "cell_type": "code",
   "execution_count": null,
   "id": "7caf9959",
   "metadata": {
    "execution": {
     "iopub.execute_input": "2023-11-12T10:37:24.688400Z",
     "iopub.status.busy": "2023-11-12T10:37:24.688037Z",
     "iopub.status.idle": "2023-11-12T10:38:05.990911Z",
     "shell.execute_reply": "2023-11-12T10:38:05.989813Z",
     "shell.execute_reply.started": "2023-11-12T10:37:24.688369Z"
    },
    "papermill": {
     "duration": null,
     "end_time": null,
     "exception": null,
     "start_time": null,
     "status": "completed"
    },
    "tags": []
   },
   "outputs": [],
   "source": [
    "predictions_rnn = model_rnn.predict(X_class_test)\n",
    "predictions = np.argmax(predictions_rnn, axis=1)"
   ]
  },
  {
   "cell_type": "markdown",
   "id": "8bc67066",
   "metadata": {
    "papermill": {
     "duration": null,
     "end_time": null,
     "exception": null,
     "start_time": null,
     "status": "completed"
    },
    "tags": []
   },
   "source": [
    "##### Đánh giá mô hình"
   ]
  },
  {
   "cell_type": "code",
   "execution_count": null,
   "id": "28773815",
   "metadata": {
    "execution": {
     "iopub.execute_input": "2023-11-12T10:38:05.993747Z",
     "iopub.status.busy": "2023-11-12T10:38:05.992890Z",
     "iopub.status.idle": "2023-11-12T10:38:06.038414Z",
     "shell.execute_reply": "2023-11-12T10:38:06.037327Z",
     "shell.execute_reply.started": "2023-11-12T10:38:05.993703Z"
    },
    "papermill": {
     "duration": null,
     "end_time": null,
     "exception": null,
     "start_time": null,
     "status": "completed"
    },
    "tags": []
   },
   "outputs": [],
   "source": [
    "report = classification_report(y_class_test, predictions)\n",
    "print(report)"
   ]
  },
  {
   "cell_type": "code",
   "execution_count": null,
   "id": "d28fffb5",
   "metadata": {
    "execution": {
     "iopub.execute_input": "2023-11-12T10:38:06.042249Z",
     "iopub.status.busy": "2023-11-12T10:38:06.041194Z",
     "iopub.status.idle": "2023-11-12T10:38:06.434818Z",
     "shell.execute_reply": "2023-11-12T10:38:06.433315Z",
     "shell.execute_reply.started": "2023-11-12T10:38:06.042205Z"
    },
    "papermill": {
     "duration": null,
     "end_time": null,
     "exception": null,
     "start_time": null,
     "status": "completed"
    },
    "tags": []
   },
   "outputs": [],
   "source": [
    "# Tính ma trận nhầm lẫn\n",
    "conf_matrix = confusion_matrix(y_class_test, predictions)\n",
    "# Tạo biểu đồ dạng heatmap\n",
    "plt.figure(figsize=(8, 6))\n",
    "sns.heatmap(conf_matrix, annot=True, fmt='d', cmap='Blues')\n",
    "plt.xlabel('Predicted')\n",
    "plt.ylabel('Actual')\n",
    "plt.title('Confusion Matrix')\n",
    "plt.show()"
   ]
  },
  {
   "cell_type": "code",
   "execution_count": null,
   "id": "ef34a0b7",
   "metadata": {
    "execution": {
     "iopub.execute_input": "2023-11-12T10:38:06.436727Z",
     "iopub.status.busy": "2023-11-12T10:38:06.436300Z",
     "iopub.status.idle": "2023-11-12T10:38:06.758912Z",
     "shell.execute_reply": "2023-11-12T10:38:06.757658Z",
     "shell.execute_reply.started": "2023-11-12T10:38:06.436693Z"
    },
    "papermill": {
     "duration": null,
     "end_time": null,
     "exception": null,
     "start_time": null,
     "status": "completed"
    },
    "tags": []
   },
   "outputs": [],
   "source": [
    "sensitivity_class_0 = recall_score(y_class_test == 0, predictions == 0)\n",
    "sensitivity_class_1 = recall_score(y_class_test == 1, predictions == 1)\n",
    "sensitivity_class_2 = recall_score(y_class_test == 2, predictions == 2)\n",
    "sensitivity_class_3 = recall_score(y_class_test == 3, predictions == 3)\n",
    "sensitivity_class_4 = recall_score(y_class_test == 4, predictions == 4)\n",
    "\n",
    "# Giả sử bạn đã tính được sensitivity cho các lớp\n",
    "sensitivity_scores = [sensitivity_class_0,sensitivity_class_1, sensitivity_class_2, sensitivity_class_3, sensitivity_class_4]\n",
    "\n",
    "# Tên của các lớp\n",
    "class_names = ['Class 0','Class 1', 'Class 2', 'Class 3', 'Class 4']\n",
    "\n",
    "# Vẽ biểu đồ cột\n",
    "plt.figure(figsize=(8, 6))\n",
    "plt.bar(class_names, sensitivity_scores, color='skyblue')\n",
    "plt.title('Sensitivity for Each Class')\n",
    "plt.xlabel('Class')\n",
    "plt.ylabel('Sensitivity')\n",
    "plt.ylim(0, 1)  # Đặt giới hạn trục y từ 0 đến 1 để hiển thị độ nhạy từ 0% đến 100%\n",
    "plt.show()\n"
   ]
  },
  {
   "cell_type": "markdown",
   "id": "b41ade5a",
   "metadata": {
    "papermill": {
     "duration": null,
     "end_time": null,
     "exception": null,
     "start_time": null,
     "status": "completed"
    },
    "tags": []
   },
   "source": [
    "##### Đánh giá"
   ]
  },
  {
   "cell_type": "code",
   "execution_count": null,
   "id": "8b8d181c",
   "metadata": {
    "papermill": {
     "duration": null,
     "end_time": null,
     "exception": null,
     "start_time": null,
     "status": "completed"
    },
    "tags": []
   },
   "outputs": [],
   "source": [
    "# Tính ma trận nhầm lẫn\n",
    "conf_matrix = confusion_matrix(y_class_test, predictions)\n",
    "# Tạo biểu đồ dạng heatmap\n",
    "plt.figure(figsize=(8, 6))\n",
    "sns.heatmap(conf_matrix, annot=True, fmt='d', cmap='Blues')\n",
    "plt.xlabel('Predicted')\n",
    "plt.ylabel('Actual')\n",
    "plt.title('Confusion Matrix')\n",
    "plt.show()"
   ]
  },
  {
   "cell_type": "code",
   "execution_count": null,
   "id": "3d82f7bb",
   "metadata": {
    "papermill": {
     "duration": null,
     "end_time": null,
     "exception": null,
     "start_time": null,
     "status": "completed"
    },
    "tags": []
   },
   "outputs": [],
   "source": [
    "sensitivity_class_0 = recall_score(y_class_test == 0, predictions == 0)\n",
    "sensitivity_class_1 = recall_score(y_class_test == 1, predictions == 1)\n",
    "sensitivity_class_2 = recall_score(y_class_test == 2, predictions == 2)\n",
    "sensitivity_class_3 = recall_score(y_class_test == 3, predictions == 3)\n",
    "sensitivity_class_4 = recall_score(y_class_test == 4, predictions == 4)\n",
    "\n",
    "# Giả sử bạn đã tính được sensitivity cho các lớp\n",
    "sensitivity_scores = [sensitivity_class_0,sensitivity_class_1, sensitivity_class_2, sensitivity_class_3, sensitivity_class_4]\n",
    "\n",
    "# Tên của các lớp\n",
    "class_names = ['Class 0','Class 1', 'Class 2', 'Class 3', 'Class 4']\n",
    "\n",
    "# Vẽ biểu đồ cột\n",
    "plt.figure(figsize=(8, 6))\n",
    "plt.bar(class_names, sensitivity_scores, color='skyblue')\n",
    "plt.title('Sensitivity for Each Class')\n",
    "plt.xlabel('Class')\n",
    "plt.ylabel('Sensitivity')\n",
    "plt.ylim(0, 1)  # Đặt giới hạn trục y từ 0 đến 1 để hiển thị độ nhạy từ 0% đến 100%\n",
    "plt.show()\n"
   ]
  }
 ],
 "metadata": {
  "kaggle": {
   "accelerator": "none",
   "dataSources": [
    {
     "datasetId": 3964007,
     "sourceId": 6900878,
     "sourceType": "datasetVersion"
    }
   ],
   "dockerImageVersionId": 30558,
   "isGpuEnabled": false,
   "isInternetEnabled": false,
   "language": "python",
   "sourceType": "notebook"
  },
  "kernelspec": {
   "display_name": "Python 3",
   "language": "python",
   "name": "python3"
  },
  "language_info": {
   "codemirror_mode": {
    "name": "ipython",
    "version": 3
   },
   "file_extension": ".py",
   "mimetype": "text/x-python",
   "name": "python",
   "nbconvert_exporter": "python",
   "pygments_lexer": "ipython3",
   "version": "3.6.4"
  },
  "papermill": {
   "default_parameters": {},
   "duration": 60.286025,
   "end_time": "2023-12-09T16:59:26.156507",
   "environment_variables": {},
   "exception": null,
   "input_path": "__notebook__.ipynb",
   "output_path": "__notebook__.ipynb",
   "parameters": {},
   "start_time": "2023-12-09T16:58:25.870482",
   "version": "2.4.0"
  }
 },
 "nbformat": 4,
 "nbformat_minor": 5
}
