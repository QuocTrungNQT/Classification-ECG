{
 "cells": [
  {
   "cell_type": "code",
   "execution_count": 12,
   "metadata": {},
   "outputs": [],
   "source": [
    "import numpy as np\n",
    "import pandas as pd\n",
    "from sklearn.preprocessing import MinMaxScaler\n",
    "from tensorflow.keras.models import Sequential\n",
    "from tensorflow.keras.layers import LSTM, Dense, TimeDistributed\n",
    "from sklearn.model_selection import train_test_split\n",
    "from matplotlib import pyplot as plt\n",
    "import seaborn as sns\n",
    "import tensorflow as tf\n",
    "import os"
   ]
  },
  {
   "cell_type": "markdown",
   "metadata": {},
   "source": [
    "# Configuration"
   ]
  },
  {
   "cell_type": "code",
   "execution_count": 16,
   "metadata": {},
   "outputs": [],
   "source": [
    "data_path = '../File CSV/MIT-BIH/'\n",
    "window_input= 10\n",
    "window_out=5\n",
    "train_size = 0.8\n",
    "test_size = 1 - train_size\n",
    "data_set = {\n",
    "  0: \"testset\",\n",
    "  1: \"trainset\"\n",
    "}"
   ]
  },
  {
   "cell_type": "markdown",
   "metadata": {},
   "source": [
    "# Start"
   ]
  },
  {
   "cell_type": "markdown",
   "metadata": {},
   "source": [
    "DỰ ĐOÁN TÍN HIỆU ECG"
   ]
  },
  {
   "cell_type": "code",
   "execution_count": 23,
   "metadata": {},
   "outputs": [],
   "source": [
    "def get_data(istrainset):    \n",
    "    missing_file = 0\n",
    "    total_sample = 0\n",
    "    directory = f\"{data_path}{data_set[istrainset]}/\"\n",
    "    X, y = [], []\n",
    "    for filename in os.listdir(directory):\n",
    "        f = os.path.join(directory, filename)\n",
    "        if os.path.isfile(f):\n",
    "            df = pd.read_csv(f, header=None)\n",
    "            data=df.drop(columns=187)\n",
    "            data=data.values\n",
    "            # Số lượng lặp qua dữ liệu\n",
    "            num_samples = len(data) - window_input - window_out + 1\n",
    "            # print(\"----------------------\")\n",
    "            # print(\"🍒Len data:\", len(data))\n",
    "            # print(\"🍒Num_samples:\", num_samples)\n",
    "            # Đối với tập train\n",
    "            # Tạo dữ liệu train từ cửa sổ trượt\n",
    "            if(num_samples>0):\n",
    "                total_sample = total_sample + num_samples\n",
    "                for i in range(num_samples):\n",
    "                    X_window = data[i:i+window_input]\n",
    "                    y_window = data[i+window_input:i+window_input+window_out]\n",
    "\n",
    "                    X.append(X_window)\n",
    "                    y.append(y_window)\n",
    "            else:\n",
    "                missing_file = missing_file + 1\n",
    "    return X,y\n",
    "    print(f\"Num of file can not use due to its missing of length: {missing_file}\")\n",
    "    print(f\"Number of sample: {len(y)}/{len(X)}/{total_sample}\")"
   ]
  },
  {
   "cell_type": "code",
   "execution_count": 24,
   "metadata": {},
   "outputs": [],
   "source": [
    "X_train, y_train = get_data(1)\n",
    "X_test, y_test = get_data(0)"
   ]
  },
  {
   "cell_type": "code",
   "execution_count": 30,
   "metadata": {},
   "outputs": [
    {
     "name": "stdout",
     "output_type": "stream",
     "text": [
      "Len(X_train/y_train): 114912/114912\n",
      "Len(X_test/y_test): 33161/33161\n",
      "Test Rate:  0.22395034881443612\n",
      "Train Rate:  0.7760496511855639\n"
     ]
    }
   ],
   "source": [
    "print(f\"Len(X_train/y_train): {len(X_train)}/{len(y_train)}\")\n",
    "print(f\"Len(X_test/y_test): {len(X_test)}/{len(y_test)}\")\n",
    "print(f\"Test Rate: \",len(X_test)/(len(X_train)+len(X_test)))\n",
    "print(f\"Train Rate: \",len(X_train)/(len(X_train)+len(X_test)))"
   ]
  },
  {
   "cell_type": "code",
   "execution_count": 31,
   "metadata": {},
   "outputs": [],
   "source": [
    "X_train= np.array(X_train)\n",
    "y_train= np.array(y_train)\n",
    "X_test= np.array(X_test)\n",
    "y_test= np.array(y_test)"
   ]
  },
  {
   "cell_type": "code",
   "execution_count": 32,
   "metadata": {},
   "outputs": [],
   "source": [
    "# Tạo một mô hình LSTM\n",
    "model = Sequential()\n",
    "model.add(LSTM(64,activation='relu' ,input_shape=(10, 187)))  # Đặt input_shape phù hợp với kích thước của mảng X_train\n",
    "model.add(Dense(5 * 187))  # Đặt lớp Dense phù hợp với kích thước của mảng y_train\n",
    "# Biên dịch mô hình\n",
    "model.compile(optimizer='adam', loss='mean_squared_error')"
   ]
  },
  {
   "cell_type": "code",
   "execution_count": 34,
   "metadata": {},
   "outputs": [
    {
     "name": "stdout",
     "output_type": "stream",
     "text": [
      "Epoch 1/2\n",
      "7182/7182 [==============================] - 15s 2ms/step - loss: 0.0138\n",
      "Epoch 2/2\n",
      "7182/7182 [==============================] - 16s 2ms/step - loss: 0.0138\n"
     ]
    },
    {
     "data": {
      "text/plain": [
       "<keras.src.callbacks.History at 0x1391026a0>"
      ]
     },
     "execution_count": 34,
     "metadata": {},
     "output_type": "execute_result"
    }
   ],
   "source": [
    "model.fit(X_train, y_train.reshape(-1, 5 * 187), epochs=2, batch_size=16)"
   ]
  },
  {
   "cell_type": "code",
   "execution_count": 38,
   "metadata": {},
   "outputs": [
    {
     "name": "stdout",
     "output_type": "stream",
     "text": [
      "1037/1037 [==============================] - 2s 1ms/step\n"
     ]
    }
   ],
   "source": [
    "# Dự đoán trên tập kiểm tra\n",
    "y_pred = model.predict(X_test)"
   ]
  },
  {
   "cell_type": "code",
   "execution_count": 39,
   "metadata": {},
   "outputs": [
    {
     "name": "stdout",
     "output_type": "stream",
     "text": [
      "Mean Squared Error (MSE): 0.01947164897628423\n",
      "R-squared (R2): 0.41197110189310593\n"
     ]
    }
   ],
   "source": [
    "from sklearn.metrics import mean_squared_error, r2_score\n",
    "# Độ đo Mean Squared Error (MSE)\n",
    "mse = mean_squared_error(y_test.reshape(-1, 5 * 187), y_pred)\n",
    "print(f\"Mean Squared Error (MSE): {mse}\")\n",
    "\n",
    "# Độ đo R-squared (R2)\n",
    "r2 = r2_score(y_test.reshape(-1, 5 * 187), y_pred)\n",
    "print(f\"R-squared (R2): {r2}\")"
   ]
  },
  {
   "cell_type": "code",
   "execution_count": 45,
   "metadata": {},
   "outputs": [
    {
     "data": {
      "image/png": "[encoded data removed]",
      "text/plain": [
       "<Figure size 1200x600 with 1 Axes>"
      ]
     },
     "metadata": {},
     "output_type": "display_data"
    }
   ],
   "source": [
    "import matplotlib.pyplot as plt\n",
    "\n",
    "# Chọn một ví dụ cụ thể để trực quan hóa\n",
    "example_index = 3  # Thay đổi chỉ số ví dụ nếu cần\n",
    "\n",
    "# Lấy giá trị dự đoán và giá trị thực tế tương ứng\n",
    "y_pred_example = y_pred[example_index].reshape(5, 187)\n",
    "y_test_example = y_test[example_index].reshape(5, 187)\n",
    "\n",
    "# Vẽ biểu đồ cho giá trị dự đoán (màu xanh) và giá trị thực tế (màu đỏ)\n",
    "plt.figure(figsize=(12, 6))\n",
    "plt.plot(y_pred_example[0], label='Dự đoán', color='blue')\n",
    "plt.plot(y_test_example[0], label='Thực tế', color='red')\n",
    "plt.xlabel('Cột giá trị')\n",
    "plt.ylabel('Giá trị')\n",
    "plt.title('So sánh Dự đoán và Thực tế cho ví dụ cụ thể')\n",
    "plt.legend()\n",
    "plt.grid()\n",
    "plt.show()\n"
   ]
  },
  {
   "cell_type": "markdown",
   "metadata": {},
   "source": [
    "PHÂN LỚP TÍN HIỆU ECG TƯƠNG LAI"
   ]
  },
  {
   "cell_type": "code",
   "execution_count": 44,
   "metadata": {},
   "outputs": [],
   "source": [
    "# Đọc file CSV vào DataFrame\n",
    "data2=df.values"
   ]
  },
  {
   "cell_type": "code",
   "execution_count": 14,
   "metadata": {},
   "outputs": [],
   "source": [
    "train_size = 0.8\n",
    "test_size = 1 - train_size\n",
    "\n",
    "# Tính số lượng dòng cho tập train\n",
    "num_train_samples = int(len(data2) * train_size)\n",
    "\n",
    "# Chia dữ liệu thành tập train và tập test\n",
    "train_data2 = data2[:num_train_samples]\n",
    "test_data2 = data2[num_train_samples:]"
   ]
  },
  {
   "cell_type": "code",
   "execution_count": 15,
   "metadata": {},
   "outputs": [],
   "source": [
    "X_train_class= data2[:,:-1]\n",
    "y_train_class= data2[:,-1].astype(int)"
   ]
  },
  {
   "cell_type": "code",
   "execution_count": 16,
   "metadata": {},
   "outputs": [],
   "source": [
    "num_samples_test2 = len(test_data2) - window_input - window_out + 1\n",
    "X_test2, y_test2 = [], []\n",
    "# Đối với tập test\n",
    "for i in range(num_samples_test2):\n",
    "    X_window = data2[i:i+window_input]\n",
    "    y_window = data2[i+window_input:i+window_input+window_out]\n",
    "\n",
    "    X_test2.append(X_window)\n",
    "    y_test2.append(y_window)"
   ]
  },
  {
   "cell_type": "code",
   "execution_count": 17,
   "metadata": {},
   "outputs": [],
   "source": [
    "y_test2=np.array(y_test2)"
   ]
  },
  {
   "cell_type": "code",
   "execution_count": 18,
   "metadata": {},
   "outputs": [
    {
     "data": {
      "text/plain": [
       "(361, 5, 188)"
      ]
     },
     "execution_count": 18,
     "metadata": {},
     "output_type": "execute_result"
    }
   ],
   "source": [
    "y_test2.shape\n"
   ]
  },
  {
   "cell_type": "code",
   "execution_count": 19,
   "metadata": {},
   "outputs": [],
   "source": [
    "y_test2= np.array(y_test2)\n",
    "y_test2=y_test2.reshape(y_test2.shape[0]*5,188)"
   ]
  },
  {
   "cell_type": "code",
   "execution_count": 20,
   "metadata": {},
   "outputs": [],
   "source": [
    "#y_test\n",
    "y_test_class=y_test2[:,-1].astype(int)"
   ]
  },
  {
   "cell_type": "code",
   "execution_count": 21,
   "metadata": {},
   "outputs": [
    {
     "data": {
      "text/plain": [
       "array([0, 2, 3])"
      ]
     },
     "execution_count": 21,
     "metadata": {},
     "output_type": "execute_result"
    }
   ],
   "source": [
    "np.unique(y_test_class)"
   ]
  },
  {
   "cell_type": "code",
   "execution_count": 22,
   "metadata": {},
   "outputs": [],
   "source": [
    "#Dữ liệu dự đoán (X_test)\n",
    "X_predict=y_pred.astype(float)"
   ]
  },
  {
   "cell_type": "code",
   "execution_count": 23,
   "metadata": {},
   "outputs": [],
   "source": [
    "X_predict_test=X_predict.reshape(y_test2.shape[0],187)"
   ]
  },
  {
   "cell_type": "code",
   "execution_count": 24,
   "metadata": {},
   "outputs": [
    {
     "name": "stdout",
     "output_type": "stream",
     "text": [
      "(1875, 187)\n",
      "(1875,)\n",
      "(1805, 187)\n",
      "(1805,)\n"
     ]
    }
   ],
   "source": [
    "print(X_train_class.shape)\n",
    "print(y_train_class.shape)\n",
    "print(X_predict_test.shape)\n",
    "print(y_test_class.shape)"
   ]
  },
  {
   "cell_type": "code",
   "execution_count": 25,
   "metadata": {},
   "outputs": [
    {
     "data": {
      "text/plain": [
       "array([0, 1, 2, 3])"
      ]
     },
     "execution_count": 25,
     "metadata": {},
     "output_type": "execute_result"
    }
   ],
   "source": [
    "np.unique(y_train_class)"
   ]
  },
  {
   "cell_type": "code",
   "execution_count": 44,
   "metadata": {},
   "outputs": [],
   "source": [
    "# Bước: Xây dựng mô hình LSTM\n",
    "input_shape = (X_train_class.shape[1], 1)\n",
    "\n",
    "model_lstm= Sequential()\n",
    "model_lstm.add(LSTM(64, input_shape=input_shape, activation='relu', return_sequences=True))\n",
    "model_lstm.add(LSTM(32, activation='relu'))\n",
    "model_lstm.add(Dense(16, activation='relu'))\n",
    "model_lstm.add(Dense(5, activation='softmax'))\n",
    "model_lstm.compile(loss='sparse_categorical_crossentropy', optimizer='adam', metrics=['accuracy'])"
   ]
  },
  {
   "cell_type": "code",
   "execution_count": 45,
   "metadata": {},
   "outputs": [
    {
     "name": "stdout",
     "output_type": "stream",
     "text": [
      "Epoch 1/10\n",
      "59/59 [==============================] - 14s 167ms/step - loss: 620108513280.0000 - accuracy: 0.7541\n",
      "Epoch 2/10\n",
      "59/59 [==============================] - 10s 170ms/step - loss: 641612.5000 - accuracy: 0.7605\n",
      "Epoch 3/10\n",
      "59/59 [==============================] - 11s 179ms/step - loss: 13.9274 - accuracy: 0.7568\n",
      "Epoch 4/10\n",
      "59/59 [==============================] - 11s 181ms/step - loss: 0.8441 - accuracy: 0.7605\n",
      "Epoch 5/10\n",
      "59/59 [==============================] - 11s 192ms/step - loss: 0.7977 - accuracy: 0.7605\n",
      "Epoch 6/10\n",
      "59/59 [==============================] - 10s 175ms/step - loss: 0.7633 - accuracy: 0.7605\n",
      "Epoch 7/10\n",
      "59/59 [==============================] - 10s 169ms/step - loss: 0.7389 - accuracy: 0.7605\n",
      "Epoch 8/10\n",
      "59/59 [==============================] - 10s 173ms/step - loss: 0.7214 - accuracy: 0.7605\n",
      "Epoch 9/10\n",
      "59/59 [==============================] - 10s 170ms/step - loss: 0.7088 - accuracy: 0.7605\n",
      "Epoch 10/10\n",
      "59/59 [==============================] - 10s 171ms/step - loss: 0.6996 - accuracy: 0.7605\n"
     ]
    },
    {
     "data": {
      "text/plain": [
       "<keras.callbacks.History at 0x1e60ff00c40>"
      ]
     },
     "execution_count": 45,
     "metadata": {},
     "output_type": "execute_result"
    }
   ],
   "source": [
    "model_lstm.fit(X_train_class.reshape(X_train_class.shape[0], X_train_class.shape[1], 1), y_train_class, epochs=10, batch_size=32)"
   ]
  },
  {
   "cell_type": "markdown",
   "metadata": {},
   "source": [
    "Kết hợp mô hình Boosting"
   ]
  },
  {
   "cell_type": "markdown",
   "metadata": {},
   "source": [
    "LSTM-GradientBoosting"
   ]
  },
  {
   "cell_type": "code",
   "execution_count": 46,
   "metadata": {},
   "outputs": [],
   "source": [
    "from sklearn.ensemble import GradientBoostingClassifier\n",
    "# Bước: Kết hợp với Gradient Boosting\n",
    "n_estimators = 5  # Số lượng cây trong ensemble (có thể điều chỉnh)\n",
    "learning_rate = 0.1  # Tốc độ học (có thể điều chỉnh)\n",
    "boosting_model = GradientBoostingClassifier(n_estimators=n_estimators, learning_rate=learning_rate, random_state=42)"
   ]
  },
  {
   "cell_type": "code",
   "execution_count": 47,
   "metadata": {},
   "outputs": [
    {
     "name": "stdout",
     "output_type": "stream",
     "text": [
      "59/59 [==============================] - 4s 63ms/step\n",
      "57/57 [==============================] - 3s 61ms/step\n"
     ]
    }
   ],
   "source": [
    "# Chuyển đổi dữ liệu thành dạng phù hợp\n",
    "\n",
    "X_train_lstm = model_lstm.predict(X_train_class.reshape(X_train_class.shape[0], X_train_class.shape[1], 1))\n",
    "X_test_lstm = model_lstm.predict(X_predict_test.reshape(X_predict_test.shape[0], X_predict_test.shape[1], 1))"
   ]
  },
  {
   "cell_type": "code",
   "execution_count": 48,
   "metadata": {},
   "outputs": [],
   "source": [
    "# Đào tạo mô hình Gradient Boosting trên dữ liệu đã chuyển đổi\n",
    "boosting_model.fit(X_train_lstm, y_train_class)\n",
    "\n",
    "# Dự đoán với mô hình Gradient Boosting\n",
    "predictions = boosting_model.predict(X_test_lstm)"
   ]
  },
  {
   "cell_type": "code",
   "execution_count": 49,
   "metadata": {},
   "outputs": [
    {
     "data": {
      "text/plain": [
       "0.7595567867036012"
      ]
     },
     "execution_count": 49,
     "metadata": {},
     "output_type": "execute_result"
    }
   ],
   "source": [
    "from sklearn.metrics import accuracy_score\n",
    "accuracy = accuracy_score(y_test_class, predictions)\n",
    "accuracy"
   ]
  },
  {
   "cell_type": "markdown",
   "metadata": {},
   "source": [
    "LSTM-CatBoost"
   ]
  },
  {
   "cell_type": "code",
   "execution_count": 57,
   "metadata": {},
   "outputs": [
    {
     "name": "stdout",
     "output_type": "stream",
     "text": [
      "59/59 [==============================] - 3s 53ms/step\n",
      "57/57 [==============================] - 3s 61ms/step\n",
      "0:\tlearn: 1.2265909\ttotal: 8.47ms\tremaining: 838ms\n",
      "1:\tlearn: 1.1148614\ttotal: 14.6ms\tremaining: 715ms\n",
      "2:\tlearn: 1.0259649\ttotal: 21.1ms\tremaining: 683ms\n",
      "3:\tlearn: 0.9559052\ttotal: 27.9ms\tremaining: 670ms\n",
      "4:\tlearn: 0.8978135\ttotal: 38.7ms\tremaining: 736ms\n",
      "5:\tlearn: 0.8496286\ttotal: 48.5ms\tremaining: 759ms\n",
      "6:\tlearn: 0.8076300\ttotal: 60.3ms\tremaining: 801ms\n",
      "7:\tlearn: 0.7722142\ttotal: 69.2ms\tremaining: 796ms\n",
      "8:\tlearn: 0.7419681\ttotal: 81.8ms\tremaining: 828ms\n",
      "9:\tlearn: 0.7157391\ttotal: 93.9ms\tremaining: 845ms\n",
      "10:\tlearn: 0.6924259\ttotal: 104ms\tremaining: 842ms\n",
      "11:\tlearn: 0.6724000\ttotal: 115ms\tremaining: 841ms\n",
      "12:\tlearn: 0.6550311\ttotal: 123ms\tremaining: 821ms\n",
      "13:\tlearn: 0.6400649\ttotal: 132ms\tremaining: 809ms\n",
      "14:\tlearn: 0.6265408\ttotal: 142ms\tremaining: 802ms\n",
      "15:\tlearn: 0.6151636\ttotal: 153ms\tremaining: 805ms\n",
      "16:\tlearn: 0.6053978\ttotal: 166ms\tremaining: 808ms\n",
      "17:\tlearn: 0.5960544\ttotal: 175ms\tremaining: 796ms\n",
      "18:\tlearn: 0.5881525\ttotal: 185ms\tremaining: 789ms\n",
      "19:\tlearn: 0.5811754\ttotal: 193ms\tremaining: 771ms\n",
      "20:\tlearn: 0.5742245\ttotal: 201ms\tremaining: 756ms\n",
      "21:\tlearn: 0.5691975\ttotal: 209ms\tremaining: 740ms\n",
      "22:\tlearn: 0.5647676\ttotal: 214ms\tremaining: 715ms\n",
      "23:\tlearn: 0.5598766\ttotal: 219ms\tremaining: 693ms\n",
      "24:\tlearn: 0.5553921\ttotal: 227ms\tremaining: 681ms\n",
      "25:\tlearn: 0.5512586\ttotal: 237ms\tremaining: 674ms\n",
      "26:\tlearn: 0.5478211\ttotal: 245ms\tremaining: 662ms\n",
      "27:\tlearn: 0.5448633\ttotal: 253ms\tremaining: 651ms\n",
      "28:\tlearn: 0.5420444\ttotal: 258ms\tremaining: 632ms\n",
      "29:\tlearn: 0.5392283\ttotal: 266ms\tremaining: 621ms\n",
      "30:\tlearn: 0.5370074\ttotal: 271ms\tremaining: 603ms\n",
      "31:\tlearn: 0.5349839\ttotal: 278ms\tremaining: 590ms\n",
      "32:\tlearn: 0.5329386\ttotal: 285ms\tremaining: 578ms\n",
      "33:\tlearn: 0.5309020\ttotal: 291ms\tremaining: 565ms\n",
      "34:\tlearn: 0.5295099\ttotal: 299ms\tremaining: 555ms\n",
      "35:\tlearn: 0.5275132\ttotal: 306ms\tremaining: 544ms\n",
      "36:\tlearn: 0.5259439\ttotal: 315ms\tremaining: 537ms\n",
      "37:\tlearn: 0.5248215\ttotal: 330ms\tremaining: 538ms\n",
      "38:\tlearn: 0.5239234\ttotal: 339ms\tremaining: 531ms\n",
      "39:\tlearn: 0.5225987\ttotal: 350ms\tremaining: 525ms\n",
      "40:\tlearn: 0.5214515\ttotal: 359ms\tremaining: 516ms\n",
      "41:\tlearn: 0.5206007\ttotal: 366ms\tremaining: 506ms\n",
      "42:\tlearn: 0.5197081\ttotal: 375ms\tremaining: 497ms\n",
      "43:\tlearn: 0.5182727\ttotal: 380ms\tremaining: 483ms\n",
      "44:\tlearn: 0.5176247\ttotal: 387ms\tremaining: 473ms\n",
      "45:\tlearn: 0.5168737\ttotal: 393ms\tremaining: 461ms\n",
      "46:\tlearn: 0.5159980\ttotal: 401ms\tremaining: 452ms\n",
      "47:\tlearn: 0.5152426\ttotal: 406ms\tremaining: 440ms\n",
      "48:\tlearn: 0.5143455\ttotal: 412ms\tremaining: 429ms\n",
      "49:\tlearn: 0.5138537\ttotal: 418ms\tremaining: 418ms\n",
      "50:\tlearn: 0.5131639\ttotal: 423ms\tremaining: 407ms\n",
      "51:\tlearn: 0.5125002\ttotal: 433ms\tremaining: 400ms\n",
      "52:\tlearn: 0.5121391\ttotal: 443ms\tremaining: 393ms\n",
      "53:\tlearn: 0.5114361\ttotal: 449ms\tremaining: 383ms\n",
      "54:\tlearn: 0.5110130\ttotal: 455ms\tremaining: 373ms\n",
      "55:\tlearn: 0.5105649\ttotal: 462ms\tremaining: 363ms\n",
      "56:\tlearn: 0.5101900\ttotal: 468ms\tremaining: 353ms\n",
      "57:\tlearn: 0.5094218\ttotal: 475ms\tremaining: 344ms\n",
      "58:\tlearn: 0.5089505\ttotal: 482ms\tremaining: 335ms\n",
      "59:\tlearn: 0.5087268\ttotal: 489ms\tremaining: 326ms\n",
      "60:\tlearn: 0.5084095\ttotal: 495ms\tremaining: 317ms\n",
      "61:\tlearn: 0.5074548\ttotal: 502ms\tremaining: 308ms\n",
      "62:\tlearn: 0.5068735\ttotal: 509ms\tremaining: 299ms\n",
      "63:\tlearn: 0.5065444\ttotal: 516ms\tremaining: 290ms\n",
      "64:\tlearn: 0.5057376\ttotal: 523ms\tremaining: 282ms\n",
      "65:\tlearn: 0.5054476\ttotal: 530ms\tremaining: 273ms\n",
      "66:\tlearn: 0.5051735\ttotal: 539ms\tremaining: 265ms\n",
      "67:\tlearn: 0.5045184\ttotal: 547ms\tremaining: 257ms\n",
      "68:\tlearn: 0.5042033\ttotal: 556ms\tremaining: 250ms\n",
      "69:\tlearn: 0.5036847\ttotal: 565ms\tremaining: 242ms\n",
      "70:\tlearn: 0.5033164\ttotal: 572ms\tremaining: 233ms\n",
      "71:\tlearn: 0.5030461\ttotal: 580ms\tremaining: 225ms\n",
      "72:\tlearn: 0.5027094\ttotal: 586ms\tremaining: 217ms\n",
      "73:\tlearn: 0.5023993\ttotal: 592ms\tremaining: 208ms\n",
      "74:\tlearn: 0.5019457\ttotal: 598ms\tremaining: 199ms\n",
      "75:\tlearn: 0.5017380\ttotal: 604ms\tremaining: 191ms\n",
      "76:\tlearn: 0.5010994\ttotal: 610ms\tremaining: 182ms\n",
      "77:\tlearn: 0.5007772\ttotal: 615ms\tremaining: 174ms\n",
      "78:\tlearn: 0.5004868\ttotal: 624ms\tremaining: 166ms\n",
      "79:\tlearn: 0.5002531\ttotal: 632ms\tremaining: 158ms\n",
      "80:\tlearn: 0.4998681\ttotal: 645ms\tremaining: 151ms\n",
      "81:\tlearn: 0.4993940\ttotal: 654ms\tremaining: 144ms\n",
      "82:\tlearn: 0.4989926\ttotal: 664ms\tremaining: 136ms\n",
      "83:\tlearn: 0.4988923\ttotal: 677ms\tremaining: 129ms\n",
      "84:\tlearn: 0.4986975\ttotal: 686ms\tremaining: 121ms\n",
      "85:\tlearn: 0.4985238\ttotal: 694ms\tremaining: 113ms\n",
      "86:\tlearn: 0.4981538\ttotal: 706ms\tremaining: 105ms\n",
      "87:\tlearn: 0.4977675\ttotal: 715ms\tremaining: 97.5ms\n",
      "88:\tlearn: 0.4972173\ttotal: 722ms\tremaining: 89.2ms\n",
      "89:\tlearn: 0.4970396\ttotal: 734ms\tremaining: 81.5ms\n",
      "90:\tlearn: 0.4964717\ttotal: 746ms\tremaining: 73.8ms\n",
      "91:\tlearn: 0.4960635\ttotal: 753ms\tremaining: 65.5ms\n",
      "92:\tlearn: 0.4955918\ttotal: 761ms\tremaining: 57.3ms\n",
      "93:\tlearn: 0.4953038\ttotal: 772ms\tremaining: 49.3ms\n",
      "94:\tlearn: 0.4950547\ttotal: 780ms\tremaining: 41.1ms\n",
      "95:\tlearn: 0.4944567\ttotal: 788ms\tremaining: 32.9ms\n",
      "96:\tlearn: 0.4940875\ttotal: 796ms\tremaining: 24.6ms\n",
      "97:\tlearn: 0.4938499\ttotal: 809ms\tremaining: 16.5ms\n",
      "98:\tlearn: 0.4934602\ttotal: 825ms\tremaining: 8.34ms\n",
      "99:\tlearn: 0.4930292\ttotal: 838ms\tremaining: 0us\n",
      "Accuracy: 0.7578947368421053\n"
     ]
    }
   ],
   "source": [
    "from catboost import CatBoostClassifier\n",
    "\n",
    "# Bước: Kết hợp với CatBoost\n",
    "catboost_model = CatBoostClassifier(iterations=100, learning_rate=0.1, depth=6, random_seed=42)\n",
    "\n",
    "# Chuyển đổi dữ liệu thành dạng phù hợp\n",
    "X_train_lstm = model_lstm.predict(X_train_class.reshape(X_train_class.shape[0], X_train_class.shape[1], 1))\n",
    "X_test_lstm = model_lstm.predict(X_predict_test.reshape(X_predict_test.shape[0], X_predict_test.shape[1], 1))\n",
    "\n",
    "# Đào tạo mô hình CatBoost trên dữ liệu đã chuyển đổi\n",
    "catboost_model.fit(X_train_lstm, y_train_class)\n",
    "\n",
    "# Dự đoán với mô hình CatBoost\n",
    "predictions = catboost_model.predict(X_test_lstm)\n",
    "\n",
    "# Đánh giá hiệu suất\n",
    "accuracy = accuracy_score(y_test_class, predictions)\n",
    "print(\"Accuracy:\", accuracy)"
   ]
  },
  {
   "cell_type": "markdown",
   "metadata": {},
   "source": [
    "LSTM- XGBoost"
   ]
  },
  {
   "cell_type": "code",
   "execution_count": 58,
   "metadata": {},
   "outputs": [
    {
     "name": "stdout",
     "output_type": "stream",
     "text": [
      "59/59 [==============================] - 3s 56ms/step\n",
      "57/57 [==============================] - 4s 65ms/step\n",
      "Accuracy: 0.7523545706371191\n"
     ]
    }
   ],
   "source": [
    "from xgboost import XGBClassifier\n",
    "# Bước: Kết hợp với XGBoost\n",
    "xgb_model = XGBClassifier(n_estimators=100, learning_rate=0.1, max_depth=6, random_state=42)\n",
    "\n",
    "# Chuyển đổi dữ liệu thành dạng phù hợp\n",
    "X_train_lstm = model_lstm.predict(X_train_class.reshape(X_train_class.shape[0], X_train_class.shape[1], 1))\n",
    "X_test_lstm = model_lstm.predict(X_predict_test.reshape(X_predict_test.shape[0], X_predict_test.shape[1], 1))\n",
    "\n",
    "# Đào tạo mô hình XGBoost trên dữ liệu đã chuyển đổi\n",
    "xgb_model.fit(X_train_lstm, y_train_class)\n",
    "\n",
    "# Dự đoán với mô hình XGBoost\n",
    "predictions = xgb_model.predict(X_test_lstm)\n",
    "\n",
    "# Đánh giá hiệu suất\n",
    "accuracy = accuracy_score(y_test_class, predictions)\n",
    "print(\"Accuracy:\", accuracy)"
   ]
  },
  {
   "cell_type": "markdown",
   "metadata": {},
   "source": [
    "Kết hợp theo hướng Stacking"
   ]
  },
  {
   "cell_type": "markdown",
   "metadata": {},
   "source": [
    "LSTM-RF"
   ]
  },
  {
   "cell_type": "markdown",
   "metadata": {},
   "source": [
    "Trực quan"
   ]
  },
  {
   "cell_type": "code",
   "execution_count": 54,
   "metadata": {},
   "outputs": [
    {
     "data": {
      "text/plain": [
       "array([[1371,    0,    0],\n",
       "       [  84,    0,    0],\n",
       "       [ 350,    0,    0]], dtype=int64)"
      ]
     },
     "execution_count": 54,
     "metadata": {},
     "output_type": "execute_result"
    }
   ],
   "source": [
    "from sklearn.metrics import confusion_matrix\n",
    "cm = confusion_matrix(y_test_class, predictions)\n",
    "cm"
   ]
  },
  {
   "cell_type": "code",
   "execution_count": 55,
   "metadata": {},
   "outputs": [
    {
     "name": "stdout",
     "output_type": "stream",
     "text": [
      "0: 1805\n"
     ]
    }
   ],
   "source": [
    "import numpy as np\n",
    "\n",
    "unique_values, counts = np.unique(predictions, return_counts=True)\n",
    "\n",
    "for value, count in zip(unique_values, counts):\n",
    "    print(f\"{value}: {count}\")\n"
   ]
  },
  {
   "cell_type": "code",
   "execution_count": 52,
   "metadata": {},
   "outputs": [
    {
     "name": "stderr",
     "output_type": "stream",
     "text": [
      "c:\\Users\\ASUS\\anaconda3\\envs\\KTDL\\lib\\site-packages\\sklearn\\metrics\\_classification.py:1344: UndefinedMetricWarning: Recall is ill-defined and being set to 0.0 due to no true samples. Use `zero_division` parameter to control this behavior.\n",
      "  _warn_prf(average, modifier, msg_start, len(result))\n",
      "c:\\Users\\ASUS\\anaconda3\\envs\\KTDL\\lib\\site-packages\\sklearn\\metrics\\_classification.py:1344: UndefinedMetricWarning: Recall is ill-defined and being set to 0.0 due to no true samples. Use `zero_division` parameter to control this behavior.\n",
      "  _warn_prf(average, modifier, msg_start, len(result))\n"
     ]
    }
   ],
   "source": [
    "from sklearn.metrics import recall_score\n",
    "\n",
    "sensitivity_class_0 = recall_score(y_test_class == 0, predictions == 0)\n",
    "sensitivity_class_1 = recall_score(y_test_class == 1, predictions == 1)\n",
    "sensitivity_class_2 = recall_score(y_test_class == 2, predictions == 2)\n",
    "sensitivity_class_3 = recall_score(y_test_class == 3, predictions == 3)\n",
    "sensitivity_class_4 = recall_score(y_test_class == 4, predictions == 4)\n"
   ]
  },
  {
   "cell_type": "code",
   "execution_count": 53,
   "metadata": {},
   "outputs": [
    {
     "data": {
      "image/png": "[encoded data removed]",
      "text/plain": [
       "<Figure size 800x600 with 1 Axes>"
      ]
     },
     "metadata": {},
     "output_type": "display_data"
    }
   ],
   "source": [
    "import matplotlib.pyplot as plt\n",
    "\n",
    "# Sử dụng recall_score để tính sensitivity cho từng lớp\n",
    "from sklearn.metrics import recall_score\n",
    "\n",
    "# Giả sử bạn đã tính được sensitivity cho các lớp\n",
    "sensitivity_scores = [sensitivity_class_0,sensitivity_class_1, sensitivity_class_2, sensitivity_class_3, sensitivity_class_4]\n",
    "\n",
    "# Tên của các lớp\n",
    "class_names = ['Class 0','Class 1', 'Class 2', 'Class 3', 'Class 4']\n",
    "\n",
    "# Vẽ biểu đồ cột\n",
    "plt.figure(figsize=(8, 6))\n",
    "plt.bar(class_names, sensitivity_scores, color='skyblue')\n",
    "plt.title('Sensitivity for Each Class')\n",
    "plt.xlabel('Class')\n",
    "plt.ylabel('Sensitivity')\n",
    "plt.ylim(0, 1)  # Đặt giới hạn trục y từ 0 đến 1 để hiển thị độ nhạy từ 0% đến 100%\n",
    "plt.show()\n"
   ]
  }
 ],
 "metadata": {
  "kernelspec": {
   "display_name": "KTDL",
   "language": "python",
   "name": "python3"
  },
  "language_info": {
   "codemirror_mode": {
    "name": "ipython",
    "version": 3
   },
   "file_extension": ".py",
   "mimetype": "text/x-python",
   "name": "python",
   "nbconvert_exporter": "python",
   "pygments_lexer": "ipython3",
   "version": "3.9.6"
  },
  "orig_nbformat": 4
 },
 "nbformat": 4,
 "nbformat_minor": 2
}
