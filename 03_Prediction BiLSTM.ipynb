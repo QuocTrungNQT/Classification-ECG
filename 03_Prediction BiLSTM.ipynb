{
 "cells": [
  {
   "cell_type": "code",
   "execution_count": 5,
   "metadata": {},
   "outputs": [],
   "source": [
    "import numpy as np\n",
    "import pandas as pd\n",
    "from sklearn.preprocessing import MinMaxScaler\n",
    "from tensorflow.keras.models import Sequential\n",
    "from tensorflow.keras.layers import LSTM, Dense, TimeDistributed\n",
    "from sklearn.model_selection import train_test_split\n",
    "from matplotlib import pyplot as plt\n",
    "import seaborn as sns\n",
    "import tensorflow as tf"
   ]
  },
  {
   "cell_type": "markdown",
   "metadata": {},
   "source": [
    "DỰ ĐOÁN TÍN HIỆU ECG"
   ]
  },
  {
   "cell_type": "code",
   "execution_count": 6,
   "metadata": {},
   "outputs": [],
   "source": [
    "# Đọc file CSV vào DataFrame\n",
    "df = pd.read_csv('D:/UIT/NCKHSV/Năm 2023/MIT-BIH/208_MLII.csv', header=None)\n",
    "data=df.drop(columns=187)\n",
    "data=data.values"
   ]
  },
  {
   "cell_type": "code",
   "execution_count": 7,
   "metadata": {},
   "outputs": [],
   "source": [
    "train_size = 0.8\n",
    "test_size = 1 - train_size\n",
    "\n",
    "# Tính số lượng dòng cho tập train\n",
    "num_train_samples = int(len(data) * train_size)\n",
    "\n",
    "# Chia dữ liệu thành tập train và tập test\n",
    "train_data = data[:num_train_samples]\n",
    "test_data = data[num_train_samples:]"
   ]
  },
  {
   "cell_type": "code",
   "execution_count": 8,
   "metadata": {},
   "outputs": [],
   "source": [
    "#Chia khung\n",
    "window_input= 10\n",
    "window_out=5"
   ]
  },
  {
   "cell_type": "code",
   "execution_count": 9,
   "metadata": {},
   "outputs": [],
   "source": [
    "# Số lượng lặp qua dữ liệu\n",
    "num_samples_train = len(train_data) - window_input - window_out + 1\n",
    "num_samples_test = len(test_data) - window_input - window_out + 1\n",
    "\n",
    "# Đối với tập train\n",
    "# Tạo dữ liệu train từ cửa sổ trượt\n",
    "X_train, y_train, X_test, y_test = [], [], [], []\n",
    "\n",
    "for i in range(num_samples_train):\n",
    "    X_window = data[i:i+window_input]\n",
    "    y_window = data[i+window_input:i+window_input+window_out]\n",
    "\n",
    "    X_train.append(X_window)\n",
    "    y_train.append(y_window)\n",
    "\n"
   ]
  },
  {
   "cell_type": "code",
   "execution_count": 10,
   "metadata": {},
   "outputs": [],
   "source": [
    "# Đối với tập test\n",
    "for i in range(num_samples_test):\n",
    "    X_window = data[i:i+window_input]\n",
    "    y_window = data[i+window_input:i+window_input+window_out]\n",
    "\n",
    "    X_test.append(X_window)\n",
    "    y_test.append(y_window)"
   ]
  },
  {
   "cell_type": "code",
   "execution_count": 11,
   "metadata": {},
   "outputs": [],
   "source": [
    "X_train= np.array(X_train)\n",
    "y_train= np.array(y_train)\n",
    "X_test= np.array(X_test)\n",
    "y_test= np.array(y_test)"
   ]
  },
  {
   "cell_type": "code",
   "execution_count": 12,
   "metadata": {},
   "outputs": [],
   "source": [
    "# Tạo một mô hình LSTM\n",
    "model = Sequential()\n",
    "model.add(LSTM(50, input_shape=(10, 187)))  # Đặt input_shape phù hợp với kích thước của mảng X_train\n",
    "model.add(Dense(5 * 187))  # Đặt lớp Dense phù hợp với kích thước của mảng y_train\n",
    "\n",
    "# Biên dịch mô hình\n",
    "model.compile(optimizer='adam', loss='mean_squared_error')"
   ]
  },
  {
   "cell_type": "code",
   "execution_count": 13,
   "metadata": {},
   "outputs": [
    {
     "name": "stdout",
     "output_type": "stream",
     "text": [
      "Epoch 1/50\n",
      "93/93 [==============================] - 4s 6ms/step - loss: 0.0258\n",
      "Epoch 2/50\n",
      "93/93 [==============================] - 0s 4ms/step - loss: 0.0208\n",
      "Epoch 3/50\n",
      "93/93 [==============================] - 0s 4ms/step - loss: 0.0197\n",
      "Epoch 4/50\n",
      "93/93 [==============================] - 1s 6ms/step - loss: 0.0193\n",
      "Epoch 5/50\n",
      "93/93 [==============================] - 0s 5ms/step - loss: 0.0192\n",
      "Epoch 6/50\n",
      "93/93 [==============================] - 0s 4ms/step - loss: 0.0190\n",
      "Epoch 7/50\n",
      "93/93 [==============================] - 0s 4ms/step - loss: 0.0188\n",
      "Epoch 8/50\n",
      "93/93 [==============================] - 0s 4ms/step - loss: 0.0187\n",
      "Epoch 9/50\n",
      "93/93 [==============================] - 0s 4ms/step - loss: 0.0186\n",
      "Epoch 10/50\n",
      "93/93 [==============================] - 0s 4ms/step - loss: 0.0184\n",
      "Epoch 11/50\n",
      "93/93 [==============================] - 0s 4ms/step - loss: 0.0183\n",
      "Epoch 12/50\n",
      "93/93 [==============================] - 0s 4ms/step - loss: 0.0183\n",
      "Epoch 13/50\n",
      "93/93 [==============================] - 0s 4ms/step - loss: 0.0181\n",
      "Epoch 14/50\n",
      "93/93 [==============================] - 0s 4ms/step - loss: 0.0180\n",
      "Epoch 15/50\n",
      "93/93 [==============================] - 0s 4ms/step - loss: 0.0179\n",
      "Epoch 16/50\n",
      "93/93 [==============================] - 0s 4ms/step - loss: 0.0178\n",
      "Epoch 17/50\n",
      "93/93 [==============================] - 0s 4ms/step - loss: 0.0177\n",
      "Epoch 18/50\n",
      "93/93 [==============================] - 0s 4ms/step - loss: 0.0176\n",
      "Epoch 19/50\n",
      "93/93 [==============================] - 0s 4ms/step - loss: 0.0174\n",
      "Epoch 20/50\n",
      "93/93 [==============================] - 0s 4ms/step - loss: 0.0173\n",
      "Epoch 21/50\n",
      "93/93 [==============================] - 0s 4ms/step - loss: 0.0172\n",
      "Epoch 22/50\n",
      "93/93 [==============================] - 0s 4ms/step - loss: 0.0170\n",
      "Epoch 23/50\n",
      "93/93 [==============================] - 0s 4ms/step - loss: 0.0169\n",
      "Epoch 24/50\n",
      "93/93 [==============================] - 0s 4ms/step - loss: 0.0168\n",
      "Epoch 25/50\n",
      "93/93 [==============================] - 0s 5ms/step - loss: 0.0165\n",
      "Epoch 26/50\n",
      "93/93 [==============================] - 1s 6ms/step - loss: 0.0164\n",
      "Epoch 27/50\n",
      "93/93 [==============================] - 1s 8ms/step - loss: 0.0162\n",
      "Epoch 28/50\n",
      "93/93 [==============================] - 1s 6ms/step - loss: 0.0161\n",
      "Epoch 29/50\n",
      "93/93 [==============================] - 1s 7ms/step - loss: 0.0159\n",
      "Epoch 30/50\n",
      "93/93 [==============================] - 1s 7ms/step - loss: 0.0156\n",
      "Epoch 31/50\n",
      "93/93 [==============================] - 1s 6ms/step - loss: 0.0156\n",
      "Epoch 32/50\n",
      "93/93 [==============================] - 1s 6ms/step - loss: 0.0154\n",
      "Epoch 33/50\n",
      "93/93 [==============================] - 1s 7ms/step - loss: 0.0152\n",
      "Epoch 34/50\n",
      "93/93 [==============================] - 0s 5ms/step - loss: 0.0151\n",
      "Epoch 35/50\n",
      "93/93 [==============================] - 0s 5ms/step - loss: 0.0149\n",
      "Epoch 36/50\n",
      "93/93 [==============================] - 1s 6ms/step - loss: 0.0147\n",
      "Epoch 37/50\n",
      "93/93 [==============================] - 0s 4ms/step - loss: 0.0145\n",
      "Epoch 38/50\n",
      "93/93 [==============================] - 0s 4ms/step - loss: 0.0145\n",
      "Epoch 39/50\n",
      "93/93 [==============================] - 0s 4ms/step - loss: 0.0142\n",
      "Epoch 40/50\n",
      "93/93 [==============================] - 0s 4ms/step - loss: 0.0141\n",
      "Epoch 41/50\n",
      "93/93 [==============================] - 0s 4ms/step - loss: 0.0140\n",
      "Epoch 42/50\n",
      "93/93 [==============================] - 0s 4ms/step - loss: 0.0138\n",
      "Epoch 43/50\n",
      "93/93 [==============================] - 0s 5ms/step - loss: 0.0137\n",
      "Epoch 44/50\n",
      "93/93 [==============================] - 1s 9ms/step - loss: 0.0136\n",
      "Epoch 45/50\n",
      "93/93 [==============================] - 0s 5ms/step - loss: 0.0134\n",
      "Epoch 46/50\n",
      "93/93 [==============================] - 0s 5ms/step - loss: 0.0132\n",
      "Epoch 47/50\n",
      "93/93 [==============================] - 0s 4ms/step - loss: 0.0131\n",
      "Epoch 48/50\n",
      "93/93 [==============================] - 0s 5ms/step - loss: 0.0129\n",
      "Epoch 49/50\n",
      "93/93 [==============================] - 0s 5ms/step - loss: 0.0128\n",
      "Epoch 50/50\n",
      "93/93 [==============================] - 0s 5ms/step - loss: 0.0128\n"
     ]
    },
    {
     "data": {
      "text/plain": [
       "<keras.src.callbacks.History at 0x2bce477cc10>"
      ]
     },
     "execution_count": 13,
     "metadata": {},
     "output_type": "execute_result"
    }
   ],
   "source": [
    "model.fit(X_train, y_train.reshape(-1, 5 * 187), epochs=50, batch_size=16)"
   ]
  },
  {
   "cell_type": "code",
   "execution_count": 14,
   "metadata": {},
   "outputs": [
    {
     "name": "stdout",
     "output_type": "stream",
     "text": [
      "12/12 [==============================] - 1s 7ms/step\n"
     ]
    }
   ],
   "source": [
    "# Dự đoán trên tập kiểm tra\n",
    "y_pred = model.predict(X_test)\n"
   ]
  },
  {
   "cell_type": "code",
   "execution_count": 15,
   "metadata": {},
   "outputs": [
    {
     "name": "stdout",
     "output_type": "stream",
     "text": [
      "Mean Squared Error (MSE): 0.012798772107627965\n",
      "R-squared (R2): 0.39249368890115865\n"
     ]
    }
   ],
   "source": [
    "from sklearn.metrics import mean_squared_error, r2_score\n",
    "# Độ đo Mean Squared Error (MSE)\n",
    "mse = mean_squared_error(y_test.reshape(-1, 5 * 187), y_pred)\n",
    "print(f\"Mean Squared Error (MSE): {mse}\")\n",
    "\n",
    "# Độ đo R-squared (R2)\n",
    "r2 = r2_score(y_test.reshape(-1, 5 * 187), y_pred)\n",
    "print(f\"R-squared (R2): {r2}\")"
   ]
  },
  {
   "cell_type": "code",
   "execution_count": 16,
   "metadata": {},
   "outputs": [
    {
     "data": {
      "image/png": "[encoded data removed]",
      "text/plain": [
       "<Figure size 1200x600 with 1 Axes>"
      ]
     },
     "metadata": {},
     "output_type": "display_data"
    }
   ],
   "source": [
    "import matplotlib.pyplot as plt\n",
    "\n",
    "# Chọn một ví dụ cụ thể để trực quan hóa\n",
    "example_index = 3  # Thay đổi chỉ số ví dụ nếu cần\n",
    "\n",
    "# Lấy giá trị dự đoán và giá trị thực tế tương ứng\n",
    "y_pred_example = y_pred[example_index].reshape(5, 187)\n",
    "y_test_example = y_test[example_index].reshape(5, 187)\n",
    "\n",
    "# Vẽ biểu đồ cho giá trị dự đoán (màu xanh) và giá trị thực tế (màu đỏ)\n",
    "plt.figure(figsize=(12, 6))\n",
    "plt.plot(y_pred_example[0], label='Dự đoán', color='blue')\n",
    "plt.plot(y_test_example[0], label='Thực tế', color='red')\n",
    "plt.xlabel('Cột giá trị')\n",
    "plt.ylabel('Giá trị')\n",
    "plt.title('So sánh Dự đoán và Thực tế cho ví dụ cụ thể')\n",
    "plt.legend()\n",
    "plt.grid()\n",
    "plt.show()\n"
   ]
  },
  {
   "cell_type": "markdown",
   "metadata": {},
   "source": [
    "PHÂN LỚP TÍN HIỆU ECG TƯƠNG LAI"
   ]
  },
  {
   "cell_type": "code",
   "execution_count": 17,
   "metadata": {},
   "outputs": [],
   "source": [
    "# Đọc file CSV vào DataFrame\n",
    "data2=df.values"
   ]
  },
  {
   "cell_type": "code",
   "execution_count": 18,
   "metadata": {},
   "outputs": [],
   "source": [
    "train_size = 0.8\n",
    "test_size = 1 - train_size\n",
    "\n",
    "# Tính số lượng dòng cho tập train\n",
    "num_train_samples = int(len(data2) * train_size)\n",
    "\n",
    "# Chia dữ liệu thành tập train và tập test\n",
    "train_data2 = data2[:num_train_samples]\n",
    "test_data2 = data2[num_train_samples:]"
   ]
  },
  {
   "cell_type": "code",
   "execution_count": 19,
   "metadata": {},
   "outputs": [],
   "source": [
    "X_train_class= data2[:,:-1]\n",
    "y_train_class= data2[:,-1].astype(int)"
   ]
  },
  {
   "cell_type": "code",
   "execution_count": 20,
   "metadata": {},
   "outputs": [],
   "source": [
    "num_samples_test2 = len(test_data2) - window_input - window_out + 1\n",
    "X_test2, y_test2 = [], []\n",
    "# Đối với tập test\n",
    "for i in range(num_samples_test2):\n",
    "    X_window = data2[i:i+window_input]\n",
    "    y_window = data2[i+window_input:i+window_input+window_out]\n",
    "\n",
    "    X_test2.append(X_window)\n",
    "    y_test2.append(y_window)"
   ]
  },
  {
   "cell_type": "code",
   "execution_count": 21,
   "metadata": {},
   "outputs": [],
   "source": [
    "y_test2=np.array(y_test2)"
   ]
  },
  {
   "cell_type": "code",
   "execution_count": 22,
   "metadata": {},
   "outputs": [
    {
     "data": {
      "text/plain": [
       "(361, 5, 188)"
      ]
     },
     "execution_count": 22,
     "metadata": {},
     "output_type": "execute_result"
    }
   ],
   "source": [
    "y_test2.shape\n"
   ]
  },
  {
   "cell_type": "code",
   "execution_count": 23,
   "metadata": {},
   "outputs": [],
   "source": [
    "y_test2= np.array(y_test2)\n",
    "y_test2=y_test2.reshape(y_test2.shape[0]*5,188)"
   ]
  },
  {
   "cell_type": "code",
   "execution_count": 24,
   "metadata": {},
   "outputs": [],
   "source": [
    "#y_test\n",
    "y_test_class=y_test2[:,-1].astype(int)"
   ]
  },
  {
   "cell_type": "code",
   "execution_count": 25,
   "metadata": {},
   "outputs": [
    {
     "data": {
      "text/plain": [
       "array([0, 2, 3])"
      ]
     },
     "execution_count": 25,
     "metadata": {},
     "output_type": "execute_result"
    }
   ],
   "source": [
    "np.unique(y_test_class)"
   ]
  },
  {
   "cell_type": "code",
   "execution_count": 26,
   "metadata": {},
   "outputs": [],
   "source": [
    "#Dữ liệu dự đoán (X_test)\n",
    "X_predict=y_pred.astype(float)"
   ]
  },
  {
   "cell_type": "code",
   "execution_count": 27,
   "metadata": {},
   "outputs": [],
   "source": [
    "X_predict_test=X_predict.reshape(y_test2.shape[0],187)"
   ]
  },
  {
   "cell_type": "code",
   "execution_count": 28,
   "metadata": {},
   "outputs": [
    {
     "name": "stdout",
     "output_type": "stream",
     "text": [
      "(1875, 187)\n",
      "(1875,)\n",
      "(1805, 187)\n",
      "(1805,)\n"
     ]
    }
   ],
   "source": [
    "print(X_train_class.shape)\n",
    "print(y_train_class.shape)\n",
    "print(X_predict_test.shape)\n",
    "print(y_test_class.shape)"
   ]
  },
  {
   "cell_type": "code",
   "execution_count": 29,
   "metadata": {},
   "outputs": [
    {
     "data": {
      "text/plain": [
       "array([0, 1, 2, 3])"
      ]
     },
     "execution_count": 29,
     "metadata": {},
     "output_type": "execute_result"
    }
   ],
   "source": [
    "np.unique(y_train_class)"
   ]
  },
  {
   "cell_type": "code",
   "execution_count": 30,
   "metadata": {},
   "outputs": [],
   "source": [
    "# Bước: Xây dựng mô hình BiLSTM\n",
    "from tensorflow.keras.models import Sequential\n",
    "from tensorflow.keras.layers import LSTM, Bidirectional, Dense\n",
    "\n",
    "input_shape = (X_train_class.shape[1], 1)\n",
    "\n",
    "model_bilstm = Sequential()\n",
    "model_bilstm.add(Bidirectional(LSTM(64, activation='relu', return_sequences=True), input_shape=input_shape))\n",
    "model_bilstm.add(Bidirectional(LSTM(32, activation='relu')))\n",
    "model_bilstm.add(Dense(16, activation='relu'))\n",
    "model_bilstm.add(Dense(5, activation='softmax'))\n",
    "model_bilstm.compile(loss='sparse_categorical_crossentropy', optimizer='adam', metrics=['accuracy'])"
   ]
  },
  {
   "cell_type": "code",
   "execution_count": 31,
   "metadata": {},
   "outputs": [
    {
     "name": "stdout",
     "output_type": "stream",
     "text": [
      "Epoch 1/10\n"
     ]
    },
    {
     "name": "stdout",
     "output_type": "stream",
     "text": [
      "59/59 [==============================] - 16s 159ms/step - loss: 8948702773248.0000 - accuracy: 0.7573\n",
      "Epoch 2/10\n",
      "59/59 [==============================] - 8s 141ms/step - loss: 77155.1484 - accuracy: 0.7605\n",
      "Epoch 3/10\n",
      "59/59 [==============================] - 9s 152ms/step - loss: 7662.3394 - accuracy: 0.7605\n",
      "Epoch 4/10\n",
      "59/59 [==============================] - 8s 133ms/step - loss: 14788.8232 - accuracy: 0.7605\n",
      "Epoch 5/10\n",
      "59/59 [==============================] - 8s 142ms/step - loss: 8053.8618 - accuracy: 0.7605\n",
      "Epoch 6/10\n",
      "59/59 [==============================] - 10s 175ms/step - loss: 141.4227 - accuracy: 0.7605\n",
      "Epoch 7/10\n",
      "59/59 [==============================] - 8s 128ms/step - loss: 220.5220 - accuracy: 0.7573\n",
      "Epoch 8/10\n",
      "59/59 [==============================] - 8s 135ms/step - loss: 163.6054 - accuracy: 0.7605\n",
      "Epoch 9/10\n",
      "59/59 [==============================] - 11s 192ms/step - loss: 88.6741 - accuracy: 0.7600\n",
      "Epoch 10/10\n",
      "59/59 [==============================] - 7s 122ms/step - loss: 68.9258 - accuracy: 0.7611\n"
     ]
    },
    {
     "data": {
      "text/plain": [
       "<keras.src.callbacks.History at 0x2bce57faa10>"
      ]
     },
     "execution_count": 31,
     "metadata": {},
     "output_type": "execute_result"
    }
   ],
   "source": [
    "model_bilstm.fit(X_train_class.reshape(X_train_class.shape[0], X_train_class.shape[1], 1), y_train_class, epochs=10, batch_size=32)"
   ]
  },
  {
   "cell_type": "code",
   "execution_count": 32,
   "metadata": {},
   "outputs": [
    {
     "name": "stdout",
     "output_type": "stream",
     "text": [
      "57/57 [==============================] - 3s 40ms/step\n"
     ]
    }
   ],
   "source": [
    "predictions = model_bilstm.predict(X_predict_test)\n",
    "y_pred_classes = np.argmax(predictions, axis=1)"
   ]
  },
  {
   "cell_type": "code",
   "execution_count": 33,
   "metadata": {},
   "outputs": [
    {
     "data": {
      "text/plain": [
       "0.7573407202216067"
      ]
     },
     "execution_count": 33,
     "metadata": {},
     "output_type": "execute_result"
    }
   ],
   "source": [
    "from sklearn.metrics import accuracy_score\n",
    "accuracy = accuracy_score(y_test_class, y_pred_classes)\n",
    "accuracy"
   ]
  },
  {
   "cell_type": "code",
   "execution_count": 34,
   "metadata": {},
   "outputs": [
    {
     "data": {
      "text/plain": [
       "array([[1366,    0,    5],\n",
       "       [  83,    0,    1],\n",
       "       [ 349,    0,    1]], dtype=int64)"
      ]
     },
     "execution_count": 34,
     "metadata": {},
     "output_type": "execute_result"
    }
   ],
   "source": [
    "from sklearn.metrics import confusion_matrix\n",
    "cm = confusion_matrix(y_test_class, y_pred_classes)\n",
    "cm"
   ]
  },
  {
   "cell_type": "code",
   "execution_count": 35,
   "metadata": {},
   "outputs": [
    {
     "name": "stdout",
     "output_type": "stream",
     "text": [
      "0: 1798\n",
      "3: 7\n"
     ]
    }
   ],
   "source": [
    "import numpy as np\n",
    "\n",
    "unique_values, counts = np.unique(y_pred_classes, return_counts=True)\n",
    "\n",
    "for value, count in zip(unique_values, counts):\n",
    "    print(f\"{value}: {count}\")\n"
   ]
  },
  {
   "cell_type": "code",
   "execution_count": 36,
   "metadata": {},
   "outputs": [
    {
     "name": "stderr",
     "output_type": "stream",
     "text": [
      "c:\\Users\\MSI GAMING\\AppData\\Local\\Programs\\Python\\Python310\\lib\\site-packages\\sklearn\\metrics\\_classification.py:1469: UndefinedMetricWarning: Recall is ill-defined and being set to 0.0 due to no true samples. Use `zero_division` parameter to control this behavior.\n",
      "  _warn_prf(average, modifier, msg_start, len(result))\n",
      "c:\\Users\\MSI GAMING\\AppData\\Local\\Programs\\Python\\Python310\\lib\\site-packages\\sklearn\\metrics\\_classification.py:1469: UndefinedMetricWarning: Recall is ill-defined and being set to 0.0 due to no true samples. Use `zero_division` parameter to control this behavior.\n",
      "  _warn_prf(average, modifier, msg_start, len(result))\n"
     ]
    }
   ],
   "source": [
    "from sklearn.metrics import recall_score\n",
    "\n",
    "sensitivity_class_0 = recall_score(y_test_class == 0, y_pred_classes == 0)\n",
    "sensitivity_class_1 = recall_score(y_test_class == 1, y_pred_classes == 1)\n",
    "sensitivity_class_2 = recall_score(y_test_class == 2, y_pred_classes == 2)\n",
    "sensitivity_class_3 = recall_score(y_test_class == 3, y_pred_classes == 3)\n",
    "sensitivity_class_4 = recall_score(y_test_class == 4, y_pred_classes == 4)\n"
   ]
  },
  {
   "cell_type": "code",
   "execution_count": 37,
   "metadata": {},
   "outputs": [
    {
     "data": {
      "image/png": "[encoded data removed]",
      "text/plain": [
       "<Figure size 800x600 with 1 Axes>"
      ]
     },
     "metadata": {},
     "output_type": "display_data"
    }
   ],
   "source": [
    "import matplotlib.pyplot as plt\n",
    "\n",
    "# Sử dụng recall_score để tính sensitivity cho từng lớp\n",
    "from sklearn.metrics import recall_score\n",
    "\n",
    "# Giả sử bạn đã tính được sensitivity cho các lớp\n",
    "sensitivity_scores = [sensitivity_class_0,sensitivity_class_1, sensitivity_class_2, sensitivity_class_3, sensitivity_class_4]\n",
    "\n",
    "# Tên của các lớp\n",
    "class_names = ['Class 0','Class 1', 'Class 2', 'Class 3', 'Class 4']\n",
    "\n",
    "# Vẽ biểu đồ cột\n",
    "plt.figure(figsize=(8, 6))\n",
    "plt.bar(class_names, sensitivity_scores, color='skyblue')\n",
    "plt.title('Sensitivity for Each Class')\n",
    "plt.xlabel('Class')\n",
    "plt.ylabel('Sensitivity')\n",
    "plt.ylim(0, 1)  # Đặt giới hạn trục y từ 0 đến 1 để hiển thị độ nhạy từ 0% đến 100%\n",
    "plt.show()\n"
   ]
  },
  {
   "cell_type": "markdown",
   "metadata": {},
   "source": [
    "OPTUNA TUTORIAL FOR HYPERPARAMETER OPTIMIZATION"
   ]
  },
  {
   "cell_type": "code",
   "execution_count": 45,
   "metadata": {},
   "outputs": [],
   "source": [
    "import optuna\n",
    "from sklearn.model_selection import train_test_split\n",
    "from tensorflow.keras.models import Sequential\n",
    "from tensorflow.keras.layers import LSTM, Bidirectional, Dense\n",
    "\n",
    "def objective(trial):\n",
    "    # Thiết lập các tham số có thể tối ưu\n",
    "    units_lstm = trial.suggest_int(\"units_lstm\", 32, 128)\n",
    "    units_dense = trial.suggest_int(\"units_dense\", 8, 32)\n",
    "    learning_rate = trial.suggest_loguniform(\"learning_rate\", 1e-5, 1e-1)\n",
    "\n",
    "    # Xây dựng mô hình BiLSTM với các tham số tối ưu\n",
    "    input_shape = (X_train_class.shape[1], 1)\n",
    "    model_bilstm = Sequential()\n",
    "    model_bilstm.add(Bidirectional(LSTM(units_lstm, activation='relu', return_sequences=True), input_shape=input_shape))\n",
    "    model_bilstm.add(Bidirectional(LSTM(units_lstm, activation='relu')))\n",
    "    model_bilstm.add(Dense(units_dense, activation='relu'))\n",
    "    model_bilstm.add(Dense(5, activation='softmax'))\n",
    "    model_bilstm.compile(loss='sparse_categorical_crossentropy', optimizer='adam', metrics=['accuracy'])\n",
    "\n",
    "    # Huấn luyện mô hình với các tham số tối ưu\n",
    "    model_bilstm.fit(X_train_class.reshape(X_train_class.shape[0], X_train_class.shape[1], 1), y_train_class, epochs=10, batch_size=32, verbose=0)\n",
    "\n",
    "    # Đánh giá hiệu suất trên tập dữ liệu xác thực\n",
    "    valid_score = model_bilstm.evaluate(X_train_class.reshape(X_train_class.shape[0], X_train_class.shape[1], 1), y_train_class, verbose=0)[0]\n",
    "\n",
    "    try:\n",
    "        # Các bước tối ưu hóa và tính toán giá trị mất mát\n",
    "        \n",
    "        # Nếu giá trị mất mát không hợp lệ\n",
    "        if valid_score < 0:\n",
    "        # Giá trị mất mát không hợp lệ\n",
    "            raise ValueError(\"Invalid loss value\")\n",
    "        \n",
    "        # Nếu xảy ra lỗi trong quá trình tính toán\n",
    "        max_loss_value = 10  # Giới hạn tối đa cho giá trị mất mát\n",
    "\n",
    "        if valid_score < 0 or valid_score > max_loss_value:\n",
    "        # Giá trị mất mát không hợp lệ\n",
    "            raise ValueError(\"Invalid loss value\")\n",
    "        \n",
    "    except (ValueError, RuntimeError):\n",
    "        # Nếu có lỗi, dùng optuna.TrialPruned() để dừng lần thử nghiệm hiện tại\n",
    "        raise optuna.TrialPruned()\n",
    "\n",
    "    return valid_score"
   ]
  },
  {
   "cell_type": "code",
   "execution_count": 47,
   "metadata": {},
   "outputs": [
    {
     "name": "stderr",
     "output_type": "stream",
     "text": [
      "[I 2023-10-12 17:31:11,261] A new study created in memory with name: no-name-d150b655-2c5e-4b5d-8c26-b0bf31be2b6a\n",
      "C:\\Users\\MSI GAMING\\AppData\\Local\\Temp\\ipykernel_16776\\3205589182.py:10: FutureWarning: suggest_loguniform has been deprecated in v3.0.0. This feature will be removed in v6.0.0. See https://github.com/optuna/optuna/releases/tag/v3.0.0. Use suggest_float(..., log=True) instead.\n",
      "  learning_rate = trial.suggest_loguniform(\"learning_rate\", 1e-5, 1e-1)\n",
      "[W 2023-10-12 17:38:18,729] Trial 0 failed with parameters: {'units_lstm': 109, 'units_dense': 19, 'learning_rate': 0.0037487623783765455} because of the following error: The value nan is not acceptable.\n",
      "[W 2023-10-12 17:38:18,731] Trial 0 failed with value nan.\n",
      "[I 2023-10-12 17:42:17,679] Trial 1 finished with value: 0.669456958770752 and parameters: {'units_lstm': 96, 'units_dense': 24, 'learning_rate': 0.00039428109873256993}. Best is trial 1 with value: 0.669456958770752.\n",
      "[I 2023-10-12 17:48:00,835] Trial 2 finished with value: 0.7778850197792053 and parameters: {'units_lstm': 121, 'units_dense': 12, 'learning_rate': 0.0354747877745084}. Best is trial 1 with value: 0.669456958770752.\n",
      "[W 2023-10-12 17:54:21,548] Trial 3 failed with parameters: {'units_lstm': 104, 'units_dense': 26, 'learning_rate': 0.07730722183726829} because of the following error: The value nan is not acceptable.\n",
      "[W 2023-10-12 17:54:21,550] Trial 3 failed with value nan.\n",
      "[W 2023-10-12 18:00:16,128] Trial 4 failed with parameters: {'units_lstm': 105, 'units_dense': 30, 'learning_rate': 0.004364678780342764} because of the following error: The value nan is not acceptable.\n",
      "[W 2023-10-12 18:00:16,129] Trial 4 failed with value nan.\n",
      "[W 2023-10-12 18:02:08,294] Trial 5 failed with parameters: {'units_lstm': 57, 'units_dense': 20, 'learning_rate': 0.0005159118731702972} because of the following error: The value nan is not acceptable.\n",
      "[W 2023-10-12 18:02:08,295] Trial 5 failed with value nan.\n",
      "[I 2023-10-12 18:05:06,673] Trial 6 finished with value: 0.6641014814376831 and parameters: {'units_lstm': 69, 'units_dense': 25, 'learning_rate': 4.329561997806814e-05}. Best is trial 6 with value: 0.6641014814376831.\n",
      "[W 2023-10-12 18:06:36,604] Trial 7 failed with parameters: {'units_lstm': 40, 'units_dense': 16, 'learning_rate': 0.019338395752879836} because of the following error: The value nan is not acceptable.\n",
      "[W 2023-10-12 18:06:36,606] Trial 7 failed with value nan.\n",
      "[W 2023-10-12 18:09:50,088] Trial 8 failed with parameters: {'units_lstm': 79, 'units_dense': 25, 'learning_rate': 0.008032686298559782} because of the following error: The value nan is not acceptable.\n",
      "[W 2023-10-12 18:09:50,089] Trial 8 failed with value nan.\n",
      "[I 2023-10-12 18:12:07,039] Trial 9 finished with value: 0.6652759313583374 and parameters: {'units_lstm': 70, 'units_dense': 30, 'learning_rate': 0.04710289258647823}. Best is trial 6 with value: 0.6641014814376831.\n"
     ]
    },
    {
     "name": "stdout",
     "output_type": "stream",
     "text": [
      "Best value:  0.6641014814376831\n",
      "Best parameters:  {'units_lstm': 69, 'units_dense': 25, 'learning_rate': 4.329561997806814e-05}\n"
     ]
    }
   ],
   "source": [
    "# Chạy Optuna để tìm tham số tối ưu\n",
    "study = optuna.create_study()\n",
    "study.optimize(objective, n_trials=10)\n",
    "\n",
    "# In ra kết quả tối ưu\n",
    "print(\"Best value: \", study.best_value)\n",
    "print(\"Best parameters: \", study.best_params)"
   ]
  },
  {
   "cell_type": "markdown",
   "metadata": {},
   "source": [
    "FINAL MODEL"
   ]
  },
  {
   "cell_type": "code",
   "execution_count": 49,
   "metadata": {},
   "outputs": [
    {
     "name": "stdout",
     "output_type": "stream",
     "text": [
      "Epoch 1/10\n",
      "59/59 [==============================] - 22s 294ms/step - loss: 1.6050 - accuracy: 0.5573\n",
      "Epoch 2/10\n",
      "59/59 [==============================] - 18s 304ms/step - loss: 1.5874 - accuracy: 0.7605\n",
      "Epoch 3/10\n",
      "59/59 [==============================] - 18s 314ms/step - loss: 1.5517 - accuracy: 0.7605\n",
      "Epoch 4/10\n",
      "59/59 [==============================] - 19s 325ms/step - loss: 13779291136.0000 - accuracy: 0.7605\n",
      "Epoch 5/10\n",
      "59/59 [==============================] - 20s 341ms/step - loss: 1.3812 - accuracy: 0.7605\n",
      "Epoch 6/10\n",
      "59/59 [==============================] - 20s 332ms/step - loss: 3.8783 - accuracy: 0.7605\n",
      "Epoch 7/10\n",
      "59/59 [==============================] - 21s 355ms/step - loss: 1.3372 - accuracy: 0.7605\n",
      "Epoch 8/10\n",
      "59/59 [==============================] - 19s 324ms/step - loss: 1.3308 - accuracy: 0.7605\n",
      "Epoch 9/10\n",
      "59/59 [==============================] - 22s 373ms/step - loss: 1.3202 - accuracy: 0.7605\n",
      "Epoch 10/10\n",
      "59/59 [==============================] - 17s 290ms/step - loss: 1.3099 - accuracy: 0.7605\n"
     ]
    },
    {
     "data": {
      "text/plain": [
       "<keras.src.callbacks.History at 0x2bcac0811b0>"
      ]
     },
     "execution_count": 49,
     "metadata": {},
     "output_type": "execute_result"
    }
   ],
   "source": [
    "from tensorflow.keras.models import Sequential\n",
    "from tensorflow.keras.layers import LSTM, Bidirectional, Dense\n",
    "from tensorflow.keras.optimizers import Adam\n",
    "\n",
    "input_shape = (X_train_class.shape[1], 1)\n",
    "\n",
    "# Các tham số tối ưu\n",
    "units_lstm = 69\n",
    "units_dense = 25\n",
    "learning_rate = 4.329561997806814e-05\n",
    "\n",
    "model_bilstm = Sequential()\n",
    "model_bilstm.add(Bidirectional(LSTM(units_lstm, activation='relu', return_sequences=True), input_shape=input_shape))\n",
    "model_bilstm.add(Bidirectional(LSTM(units_lstm, activation='relu')))\n",
    "model_bilstm.add(Dense(units_dense, activation='relu'))\n",
    "model_bilstm.add(Dense(5, activation='softmax'))\n",
    "model_bilstm.compile(loss='sparse_categorical_crossentropy', optimizer=Adam(learning_rate=learning_rate), metrics=['accuracy'])\n",
    "\n",
    "# Huấn luyện mô hình với dữ liệu huấn luyện\n",
    "#model_bilstm.fit(X_train_class, y_train_class, epochs=10, batch_size=32, validation_data=(X_predict_test, y_test_class))\n",
    "model_bilstm.fit(X_train_class.reshape(X_train_class.shape[0], X_train_class.shape[1], 1), y_train_class, epochs=10, batch_size=32)"
   ]
  },
  {
   "cell_type": "code",
   "execution_count": 50,
   "metadata": {},
   "outputs": [
    {
     "name": "stdout",
     "output_type": "stream",
     "text": [
      "57/57 [==============================] - 6s 92ms/step\n"
     ]
    },
    {
     "data": {
      "text/plain": [
       "0.7595567867036012"
      ]
     },
     "execution_count": 50,
     "metadata": {},
     "output_type": "execute_result"
    }
   ],
   "source": [
    "predictions = model_bilstm.predict(X_predict_test)\n",
    "y_pred_classes = np.argmax(predictions, axis=1)\n",
    "\n",
    "accuracy = accuracy_score(y_test_class, y_pred_classes)\n",
    "accuracy"
   ]
  }
 ],
 "metadata": {
  "kernelspec": {
   "display_name": "KTDL",
   "language": "python",
   "name": "python3"
  },
  "language_info": {
   "codemirror_mode": {
    "name": "ipython",
    "version": 3
   },
   "file_extension": ".py",
   "mimetype": "text/x-python",
   "name": "python",
   "nbconvert_exporter": "python",
   "pygments_lexer": "ipython3",
   "version": "3.10.10"
  },
  "orig_nbformat": 4
 },
 "nbformat": 4,
 "nbformat_minor": 2
}
