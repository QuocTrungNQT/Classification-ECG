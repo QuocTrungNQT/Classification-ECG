{
 "cells": [
  {
   "cell_type": "code",
   "execution_count": 1,
   "metadata": {},
   "outputs": [],
   "source": [
    "import numpy as np\n",
    "import pandas as pd\n",
    "from sklearn.preprocessing import MinMaxScaler\n",
    "from tensorflow.keras.models import Sequential\n",
    "from tensorflow.keras.layers import LSTM, Dense, TimeDistributed\n",
    "from sklearn.model_selection import train_test_split\n",
    "from matplotlib import pyplot as plt\n",
    "import seaborn as sns\n",
    "import tensorflow as tf\n",
    "import os"
   ]
  },
  {
   "cell_type": "markdown",
   "metadata": {},
   "source": [
    "# Configuration"
   ]
  },
  {
   "cell_type": "code",
   "execution_count": 29,
   "metadata": {},
   "outputs": [],
   "source": [
    "data_path = './MIT-BIH/'\n",
    "window_input= 40\n",
    "window_out=40\n",
    "train_size = 0.8\n",
    "test_size = 1 - train_size\n",
    "data_set = {\n",
    "  0: \"testset\",\n",
    "  1: \"trainset\"\n",
    "}"
   ]
  },
  {
   "cell_type": "markdown",
   "metadata": {},
   "source": [
    "# Start"
   ]
  },
  {
   "cell_type": "markdown",
   "metadata": {},
   "source": [
    "Đọc file dữ liệu"
   ]
  },
  {
   "cell_type": "code",
   "execution_count": 33,
   "metadata": {},
   "outputs": [],
   "source": [
    "def get_data(istrainset):    \n",
    "    missing_file = 0\n",
    "    total_sample = 0\n",
    "    directory = f\"{data_path}{data_set[istrainset]}/\"\n",
    "    X, y = [], []\n",
    "    for filename in os.listdir(directory):\n",
    "        f = os.path.join(directory, filename)\n",
    "        if os.path.isfile(f):\n",
    "            df = pd.read_csv(f, header=None)\n",
    "            data=df.drop(columns=187)\n",
    "            data=data.values\n",
    "            data1 = df.iloc[:, 187].values\n",
    "            # Số lượng lặp qua dữ liệu\n",
    "            num_samples = len(data) - window_input - window_out + 1\n",
    "            # print(\"----------------------\")\n",
    "            # print(\"🍒Len data:\", len(data))\n",
    "            # print(\"🍒Num_samples:\", num_samples)\n",
    "            # Đối với tập train\n",
    "            # Tạo dữ liệu train từ cửa sổ trượt\n",
    "            if(num_samples>0):\n",
    "                total_sample = total_sample + num_samples\n",
    "                for i in range(num_samples):\n",
    "                    X_window = data[i:i+window_input]\n",
    "                    y_window = data1\n",
    "\n",
    "                    X.append(X_window)\n",
    "                    y.append(y_window)\n",
    "            else:\n",
    "                missing_file = missing_file + 1\n",
    "    return X\n",
    "    print(f\"Num of file can not use due to its missing of length: {missing_file}\")\n",
    "    print(f\"Number of sample: {len(y)}/{len(X)}/{total_sample}\")"
   ]
  },
  {
   "cell_type": "code",
   "execution_count": 31,
   "metadata": {},
   "outputs": [],
   "source": [
    "X_train, y_train = get_data(1)\n",
    "X_test = get_data(0)"
   ]
  },
  {
   "cell_type": "code",
   "execution_count": 24,
   "metadata": {},
   "outputs": [
    {
     "name": "stdout",
     "output_type": "stream",
     "text": [
      "Len(X_train/y_train): 76/76\n",
      "Len(X_test/y_test): 20/20\n",
      "Test Rate:  0.20833333333333334\n",
      "Train Rate:  0.7916666666666666\n"
     ]
    }
   ],
   "source": [
    "print(f\"Len(X_train/y_train): {len(X_pre_train)}/{len(y_pre_train)}\")\n",
    "print(f\"Len(X_test/y_test): {len(X_pre_test)}/{len(y_pre_test)}\")\n",
    "print(f\"Test Rate: \",len(X_pre_test)/(len(X_pre_train)+len(X_pre_test)))\n",
    "print(f\"Train Rate: \",len(X_pre_train)/(len(X_pre_train)+len(X_pre_test)))"
   ]
  },
  {
   "cell_type": "code",
   "execution_count": 20,
   "metadata": {},
   "outputs": [
    {
     "ename": "ValueError",
     "evalue": "setting an array element with a sequence. The requested array has an inhomogeneous shape after 1 dimensions. The detected shape was (76,) + inhomogeneous part.",
     "output_type": "error",
     "traceback": [
      "\u001b[1;31m---------------------------------------------------------------------------\u001b[0m",
      "\u001b[1;31mValueError\u001b[0m                                Traceback (most recent call last)",
      "\u001b[1;32md:\\UIT\\NCKHSV\\Năm 2023\\Phân lớp.ipynb Cell 9\u001b[0m line \u001b[0;36m1\n\u001b[1;32m----> <a href='vscode-notebook-cell:/d%3A/UIT/NCKHSV/N%C4%83m%202023/Ph%C3%A2n%20l%E1%BB%9Bp.ipynb#X11sZmlsZQ%3D%3D?line=0'>1</a>\u001b[0m X_train \u001b[39m=\u001b[39m np\u001b[39m.\u001b[39;49marray(X_pre_train)\n\u001b[0;32m      <a href='vscode-notebook-cell:/d%3A/UIT/NCKHSV/N%C4%83m%202023/Ph%C3%A2n%20l%E1%BB%9Bp.ipynb#X11sZmlsZQ%3D%3D?line=1'>2</a>\u001b[0m y_train \u001b[39m=\u001b[39m np\u001b[39m.\u001b[39marray(y_pre_train)\n\u001b[0;32m      <a href='vscode-notebook-cell:/d%3A/UIT/NCKHSV/N%C4%83m%202023/Ph%C3%A2n%20l%E1%BB%9Bp.ipynb#X11sZmlsZQ%3D%3D?line=2'>3</a>\u001b[0m X_test \u001b[39m=\u001b[39m np\u001b[39m.\u001b[39marray(X_pre_test)\n",
      "\u001b[1;31mValueError\u001b[0m: setting an array element with a sequence. The requested array has an inhomogeneous shape after 1 dimensions. The detected shape was (76,) + inhomogeneous part."
     ]
    }
   ],
   "source": [
    "X_train = np.array(X_pre_train)\n",
    "y_train = np.array(y_pre_train)\n",
    "X_test = np.array(X_pre_test)\n",
    "y_test = np.array(y_pre_test)"
   ]
  },
  {
   "cell_type": "code",
   "execution_count": null,
   "metadata": {},
   "outputs": [],
   "source": [
    "print(f\"Len(X_train/y_train): {len(X_pre_train)}/{len(y_pre_train)}\")\n",
    "print(f\"Len(X_test/y_test): {len(X_pre_test)}/{len(y_pre_test)}\")\n",
    "print(f\"Test Rate: \",len(X_pre_test)/(len(X_pre_train)+len(X_pre_test)))\n",
    "print(f\"Train Rate: \",len(X_pre_train)/(len(X_pre_train)+len(X_pre_test)))"
   ]
  },
  {
   "cell_type": "code",
   "execution_count": null,
   "metadata": {},
   "outputs": [],
   "source": [
    "X_pre_train"
   ]
  },
  {
   "cell_type": "code",
   "execution_count": null,
   "metadata": {},
   "outputs": [],
   "source": [
    "X_train = X_pre_train[:, :-1]"
   ]
  }
 ],
 "metadata": {
  "kernelspec": {
   "display_name": "Python 3",
   "language": "python",
   "name": "python3"
  },
  "language_info": {
   "codemirror_mode": {
    "name": "ipython",
    "version": 3
   },
   "file_extension": ".py",
   "mimetype": "text/x-python",
   "name": "python",
   "nbconvert_exporter": "python",
   "pygments_lexer": "ipython3",
   "version": "3.10.10"
  }
 },
 "nbformat": 4,
 "nbformat_minor": 2
}
