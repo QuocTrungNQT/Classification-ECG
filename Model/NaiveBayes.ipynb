{
 "cells": [
  {
   "cell_type": "code",
   "execution_count": 1,
   "metadata": {},
   "outputs": [],
   "source": [
    "import numpy as np\n",
    "import pandas as pd\n",
    "from sklearn.preprocessing import MinMaxScaler\n",
    "from tensorflow.keras.models import Sequential\n",
    "from tensorflow.keras.layers import LSTM, Dense, TimeDistributed\n",
    "from sklearn.model_selection import train_test_split\n",
    "from matplotlib import pyplot as plt\n",
    "import seaborn as sns\n",
    "import tensorflow as tf"
   ]
  },
  {
   "cell_type": "markdown",
   "metadata": {},
   "source": [
    "DỰ ĐOÁN TÍN HIỆU ECG"
   ]
  },
  {
   "cell_type": "code",
   "execution_count": 2,
   "metadata": {},
   "outputs": [],
   "source": [
    "# Đọc file CSV vào DataFrame\n",
    "df = pd.read_csv('../File CSV/MIT-BIH/208_MLII.csv', header=None)\n",
    "data=df.drop(columns=187)\n",
    "data=data.values"
   ]
  },
  {
   "cell_type": "code",
   "execution_count": 3,
   "metadata": {},
   "outputs": [],
   "source": [
    "train_size = 0.8\n",
    "test_size = 1 - train_size\n",
    "\n",
    "# Tính số lượng dòng cho tập train\n",
    "num_train_samples = int(len(data) * train_size)\n",
    "\n",
    "# Chia dữ liệu thành tập train và tập test\n",
    "train_data = data[:num_train_samples]\n",
    "test_data = data[num_train_samples:]"
   ]
  },
  {
   "cell_type": "code",
   "execution_count": 4,
   "metadata": {},
   "outputs": [],
   "source": [
    "#Chia khung\n",
    "window_input= 10\n",
    "window_out=5"
   ]
  },
  {
   "cell_type": "code",
   "execution_count": 5,
   "metadata": {},
   "outputs": [],
   "source": [
    "# Số lượng lặp qua dữ liệu\n",
    "num_samples_train = len(train_data) - window_input - window_out + 1\n",
    "num_samples_test = len(test_data) - window_input - window_out + 1\n",
    "\n",
    "# Đối với tập train\n",
    "# Tạo dữ liệu train từ cửa sổ trượt\n",
    "X_train, y_train, X_test, y_test = [], [], [], []\n",
    "\n",
    "for i in range(num_samples_train):\n",
    "    X_window = data[i:i+window_input]\n",
    "    y_window = data[i+window_input:i+window_input+window_out]\n",
    "\n",
    "    X_train.append(X_window)\n",
    "    y_train.append(y_window)\n",
    "\n"
   ]
  },
  {
   "cell_type": "code",
   "execution_count": 6,
   "metadata": {},
   "outputs": [],
   "source": [
    "# Đối với tập test\n",
    "for i in range(num_samples_test):\n",
    "    X_window = data[i:i+window_input]\n",
    "    y_window = data[i+window_input:i+window_input+window_out]\n",
    "\n",
    "    X_test.append(X_window)\n",
    "    y_test.append(y_window)"
   ]
  },
  {
   "cell_type": "code",
   "execution_count": 7,
   "metadata": {},
   "outputs": [],
   "source": [
    "X_train= np.array(X_train)\n",
    "y_train= np.array(y_train)\n",
    "X_test= np.array(X_test)\n",
    "y_test= np.array(y_test)"
   ]
  },
  {
   "cell_type": "code",
   "execution_count": 8,
   "metadata": {},
   "outputs": [],
   "source": [
    "# Tạo một mô hình LSTM\n",
    "model = Sequential()\n",
    "model.add(LSTM(64,activation='relu' ,input_shape=(10, 187)))  # Đặt input_shape phù hợp với kích thước của mảng X_train\n",
    "model.add(Dense(5 * 187))  # Đặt lớp Dense phù hợp với kích thước của mảng y_train\n",
    "# Biên dịch mô hình\n",
    "model.compile(optimizer='adam', loss='mean_squared_error')"
   ]
  },
  {
   "cell_type": "code",
   "execution_count": 9,
   "metadata": {},
   "outputs": [
    {
     "name": "stdout",
     "output_type": "stream",
     "text": [
      "Epoch 1/50\n",
      "93/93 [==============================] - 3s 6ms/step - loss: 0.0252\n",
      "Epoch 2/50\n",
      "93/93 [==============================] - 1s 6ms/step - loss: 0.0210\n",
      "Epoch 3/50\n",
      "93/93 [==============================] - 1s 7ms/step - loss: 0.0198\n",
      "Epoch 4/50\n",
      "93/93 [==============================] - 1s 6ms/step - loss: 0.0194\n",
      "Epoch 5/50\n",
      "93/93 [==============================] - 1s 6ms/step - loss: 0.0192\n",
      "Epoch 6/50\n",
      "93/93 [==============================] - 1s 6ms/step - loss: 0.0190\n",
      "Epoch 7/50\n",
      "93/93 [==============================] - 1s 6ms/step - loss: 0.0189\n",
      "Epoch 8/50\n",
      "93/93 [==============================] - 1s 6ms/step - loss: 0.0188\n",
      "Epoch 9/50\n",
      "93/93 [==============================] - 1s 6ms/step - loss: 0.0186\n",
      "Epoch 10/50\n",
      "93/93 [==============================] - 1s 6ms/step - loss: 0.0186\n",
      "Epoch 11/50\n",
      "93/93 [==============================] - 1s 6ms/step - loss: 0.0184\n",
      "Epoch 12/50\n",
      "93/93 [==============================] - 1s 6ms/step - loss: 0.0183\n",
      "Epoch 13/50\n",
      "93/93 [==============================] - 1s 7ms/step - loss: 0.0182\n",
      "Epoch 14/50\n",
      "93/93 [==============================] - 1s 6ms/step - loss: 0.0180\n",
      "Epoch 15/50\n",
      "93/93 [==============================] - 1s 8ms/step - loss: 0.0179\n",
      "Epoch 16/50\n",
      "93/93 [==============================] - 1s 9ms/step - loss: 0.0178\n",
      "Epoch 17/50\n",
      "93/93 [==============================] - 1s 7ms/step - loss: 0.0177\n",
      "Epoch 18/50\n",
      "93/93 [==============================] - 1s 7ms/step - loss: 0.0176\n",
      "Epoch 19/50\n",
      "93/93 [==============================] - 1s 8ms/step - loss: 0.0174\n",
      "Epoch 20/50\n",
      "93/93 [==============================] - 1s 6ms/step - loss: 0.0173\n",
      "Epoch 21/50\n",
      "93/93 [==============================] - 1s 7ms/step - loss: 0.0172\n",
      "Epoch 22/50\n",
      "93/93 [==============================] - 1s 6ms/step - loss: 0.0170\n",
      "Epoch 23/50\n",
      "93/93 [==============================] - 1s 6ms/step - loss: 0.0168\n",
      "Epoch 24/50\n",
      "93/93 [==============================] - 1s 7ms/step - loss: 0.0168\n",
      "Epoch 25/50\n",
      "93/93 [==============================] - 1s 7ms/step - loss: 0.0166\n",
      "Epoch 26/50\n",
      "93/93 [==============================] - 1s 6ms/step - loss: 0.0165\n",
      "Epoch 27/50\n",
      "93/93 [==============================] - 1s 6ms/step - loss: 0.0163\n",
      "Epoch 28/50\n",
      "93/93 [==============================] - 1s 6ms/step - loss: 0.0162\n",
      "Epoch 29/50\n",
      "93/93 [==============================] - 1s 6ms/step - loss: 0.0160\n",
      "Epoch 30/50\n",
      "93/93 [==============================] - 1s 6ms/step - loss: 0.0158\n",
      "Epoch 31/50\n",
      "93/93 [==============================] - 1s 6ms/step - loss: 0.0157\n",
      "Epoch 32/50\n",
      "93/93 [==============================] - 1s 7ms/step - loss: 0.0155\n",
      "Epoch 33/50\n",
      "93/93 [==============================] - 1s 7ms/step - loss: 0.0153\n",
      "Epoch 34/50\n",
      "93/93 [==============================] - 1s 6ms/step - loss: 0.0152\n",
      "Epoch 35/50\n",
      "93/93 [==============================] - 1s 6ms/step - loss: 0.0150\n",
      "Epoch 36/50\n",
      "93/93 [==============================] - 1s 7ms/step - loss: 0.0148\n",
      "Epoch 37/50\n",
      "93/93 [==============================] - 1s 7ms/step - loss: 0.0146\n",
      "Epoch 38/50\n",
      "93/93 [==============================] - 1s 7ms/step - loss: 0.0143\n",
      "Epoch 39/50\n",
      "93/93 [==============================] - 1s 7ms/step - loss: 0.0143\n",
      "Epoch 40/50\n",
      "93/93 [==============================] - 1s 8ms/step - loss: 0.0140\n",
      "Epoch 41/50\n",
      "93/93 [==============================] - 1s 7ms/step - loss: 0.0138\n",
      "Epoch 42/50\n",
      "93/93 [==============================] - 1s 7ms/step - loss: 0.0137\n",
      "Epoch 43/50\n",
      "93/93 [==============================] - 1s 8ms/step - loss: 0.0136\n",
      "Epoch 44/50\n",
      "93/93 [==============================] - 1s 7ms/step - loss: 0.0134\n",
      "Epoch 45/50\n",
      "93/93 [==============================] - 1s 7ms/step - loss: 0.0133\n",
      "Epoch 46/50\n",
      "93/93 [==============================] - 1s 8ms/step - loss: 0.0132\n",
      "Epoch 47/50\n",
      "93/93 [==============================] - 1s 6ms/step - loss: 0.0131\n",
      "Epoch 48/50\n",
      "93/93 [==============================] - 1s 6ms/step - loss: 0.0129\n",
      "Epoch 49/50\n",
      "93/93 [==============================] - 1s 6ms/step - loss: 0.0127\n",
      "Epoch 50/50\n",
      "93/93 [==============================] - 1s 6ms/step - loss: 0.0126\n"
     ]
    },
    {
     "data": {
      "text/plain": [
       "<keras.callbacks.History at 0x1ddc02f2290>"
      ]
     },
     "execution_count": 9,
     "metadata": {},
     "output_type": "execute_result"
    }
   ],
   "source": [
    "model.fit(X_train, y_train.reshape(-1, 5 * 187), epochs=64, batch_size=16)"
   ]
  },
  {
   "cell_type": "code",
   "execution_count": 10,
   "metadata": {},
   "outputs": [
    {
     "name": "stdout",
     "output_type": "stream",
     "text": [
      "12/12 [==============================] - 1s 3ms/step\n"
     ]
    }
   ],
   "source": [
    "# Dự đoán trên tập kiểm tra\n",
    "y_pred = model.predict(X_test)\n"
   ]
  },
  {
   "cell_type": "code",
   "execution_count": 11,
   "metadata": {},
   "outputs": [
    {
     "name": "stdout",
     "output_type": "stream",
     "text": [
      "Mean Squared Error (MSE): 0.012422932877795133\n",
      "R-squared (R2): 0.4148025310838125\n"
     ]
    }
   ],
   "source": [
    "from sklearn.metrics import mean_squared_error, r2_score\n",
    "# Độ đo Mean Squared Error (MSE)\n",
    "mse = mean_squared_error(y_test.reshape(-1, 5 * 187), y_pred)\n",
    "print(f\"Mean Squared Error (MSE): {mse}\")\n",
    "\n",
    "# Độ đo R-squared (R2)\n",
    "r2 = r2_score(y_test.reshape(-1, 5 * 187), y_pred)\n",
    "print(f\"R-squared (R2): {r2}\")"
   ]
  },
  {
   "cell_type": "code",
   "execution_count": 12,
   "metadata": {},
   "outputs": [
    {
     "data": {
      "image/png": "[encoded data removed]",
      "text/plain": [
       "<Figure size 1200x600 with 1 Axes>"
      ]
     },
     "metadata": {},
     "output_type": "display_data"
    }
   ],
   "source": [
    "import matplotlib.pyplot as plt\n",
    "\n",
    "# Chọn một ví dụ cụ thể để trực quan hóa\n",
    "example_index = 3  # Thay đổi chỉ số ví dụ nếu cần\n",
    "\n",
    "# Lấy giá trị dự đoán và giá trị thực tế tương ứng\n",
    "y_pred_example = y_pred[example_index].reshape(5, 187)\n",
    "y_test_example = y_test[example_index].reshape(5, 187)\n",
    "\n",
    "# Vẽ biểu đồ cho giá trị dự đoán (màu xanh) và giá trị thực tế (màu đỏ)\n",
    "plt.figure(figsize=(12, 6))\n",
    "plt.plot(y_pred_example[0], label='Dự đoán', color='blue')\n",
    "plt.plot(y_test_example[0], label='Thực tế', color='red')\n",
    "plt.xlabel('Cột giá trị')\n",
    "plt.ylabel('Giá trị')\n",
    "plt.title('So sánh Dự đoán và Thực tế cho ví dụ cụ thể')\n",
    "plt.legend()\n",
    "plt.grid()\n",
    "plt.show()\n"
   ]
  },
  {
   "cell_type": "markdown",
   "metadata": {},
   "source": [
    "PHÂN LỚP TÍN HIỆU ECG TƯƠNG LAI"
   ]
  },
  {
   "cell_type": "code",
   "execution_count": 13,
   "metadata": {},
   "outputs": [],
   "source": [
    "# Đọc file CSV vào DataFrame\n",
    "data2=df.values"
   ]
  },
  {
   "cell_type": "code",
   "execution_count": 14,
   "metadata": {},
   "outputs": [],
   "source": [
    "train_size = 0.8\n",
    "test_size = 1 - train_size\n",
    "\n",
    "# Tính số lượng dòng cho tập train\n",
    "num_train_samples = int(len(data2) * train_size)\n",
    "\n",
    "# Chia dữ liệu thành tập train và tập test\n",
    "train_data2 = data2[:num_train_samples]\n",
    "test_data2 = data2[num_train_samples:]"
   ]
  },
  {
   "cell_type": "code",
   "execution_count": 15,
   "metadata": {},
   "outputs": [],
   "source": [
    "X_train_class= data2[:,:-1]\n",
    "y_train_class= data2[:,-1].astype(int)"
   ]
  },
  {
   "cell_type": "code",
   "execution_count": 16,
   "metadata": {},
   "outputs": [],
   "source": [
    "num_samples_test2 = len(test_data2) - window_input - window_out + 1\n",
    "X_test2, y_test2 = [], []\n",
    "# Đối với tập test\n",
    "for i in range(num_samples_test2):\n",
    "    X_window = data2[i:i+window_input]\n",
    "    y_window = data2[i+window_input:i+window_input+window_out]\n",
    "\n",
    "    X_test2.append(X_window)\n",
    "    y_test2.append(y_window)"
   ]
  },
  {
   "cell_type": "code",
   "execution_count": 17,
   "metadata": {},
   "outputs": [],
   "source": [
    "y_test2=np.array(y_test2)"
   ]
  },
  {
   "cell_type": "code",
   "execution_count": 18,
   "metadata": {},
   "outputs": [
    {
     "data": {
      "text/plain": [
       "(361, 5, 188)"
      ]
     },
     "execution_count": 18,
     "metadata": {},
     "output_type": "execute_result"
    }
   ],
   "source": [
    "y_test2.shape\n"
   ]
  },
  {
   "cell_type": "code",
   "execution_count": 19,
   "metadata": {},
   "outputs": [],
   "source": [
    "y_test2= np.array(y_test2)\n",
    "y_test2=y_test2.reshape(y_test2.shape[0]*5,188)"
   ]
  },
  {
   "cell_type": "code",
   "execution_count": 20,
   "metadata": {},
   "outputs": [],
   "source": [
    "#y_test\n",
    "y_test_class=y_test2[:,-1].astype(int)"
   ]
  },
  {
   "cell_type": "code",
   "execution_count": 21,
   "metadata": {},
   "outputs": [
    {
     "data": {
      "text/plain": [
       "array([0, 2, 3])"
      ]
     },
     "execution_count": 21,
     "metadata": {},
     "output_type": "execute_result"
    }
   ],
   "source": [
    "np.unique(y_test_class)"
   ]
  },
  {
   "cell_type": "code",
   "execution_count": 22,
   "metadata": {},
   "outputs": [],
   "source": [
    "#Dữ liệu dự đoán (X_test)\n",
    "X_predict=y_pred.astype(float)"
   ]
  },
  {
   "cell_type": "code",
   "execution_count": 23,
   "metadata": {},
   "outputs": [],
   "source": [
    "X_predict_test=X_predict.reshape(y_test2.shape[0],187)"
   ]
  },
  {
   "cell_type": "code",
   "execution_count": 24,
   "metadata": {},
   "outputs": [
    {
     "name": "stdout",
     "output_type": "stream",
     "text": [
      "(1875, 187)\n",
      "(1875,)\n",
      "(1805, 187)\n",
      "(1805,)\n"
     ]
    }
   ],
   "source": [
    "print(X_train_class.shape)\n",
    "print(y_train_class.shape)\n",
    "print(X_predict_test.shape)\n",
    "print(y_test_class.shape)"
   ]
  },
  {
   "cell_type": "code",
   "execution_count": 25,
   "metadata": {},
   "outputs": [
    {
     "data": {
      "text/plain": [
       "array([0, 1, 2, 3])"
      ]
     },
     "execution_count": 25,
     "metadata": {},
     "output_type": "execute_result"
    }
   ],
   "source": [
    "np.unique(y_train_class)"
   ]
  },
  {
   "cell_type": "code",
   "execution_count": 26,
   "metadata": {},
   "outputs": [],
   "source": [
    "from sklearn.naive_bayes import GaussianNB\n",
    "\n",
    "# Khởi tạo mô hình Naive Bayes (Gaussian Naive Bayes)\n",
    "nb_model = GaussianNB()"
   ]
  },
  {
   "cell_type": "code",
   "execution_count": 27,
   "metadata": {},
   "outputs": [
    {
     "data": {
      "text/html": [
       "<style>#sk-container-id-1 {color: black;background-color: white;}#sk-container-id-1 pre{padding: 0;}#sk-container-id-1 div.sk-toggleable {background-color: white;}#sk-container-id-1 label.sk-toggleable__label {cursor: pointer;display: block;width: 100%;margin-bottom: 0;padding: 0.3em;box-sizing: border-box;text-align: center;}#sk-container-id-1 label.sk-toggleable__label-arrow:before {content: \"▸\";float: left;margin-right: 0.25em;color: #696969;}#sk-container-id-1 label.sk-toggleable__label-arrow:hover:before {color: black;}#sk-container-id-1 div.sk-estimator:hover label.sk-toggleable__label-arrow:before {color: black;}#sk-container-id-1 div.sk-toggleable__content {max-height: 0;max-width: 0;overflow: hidden;text-align: left;background-color: #f0f8ff;}#sk-container-id-1 div.sk-toggleable__content pre {margin: 0.2em;color: black;border-radius: 0.25em;background-color: #f0f8ff;}#sk-container-id-1 input.sk-toggleable__control:checked~div.sk-toggleable__content {max-height: 200px;max-width: 100%;overflow: auto;}#sk-container-id-1 input.sk-toggleable__control:checked~label.sk-toggleable__label-arrow:before {content: \"▾\";}#sk-container-id-1 div.sk-estimator input.sk-toggleable__control:checked~label.sk-toggleable__label {background-color: #d4ebff;}#sk-container-id-1 div.sk-label input.sk-toggleable__control:checked~label.sk-toggleable__label {background-color: #d4ebff;}#sk-container-id-1 input.sk-hidden--visually {border: 0;clip: rect(1px 1px 1px 1px);clip: rect(1px, 1px, 1px, 1px);height: 1px;margin: -1px;overflow: hidden;padding: 0;position: absolute;width: 1px;}#sk-container-id-1 div.sk-estimator {font-family: monospace;background-color: #f0f8ff;border: 1px dotted black;border-radius: 0.25em;box-sizing: border-box;margin-bottom: 0.5em;}#sk-container-id-1 div.sk-estimator:hover {background-color: #d4ebff;}#sk-container-id-1 div.sk-parallel-item::after {content: \"\";width: 100%;border-bottom: 1px solid gray;flex-grow: 1;}#sk-container-id-1 div.sk-label:hover label.sk-toggleable__label {background-color: #d4ebff;}#sk-container-id-1 div.sk-serial::before {content: \"\";position: absolute;border-left: 1px solid gray;box-sizing: border-box;top: 0;bottom: 0;left: 50%;z-index: 0;}#sk-container-id-1 div.sk-serial {display: flex;flex-direction: column;align-items: center;background-color: white;padding-right: 0.2em;padding-left: 0.2em;position: relative;}#sk-container-id-1 div.sk-item {position: relative;z-index: 1;}#sk-container-id-1 div.sk-parallel {display: flex;align-items: stretch;justify-content: center;background-color: white;position: relative;}#sk-container-id-1 div.sk-item::before, #sk-container-id-1 div.sk-parallel-item::before {content: \"\";position: absolute;border-left: 1px solid gray;box-sizing: border-box;top: 0;bottom: 0;left: 50%;z-index: -1;}#sk-container-id-1 div.sk-parallel-item {display: flex;flex-direction: column;z-index: 1;position: relative;background-color: white;}#sk-container-id-1 div.sk-parallel-item:first-child::after {align-self: flex-end;width: 50%;}#sk-container-id-1 div.sk-parallel-item:last-child::after {align-self: flex-start;width: 50%;}#sk-container-id-1 div.sk-parallel-item:only-child::after {width: 0;}#sk-container-id-1 div.sk-dashed-wrapped {border: 1px dashed gray;margin: 0 0.4em 0.5em 0.4em;box-sizing: border-box;padding-bottom: 0.4em;background-color: white;}#sk-container-id-1 div.sk-label label {font-family: monospace;font-weight: bold;display: inline-block;line-height: 1.2em;}#sk-container-id-1 div.sk-label-container {text-align: center;}#sk-container-id-1 div.sk-container {/* jupyter's `normalize.less` sets `[hidden] { display: none; }` but bootstrap.min.css set `[hidden] { display: none !important; }` so we also need the `!important` here to be able to override the default hidden behavior on the sphinx rendered scikit-learn.org. See: https://github.com/scikit-learn/scikit-learn/issues/21755 */display: inline-block !important;position: relative;}#sk-container-id-1 div.sk-text-repr-fallback {display: none;}</style><div id=\"sk-container-id-1\" class=\"sk-top-container\"><div class=\"sk-text-repr-fallback\"><pre>GaussianNB()</pre><b>In a Jupyter environment, please rerun this cell to show the HTML representation or trust the notebook. <br />On GitHub, the HTML representation is unable to render, please try loading this page with nbviewer.org.</b></div><div class=\"sk-container\" hidden><div class=\"sk-item\"><div class=\"sk-estimator sk-toggleable\"><input class=\"sk-toggleable__control sk-hidden--visually\" id=\"sk-estimator-id-1\" type=\"checkbox\" checked><label for=\"sk-estimator-id-1\" class=\"sk-toggleable__label sk-toggleable__label-arrow\">GaussianNB</label><div class=\"sk-toggleable__content\"><pre>GaussianNB()</pre></div></div></div></div></div>"
      ],
      "text/plain": [
       "GaussianNB()"
      ]
     },
     "execution_count": 27,
     "metadata": {},
     "output_type": "execute_result"
    }
   ],
   "source": [
    "# Huấn luyện mô hình trên tập huấn luyện\n",
    "nb_model.fit(X_train_class, y_train_class)"
   ]
  },
  {
   "cell_type": "code",
   "execution_count": 28,
   "metadata": {},
   "outputs": [],
   "source": [
    "predictions = nb_model.predict(X_predict_test)"
   ]
  },
  {
   "cell_type": "code",
   "execution_count": 29,
   "metadata": {},
   "outputs": [
    {
     "data": {
      "text/plain": [
       "0.7595567867036012"
      ]
     },
     "execution_count": 29,
     "metadata": {},
     "output_type": "execute_result"
    }
   ],
   "source": [
    "from sklearn.metrics import accuracy_score\n",
    "accuracy = accuracy_score(y_test_class, predictions)\n",
    "accuracy"
   ]
  },
  {
   "cell_type": "code",
   "execution_count": 30,
   "metadata": {},
   "outputs": [
    {
     "data": {
      "text/plain": [
       "array([[1371,    0,    0],\n",
       "       [  84,    0,    0],\n",
       "       [ 350,    0,    0]], dtype=int64)"
      ]
     },
     "execution_count": 30,
     "metadata": {},
     "output_type": "execute_result"
    }
   ],
   "source": [
    "from sklearn.metrics import confusion_matrix\n",
    "cm = confusion_matrix(y_test_class, predictions)\n",
    "cm"
   ]
  },
  {
   "cell_type": "code",
   "execution_count": 31,
   "metadata": {},
   "outputs": [
    {
     "name": "stdout",
     "output_type": "stream",
     "text": [
      "0: 1805\n"
     ]
    }
   ],
   "source": [
    "import numpy as np\n",
    "\n",
    "unique_values, counts = np.unique(predictions, return_counts=True)\n",
    "\n",
    "for value, count in zip(unique_values, counts):\n",
    "    print(f\"{value}: {count}\")\n"
   ]
  },
  {
   "cell_type": "code",
   "execution_count": 32,
   "metadata": {},
   "outputs": [
    {
     "name": "stderr",
     "output_type": "stream",
     "text": [
      "c:\\Users\\ASUS\\anaconda3\\envs\\KTDL\\lib\\site-packages\\sklearn\\metrics\\_classification.py:1344: UndefinedMetricWarning: Recall is ill-defined and being set to 0.0 due to no true samples. Use `zero_division` parameter to control this behavior.\n",
      "  _warn_prf(average, modifier, msg_start, len(result))\n",
      "c:\\Users\\ASUS\\anaconda3\\envs\\KTDL\\lib\\site-packages\\sklearn\\metrics\\_classification.py:1344: UndefinedMetricWarning: Recall is ill-defined and being set to 0.0 due to no true samples. Use `zero_division` parameter to control this behavior.\n",
      "  _warn_prf(average, modifier, msg_start, len(result))\n"
     ]
    }
   ],
   "source": [
    "from sklearn.metrics import recall_score\n",
    "\n",
    "sensitivity_class_0 = recall_score(y_test_class == 0, predictions == 0)\n",
    "sensitivity_class_1 = recall_score(y_test_class == 1, predictions == 1)\n",
    "sensitivity_class_2 = recall_score(y_test_class == 2, predictions == 2)\n",
    "sensitivity_class_3 = recall_score(y_test_class == 3, predictions == 3)\n",
    "sensitivity_class_4 = recall_score(y_test_class == 4, predictions == 4)\n"
   ]
  },
  {
   "cell_type": "code",
   "execution_count": 33,
   "metadata": {},
   "outputs": [
    {
     "data": {
      "image/png": "[encoded data removed]",
      "text/plain": [
       "<Figure size 800x600 with 1 Axes>"
      ]
     },
     "metadata": {},
     "output_type": "display_data"
    }
   ],
   "source": [
    "import matplotlib.pyplot as plt\n",
    "\n",
    "# Sử dụng recall_score để tính sensitivity cho từng lớp\n",
    "from sklearn.metrics import recall_score\n",
    "\n",
    "# Giả sử bạn đã tính được sensitivity cho các lớp\n",
    "sensitivity_scores = [sensitivity_class_0,sensitivity_class_1, sensitivity_class_2, sensitivity_class_3, sensitivity_class_4]\n",
    "\n",
    "# Tên của các lớp\n",
    "class_names = ['Class 0','Class 1', 'Class 2', 'Class 3', 'Class 4']\n",
    "\n",
    "# Vẽ biểu đồ cột\n",
    "plt.figure(figsize=(8, 6))\n",
    "plt.bar(class_names, sensitivity_scores, color='skyblue')\n",
    "plt.title('Sensitivity for Each Class')\n",
    "plt.xlabel('Class')\n",
    "plt.ylabel('Sensitivity')\n",
    "plt.ylim(0, 1)  # Đặt giới hạn trục y từ 0 đến 1 để hiển thị độ nhạy từ 0% đến 100%\n",
    "plt.show()\n"
   ]
  }
 ],
 "metadata": {
  "kernelspec": {
   "display_name": "KTDL",
   "language": "python",
   "name": "python3"
  },
  "language_info": {
   "codemirror_mode": {
    "name": "ipython",
    "version": 3
   },
   "file_extension": ".py",
   "mimetype": "text/x-python",
   "name": "python",
   "nbconvert_exporter": "python",
   "pygments_lexer": "ipython3",
   "version": "3.10.9"
  },
  "orig_nbformat": 4
 },
 "nbformat": 4,
 "nbformat_minor": 2
}
