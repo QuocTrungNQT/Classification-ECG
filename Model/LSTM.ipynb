{
 "cells": [
  {
   "cell_type": "code",
   "execution_count": 1,
   "metadata": {},
   "outputs": [],
   "source": [
    "import numpy as np\n",
    "import pandas as pd\n",
    "from sklearn.preprocessing import MinMaxScaler\n",
    "from tensorflow.keras.models import Sequential\n",
    "from tensorflow.keras.layers import LSTM, Dense, TimeDistributed\n",
    "from sklearn.model_selection import train_test_split\n",
    "from matplotlib import pyplot as plt\n",
    "import seaborn as sns\n",
    "import tensorflow as tf"
   ]
  },
  {
   "cell_type": "markdown",
   "metadata": {},
   "source": [
    "DỰ ĐOÁN TÍN HIỆU ECG"
   ]
  },
  {
   "cell_type": "code",
   "execution_count": 2,
   "metadata": {},
   "outputs": [],
   "source": [
    "# Đọc file CSV vào DataFrame\n",
    "df = pd.read_csv('../File CSV/MIT-BIH/208_MLII.csv', header=None)\n",
    "data=df.drop(columns=187)\n",
    "data=data.values"
   ]
  },
  {
   "cell_type": "code",
   "execution_count": 3,
   "metadata": {},
   "outputs": [],
   "source": [
    "train_size = 0.8\n",
    "test_size = 1 - train_size\n",
    "\n",
    "# Tính số lượng dòng cho tập train\n",
    "num_train_samples = int(len(data) * train_size)\n",
    "\n",
    "# Chia dữ liệu thành tập train và tập test\n",
    "train_data = data[:num_train_samples]\n",
    "test_data = data[num_train_samples:]"
   ]
  },
  {
   "cell_type": "code",
   "execution_count": 4,
   "metadata": {},
   "outputs": [],
   "source": [
    "#Chia khung\n",
    "window_input= 10\n",
    "window_out=5"
   ]
  },
  {
   "cell_type": "code",
   "execution_count": 5,
   "metadata": {},
   "outputs": [],
   "source": [
    "# Số lượng lặp qua dữ liệu\n",
    "num_samples_train = len(train_data) - window_input - window_out + 1\n",
    "num_samples_test = len(test_data) - window_input - window_out + 1\n",
    "\n",
    "# Đối với tập train\n",
    "# Tạo dữ liệu train từ cửa sổ trượt\n",
    "X_train, y_train, X_test, y_test = [], [], [], []\n",
    "\n",
    "for i in range(num_samples_train):\n",
    "    X_window = data[i:i+window_input]\n",
    "    y_window = data[i+window_input:i+window_input+window_out]\n",
    "\n",
    "    X_train.append(X_window)\n",
    "    y_train.append(y_window)\n",
    "\n"
   ]
  },
  {
   "cell_type": "code",
   "execution_count": 6,
   "metadata": {},
   "outputs": [],
   "source": [
    "# Đối với tập test\n",
    "for i in range(num_samples_test):\n",
    "    X_window = data[i:i+window_input]\n",
    "    y_window = data[i+window_input:i+window_input+window_out]\n",
    "\n",
    "    X_test.append(X_window)\n",
    "    y_test.append(y_window)"
   ]
  },
  {
   "cell_type": "code",
   "execution_count": 7,
   "metadata": {},
   "outputs": [],
   "source": [
    "X_train= np.array(X_train)\n",
    "y_train= np.array(y_train)\n",
    "X_test= np.array(X_test)\n",
    "y_test= np.array(y_test)"
   ]
  },
  {
   "cell_type": "code",
   "execution_count": 63,
   "metadata": {},
   "outputs": [],
   "source": [
    "# Tạo một mô hình LSTM\n",
    "model = Sequential()\n",
    "model.add(LSTM(64,activation='relu' ,input_shape=(10, 187)))  # Đặt input_shape phù hợp với kích thước của mảng X_train\n",
    "model.add(Dense(5 * 187))  # Đặt lớp Dense phù hợp với kích thước của mảng y_train\n",
    "# Biên dịch mô hình\n",
    "model.compile(optimizer='adam', loss='mean_squared_error')"
   ]
  },
  {
   "cell_type": "code",
   "execution_count": 64,
   "metadata": {},
   "outputs": [
    {
     "name": "stdout",
     "output_type": "stream",
     "text": [
      "Epoch 1/64\n",
      "93/93 [==============================] - 3s 10ms/step - loss: 0.0261\n",
      "Epoch 2/64\n",
      "93/93 [==============================] - 1s 6ms/step - loss: 0.0207\n",
      "Epoch 3/64\n",
      "93/93 [==============================] - 1s 7ms/step - loss: 0.0197\n",
      "Epoch 4/64\n",
      "93/93 [==============================] - 1s 6ms/step - loss: 0.0193\n",
      "Epoch 5/64\n",
      "93/93 [==============================] - 1s 6ms/step - loss: 0.0191\n",
      "Epoch 6/64\n",
      "93/93 [==============================] - 1s 7ms/step - loss: 0.0189\n",
      "Epoch 7/64\n",
      "93/93 [==============================] - 1s 6ms/step - loss: 0.0188\n",
      "Epoch 8/64\n",
      "93/93 [==============================] - 1s 6ms/step - loss: 0.0185\n",
      "Epoch 9/64\n",
      "93/93 [==============================] - 1s 6ms/step - loss: 0.0183\n",
      "Epoch 10/64\n",
      "93/93 [==============================] - 1s 6ms/step - loss: 0.0182\n",
      "Epoch 11/64\n",
      "93/93 [==============================] - 1s 7ms/step - loss: 0.0180\n",
      "Epoch 12/64\n",
      "93/93 [==============================] - 1s 6ms/step - loss: 0.0179\n",
      "Epoch 13/64\n",
      "93/93 [==============================] - 1s 7ms/step - loss: 0.0177\n",
      "Epoch 14/64\n",
      "93/93 [==============================] - 1s 5ms/step - loss: 0.0176\n",
      "Epoch 15/64\n",
      "93/93 [==============================] - 1s 5ms/step - loss: 0.0174\n",
      "Epoch 16/64\n",
      "93/93 [==============================] - 0s 5ms/step - loss: 0.0172\n",
      "Epoch 17/64\n",
      "93/93 [==============================] - 1s 6ms/step - loss: 0.0172\n",
      "Epoch 18/64\n",
      "93/93 [==============================] - 0s 5ms/step - loss: 0.0171\n",
      "Epoch 19/64\n",
      "93/93 [==============================] - 1s 7ms/step - loss: 0.0168\n",
      "Epoch 20/64\n",
      "93/93 [==============================] - 1s 6ms/step - loss: 0.0167\n",
      "Epoch 21/64\n",
      "93/93 [==============================] - 1s 5ms/step - loss: 0.0165\n",
      "Epoch 22/64\n",
      "93/93 [==============================] - 0s 5ms/step - loss: 0.0164\n",
      "Epoch 23/64\n",
      "93/93 [==============================] - 0s 5ms/step - loss: 0.0164\n",
      "Epoch 24/64\n",
      "93/93 [==============================] - 0s 5ms/step - loss: 0.0161\n",
      "Epoch 25/64\n",
      "93/93 [==============================] - 0s 5ms/step - loss: 0.0159\n",
      "Epoch 26/64\n",
      "93/93 [==============================] - 0s 5ms/step - loss: 0.0157\n",
      "Epoch 27/64\n",
      "93/93 [==============================] - 1s 7ms/step - loss: 0.0155\n",
      "Epoch 28/64\n",
      "93/93 [==============================] - 1s 6ms/step - loss: 0.0154\n",
      "Epoch 29/64\n",
      "93/93 [==============================] - 0s 5ms/step - loss: 0.0153\n",
      "Epoch 30/64\n",
      "93/93 [==============================] - 0s 5ms/step - loss: 0.0151\n",
      "Epoch 31/64\n",
      "93/93 [==============================] - 0s 5ms/step - loss: 0.0149\n",
      "Epoch 32/64\n",
      "93/93 [==============================] - 1s 6ms/step - loss: 0.0146\n",
      "Epoch 33/64\n",
      "93/93 [==============================] - 0s 5ms/step - loss: 0.0145\n",
      "Epoch 34/64\n",
      "93/93 [==============================] - 1s 7ms/step - loss: 0.0144\n",
      "Epoch 35/64\n",
      "93/93 [==============================] - 1s 6ms/step - loss: 0.0142\n",
      "Epoch 36/64\n",
      "93/93 [==============================] - 1s 6ms/step - loss: 0.0141\n",
      "Epoch 37/64\n",
      "93/93 [==============================] - 1s 6ms/step - loss: 0.0139\n",
      "Epoch 38/64\n",
      "93/93 [==============================] - 1s 6ms/step - loss: 0.0138\n",
      "Epoch 39/64\n",
      "93/93 [==============================] - 1s 5ms/step - loss: 0.0136\n",
      "Epoch 40/64\n",
      "93/93 [==============================] - 1s 6ms/step - loss: 0.0135\n",
      "Epoch 41/64\n",
      "93/93 [==============================] - 1s 6ms/step - loss: 0.0133\n",
      "Epoch 42/64\n",
      "93/93 [==============================] - 0s 5ms/step - loss: 0.0132\n",
      "Epoch 43/64\n",
      "93/93 [==============================] - 0s 5ms/step - loss: 0.0131\n",
      "Epoch 44/64\n",
      "93/93 [==============================] - 0s 5ms/step - loss: 0.0130\n",
      "Epoch 45/64\n",
      "93/93 [==============================] - 1s 6ms/step - loss: 0.0129\n",
      "Epoch 46/64\n",
      "93/93 [==============================] - 1s 6ms/step - loss: 0.0128\n",
      "Epoch 47/64\n",
      "93/93 [==============================] - 1s 6ms/step - loss: 0.0127\n",
      "Epoch 48/64\n",
      "93/93 [==============================] - 1s 6ms/step - loss: 0.0125\n",
      "Epoch 49/64\n",
      "93/93 [==============================] - 0s 5ms/step - loss: 0.0124\n",
      "Epoch 50/64\n",
      "93/93 [==============================] - 1s 6ms/step - loss: 0.0124\n",
      "Epoch 51/64\n",
      "93/93 [==============================] - 1s 6ms/step - loss: 0.0122\n",
      "Epoch 52/64\n",
      "93/93 [==============================] - 0s 5ms/step - loss: 0.0121\n",
      "Epoch 53/64\n",
      "93/93 [==============================] - 1s 6ms/step - loss: 0.0120\n",
      "Epoch 54/64\n",
      "93/93 [==============================] - 1s 5ms/step - loss: 0.0119\n",
      "Epoch 55/64\n",
      "93/93 [==============================] - 0s 5ms/step - loss: 0.0119\n",
      "Epoch 56/64\n",
      "93/93 [==============================] - 0s 5ms/step - loss: 0.0117\n",
      "Epoch 57/64\n",
      "93/93 [==============================] - 0s 5ms/step - loss: 0.0116\n",
      "Epoch 58/64\n",
      "93/93 [==============================] - 0s 5ms/step - loss: 0.0116\n",
      "Epoch 59/64\n",
      "93/93 [==============================] - 0s 5ms/step - loss: 0.0116\n",
      "Epoch 60/64\n",
      "93/93 [==============================] - 1s 6ms/step - loss: 0.0115\n",
      "Epoch 61/64\n",
      "93/93 [==============================] - 1s 8ms/step - loss: 0.0115\n",
      "Epoch 62/64\n",
      "93/93 [==============================] - 1s 6ms/step - loss: 0.0113\n",
      "Epoch 63/64\n",
      "93/93 [==============================] - 1s 7ms/step - loss: 0.0112\n",
      "Epoch 64/64\n",
      "93/93 [==============================] - 1s 7ms/step - loss: 0.0111\n"
     ]
    },
    {
     "data": {
      "text/plain": [
       "<keras.callbacks.History at 0x24039566ad0>"
      ]
     },
     "execution_count": 64,
     "metadata": {},
     "output_type": "execute_result"
    }
   ],
   "source": [
    "model.fit(X_train, y_train.reshape(-1, 5 * 187), epochs=64, batch_size=16)"
   ]
  },
  {
   "cell_type": "code",
   "execution_count": 65,
   "metadata": {},
   "outputs": [
    {
     "name": "stdout",
     "output_type": "stream",
     "text": [
      "12/12 [==============================] - 0s 4ms/step\n"
     ]
    }
   ],
   "source": [
    "# Dự đoán trên tập kiểm tra\n",
    "y_pred = model.predict(X_test)\n"
   ]
  },
  {
   "cell_type": "code",
   "execution_count": 66,
   "metadata": {},
   "outputs": [
    {
     "name": "stdout",
     "output_type": "stream",
     "text": [
      "Mean Squared Error (MSE): 0.010785498514276749\n",
      "R-squared (R2): 0.48462737734472794\n"
     ]
    }
   ],
   "source": [
    "from sklearn.metrics import mean_squared_error, r2_score\n",
    "# Độ đo Mean Squared Error (MSE)\n",
    "mse = mean_squared_error(y_test.reshape(-1, 5 * 187), y_pred)\n",
    "print(f\"Mean Squared Error (MSE): {mse}\")\n",
    "\n",
    "# Độ đo R-squared (R2)\n",
    "r2 = r2_score(y_test.reshape(-1, 5 * 187), y_pred)\n",
    "print(f\"R-squared (R2): {r2}\")"
   ]
  },
  {
   "cell_type": "code",
   "execution_count": 67,
   "metadata": {},
   "outputs": [
    {
     "data": {
      "image/png": "[encoded data removed]",
      "text/plain": [
       "<Figure size 1200x600 with 1 Axes>"
      ]
     },
     "metadata": {},
     "output_type": "display_data"
    }
   ],
   "source": [
    "import matplotlib.pyplot as plt\n",
    "\n",
    "# Chọn một ví dụ cụ thể để trực quan hóa\n",
    "example_index = 3  # Thay đổi chỉ số ví dụ nếu cần\n",
    "\n",
    "# Lấy giá trị dự đoán và giá trị thực tế tương ứng\n",
    "y_pred_example = y_pred[example_index].reshape(5, 187)\n",
    "y_test_example = y_test[example_index].reshape(5, 187)\n",
    "\n",
    "# Vẽ biểu đồ cho giá trị dự đoán (màu xanh) và giá trị thực tế (màu đỏ)\n",
    "plt.figure(figsize=(12, 6))\n",
    "plt.plot(y_pred_example[0], label='Dự đoán', color='blue')\n",
    "plt.plot(y_test_example[0], label='Thực tế', color='red')\n",
    "plt.xlabel('Cột giá trị')\n",
    "plt.ylabel('Giá trị')\n",
    "plt.title('So sánh Dự đoán và Thực tế cho ví dụ cụ thể')\n",
    "plt.legend()\n",
    "plt.grid()\n",
    "plt.show()\n"
   ]
  },
  {
   "cell_type": "markdown",
   "metadata": {},
   "source": [
    "PHÂN LỚP TÍN HIỆU ECG TƯƠNG LAI"
   ]
  },
  {
   "cell_type": "code",
   "execution_count": 68,
   "metadata": {},
   "outputs": [],
   "source": [
    "# Đọc file CSV vào DataFrame\n",
    "data2=df.values"
   ]
  },
  {
   "cell_type": "code",
   "execution_count": 69,
   "metadata": {},
   "outputs": [],
   "source": [
    "train_size = 0.8\n",
    "test_size = 1 - train_size\n",
    "\n",
    "# Tính số lượng dòng cho tập train\n",
    "num_train_samples = int(len(data2) * train_size)\n",
    "\n",
    "# Chia dữ liệu thành tập train và tập test\n",
    "train_data2 = data2[:num_train_samples]\n",
    "test_data2 = data2[num_train_samples:]"
   ]
  },
  {
   "cell_type": "code",
   "execution_count": 70,
   "metadata": {},
   "outputs": [],
   "source": [
    "X_train_class= data2[:,:-1]\n",
    "y_train_class= data2[:,-1].astype(int)"
   ]
  },
  {
   "cell_type": "code",
   "execution_count": 71,
   "metadata": {},
   "outputs": [],
   "source": [
    "num_samples_test2 = len(test_data2) - window_input - window_out + 1\n",
    "X_test2, y_test2 = [], []\n",
    "# Đối với tập test\n",
    "for i in range(num_samples_test2):\n",
    "    X_window = data2[i:i+window_input]\n",
    "    y_window = data2[i+window_input:i+window_input+window_out]\n",
    "\n",
    "    X_test2.append(X_window)\n",
    "    y_test2.append(y_window)"
   ]
  },
  {
   "cell_type": "code",
   "execution_count": 72,
   "metadata": {},
   "outputs": [],
   "source": [
    "y_test2=np.array(y_test2)"
   ]
  },
  {
   "cell_type": "code",
   "execution_count": 73,
   "metadata": {},
   "outputs": [
    {
     "data": {
      "text/plain": [
       "(361, 5, 188)"
      ]
     },
     "execution_count": 73,
     "metadata": {},
     "output_type": "execute_result"
    }
   ],
   "source": [
    "y_test2.shape\n"
   ]
  },
  {
   "cell_type": "code",
   "execution_count": 74,
   "metadata": {},
   "outputs": [],
   "source": [
    "y_test2= np.array(y_test2)\n",
    "y_test2=y_test2.reshape(y_test2.shape[0]*5,188)"
   ]
  },
  {
   "cell_type": "code",
   "execution_count": 75,
   "metadata": {},
   "outputs": [],
   "source": [
    "#y_test\n",
    "y_test_class=y_test2[:,-1].astype(int)"
   ]
  },
  {
   "cell_type": "code",
   "execution_count": 76,
   "metadata": {},
   "outputs": [
    {
     "data": {
      "text/plain": [
       "array([0, 2, 3])"
      ]
     },
     "execution_count": 76,
     "metadata": {},
     "output_type": "execute_result"
    }
   ],
   "source": [
    "np.unique(y_test_class)"
   ]
  },
  {
   "cell_type": "code",
   "execution_count": 77,
   "metadata": {},
   "outputs": [],
   "source": [
    "#Dữ liệu dự đoán (X_test)\n",
    "X_predict=y_pred.astype(float)"
   ]
  },
  {
   "cell_type": "code",
   "execution_count": 78,
   "metadata": {},
   "outputs": [],
   "source": [
    "X_predict_test=X_predict.reshape(y_test2.shape[0],187)"
   ]
  },
  {
   "cell_type": "code",
   "execution_count": 79,
   "metadata": {},
   "outputs": [
    {
     "name": "stdout",
     "output_type": "stream",
     "text": [
      "(1875, 187)\n",
      "(1875,)\n",
      "(1805, 187)\n",
      "(1805,)\n"
     ]
    }
   ],
   "source": [
    "print(X_train_class.shape)\n",
    "print(y_train_class.shape)\n",
    "print(X_predict_test.shape)\n",
    "print(y_test_class.shape)"
   ]
  },
  {
   "cell_type": "code",
   "execution_count": 80,
   "metadata": {},
   "outputs": [
    {
     "data": {
      "text/plain": [
       "array([0, 1, 2, 3])"
      ]
     },
     "execution_count": 80,
     "metadata": {},
     "output_type": "execute_result"
    }
   ],
   "source": [
    "np.unique(y_train_class)"
   ]
  },
  {
   "cell_type": "code",
   "execution_count": 81,
   "metadata": {},
   "outputs": [],
   "source": [
    "# Bước: Xây dựng mô hình LSTM\n",
    "input_shape = (X_train_class.shape[1], 1)\n",
    "\n",
    "model_lstm= Sequential()\n",
    "model_lstm.add(LSTM(64, input_shape=input_shape, activation='relu', return_sequences=True))\n",
    "model_lstm.add(LSTM(32, activation='relu'))\n",
    "model_lstm.add(Dense(16, activation='relu'))\n",
    "model_lstm.add(Dense(5, activation='softmax'))\n",
    "model_lstm.compile(loss='sparse_categorical_crossentropy', optimizer='adam', metrics=['accuracy'])"
   ]
  },
  {
   "cell_type": "code",
   "execution_count": 82,
   "metadata": {},
   "outputs": [
    {
     "name": "stdout",
     "output_type": "stream",
     "text": [
      "Epoch 1/10\n"
     ]
    },
    {
     "name": "stdout",
     "output_type": "stream",
     "text": [
      "59/59 [==============================] - 12s 135ms/step - loss: 145296.0781 - accuracy: 0.7205\n",
      "Epoch 2/10\n",
      "59/59 [==============================] - 7s 120ms/step - loss: 1.2470 - accuracy: 0.7605\n",
      "Epoch 3/10\n",
      "59/59 [==============================] - 7s 120ms/step - loss: 1.0346 - accuracy: 0.7605\n",
      "Epoch 4/10\n",
      "59/59 [==============================] - 7s 124ms/step - loss: 0.8698 - accuracy: 0.7605\n",
      "Epoch 5/10\n",
      "59/59 [==============================] - 7s 124ms/step - loss: 0.7813 - accuracy: 0.7605\n",
      "Epoch 6/10\n",
      "59/59 [==============================] - 7s 121ms/step - loss: 0.7401 - accuracy: 0.7605\n",
      "Epoch 7/10\n",
      "59/59 [==============================] - 7s 125ms/step - loss: 0.7181 - accuracy: 0.7605\n",
      "Epoch 8/10\n",
      "59/59 [==============================] - 7s 120ms/step - loss: 0.7051 - accuracy: 0.7605\n",
      "Epoch 9/10\n",
      "59/59 [==============================] - 7s 126ms/step - loss: 0.6962 - accuracy: 0.7605\n",
      "Epoch 10/10\n",
      "59/59 [==============================] - 7s 122ms/step - loss: 0.6896 - accuracy: 0.7605\n"
     ]
    },
    {
     "data": {
      "text/plain": [
       "<keras.callbacks.History at 0x2404940ba00>"
      ]
     },
     "execution_count": 82,
     "metadata": {},
     "output_type": "execute_result"
    }
   ],
   "source": [
    "model_lstm.fit(X_train_class.reshape(X_train_class.shape[0], X_train_class.shape[1], 1), y_train_class, epochs=10, batch_size=32)"
   ]
  },
  {
   "cell_type": "code",
   "execution_count": 83,
   "metadata": {},
   "outputs": [
    {
     "name": "stdout",
     "output_type": "stream",
     "text": [
      "57/57 [==============================] - 3s 52ms/step\n"
     ]
    }
   ],
   "source": [
    "predictions = model_lstm.predict(X_predict_test)\n",
    "y_pred_classes = np.argmax(predictions, axis=1)"
   ]
  },
  {
   "cell_type": "code",
   "execution_count": 84,
   "metadata": {},
   "outputs": [
    {
     "data": {
      "text/plain": [
       "0.7595567867036012"
      ]
     },
     "execution_count": 84,
     "metadata": {},
     "output_type": "execute_result"
    }
   ],
   "source": [
    "from sklearn.metrics import accuracy_score\n",
    "accuracy = accuracy_score(y_test_class, y_pred_classes)\n",
    "accuracy"
   ]
  },
  {
   "cell_type": "code",
   "execution_count": 85,
   "metadata": {},
   "outputs": [
    {
     "data": {
      "text/plain": [
       "array([[1371,    0,    0],\n",
       "       [  84,    0,    0],\n",
       "       [ 350,    0,    0]], dtype=int64)"
      ]
     },
     "execution_count": 85,
     "metadata": {},
     "output_type": "execute_result"
    }
   ],
   "source": [
    "from sklearn.metrics import confusion_matrix\n",
    "cm = confusion_matrix(y_test_class, y_pred_classes)\n",
    "cm"
   ]
  },
  {
   "cell_type": "code",
   "execution_count": 86,
   "metadata": {},
   "outputs": [
    {
     "name": "stdout",
     "output_type": "stream",
     "text": [
      "0: 1805\n"
     ]
    }
   ],
   "source": [
    "import numpy as np\n",
    "\n",
    "unique_values, counts = np.unique(y_pred_classes, return_counts=True)\n",
    "\n",
    "for value, count in zip(unique_values, counts):\n",
    "    print(f\"{value}: {count}\")\n"
   ]
  },
  {
   "cell_type": "code",
   "execution_count": 87,
   "metadata": {},
   "outputs": [
    {
     "name": "stderr",
     "output_type": "stream",
     "text": [
      "c:\\Users\\ASUS\\anaconda3\\envs\\KTDL\\lib\\site-packages\\sklearn\\metrics\\_classification.py:1344: UndefinedMetricWarning: Recall is ill-defined and being set to 0.0 due to no true samples. Use `zero_division` parameter to control this behavior.\n",
      "  _warn_prf(average, modifier, msg_start, len(result))\n",
      "c:\\Users\\ASUS\\anaconda3\\envs\\KTDL\\lib\\site-packages\\sklearn\\metrics\\_classification.py:1344: UndefinedMetricWarning: Recall is ill-defined and being set to 0.0 due to no true samples. Use `zero_division` parameter to control this behavior.\n",
      "  _warn_prf(average, modifier, msg_start, len(result))\n"
     ]
    }
   ],
   "source": [
    "from sklearn.metrics import recall_score\n",
    "\n",
    "sensitivity_class_0 = recall_score(y_test_class == 0, y_pred_classes == 0)\n",
    "sensitivity_class_1 = recall_score(y_test_class == 1, y_pred_classes == 1)\n",
    "sensitivity_class_2 = recall_score(y_test_class == 2, y_pred_classes == 2)\n",
    "sensitivity_class_3 = recall_score(y_test_class == 3, y_pred_classes == 3)\n",
    "sensitivity_class_4 = recall_score(y_test_class == 4, y_pred_classes == 4)\n"
   ]
  },
  {
   "cell_type": "code",
   "execution_count": 88,
   "metadata": {},
   "outputs": [
    {
     "data": {
      "image/png": "[encoded data removed]",
      "text/plain": [
       "<Figure size 800x600 with 1 Axes>"
      ]
     },
     "metadata": {},
     "output_type": "display_data"
    }
   ],
   "source": [
    "import matplotlib.pyplot as plt\n",
    "\n",
    "# Sử dụng recall_score để tính sensitivity cho từng lớp\n",
    "from sklearn.metrics import recall_score\n",
    "\n",
    "# Giả sử bạn đã tính được sensitivity cho các lớp\n",
    "sensitivity_scores = [sensitivity_class_0,sensitivity_class_1, sensitivity_class_2, sensitivity_class_3, sensitivity_class_4]\n",
    "\n",
    "# Tên của các lớp\n",
    "class_names = ['Class 0','Class 1', 'Class 2', 'Class 3', 'Class 4']\n",
    "\n",
    "# Vẽ biểu đồ cột\n",
    "plt.figure(figsize=(8, 6))\n",
    "plt.bar(class_names, sensitivity_scores, color='skyblue')\n",
    "plt.title('Sensitivity for Each Class')\n",
    "plt.xlabel('Class')\n",
    "plt.ylabel('Sensitivity')\n",
    "plt.ylim(0, 1)  # Đặt giới hạn trục y từ 0 đến 1 để hiển thị độ nhạy từ 0% đến 100%\n",
    "plt.show()\n"
   ]
  }
 ],
 "metadata": {
  "kernelspec": {
   "display_name": "KTDL",
   "language": "python",
   "name": "python3"
  },
  "language_info": {
   "codemirror_mode": {
    "name": "ipython",
    "version": 3
   },
   "file_extension": ".py",
   "mimetype": "text/x-python",
   "name": "python",
   "nbconvert_exporter": "python",
   "pygments_lexer": "ipython3",
   "version": "3.10.9"
  },
  "orig_nbformat": 4
 },
 "nbformat": 4,
 "nbformat_minor": 2
}
