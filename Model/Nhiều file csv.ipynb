{
 "cells": [
  {
   "cell_type": "markdown",
   "metadata": {},
   "source": [
    "Import Libraries"
   ]
  },
  {
   "cell_type": "code",
   "execution_count": 2,
   "metadata": {},
   "outputs": [],
   "source": [
    "import numpy as np \n",
    "import pandas as pd \n",
    "import os\n",
    "\n",
    "import matplotlib.pyplot as plt\n",
    "import csv\n",
    "import itertools\n",
    "import collections\n",
    "\n",
    "import seaborn as sns\n",
    "import tensorflow as tf\n",
    "\n",
    "from sklearn.model_selection import train_test_split\n",
    "\n",
    "from tensorflow.keras.models import Sequential\n",
    "from sklearn.preprocessing import MinMaxScaler\n",
    "from tensorflow.keras.models import Sequential\n",
    "from tensorflow.keras.layers import LSTM, Dense, TimeDistributed\n",
    "\n",
    "%matplotlib inline"
   ]
  },
  {
   "cell_type": "markdown",
   "metadata": {},
   "source": [
    "Read files"
   ]
  },
  {
   "cell_type": "code",
   "execution_count": 12,
   "metadata": {},
   "outputs": [],
   "source": [
    "path = './MIT-BIH/';\n",
    "# Read files\n",
    "filenames = next(os.walk(path))[2]\n",
    "\n",
    "# Split and save .csv , .txt \n",
    "records = list()\n",
    "annotations = list()\n",
    "filenames.sort()"
   ]
  },
  {
   "cell_type": "code",
   "execution_count": 4,
   "metadata": {},
   "outputs": [
    {
     "name": "stdout",
     "output_type": "stream",
     "text": [
      "['./MIT-BIH/100_MLII.csv', './MIT-BIH/100_V5.csv', './MIT-BIH/101_MLII.csv', './MIT-BIH/101_V1.csv', './MIT-BIH/102_V2.csv', './MIT-BIH/102_V5.csv', './MIT-BIH/103_MLII.csv', './MIT-BIH/103_V2.csv', './MIT-BIH/104_V2.csv', './MIT-BIH/104_V5.csv', './MIT-BIH/105_MLII.csv', './MIT-BIH/105_V1.csv', './MIT-BIH/106_MLII.csv', './MIT-BIH/106_V1.csv', './MIT-BIH/107_MLII.csv', './MIT-BIH/107_V1.csv', './MIT-BIH/108_MLII.csv', './MIT-BIH/108_V1.csv', './MIT-BIH/109_MLII.csv', './MIT-BIH/109_V1.csv', './MIT-BIH/111_MLII.csv', './MIT-BIH/111_V1.csv', './MIT-BIH/112_MLII.csv', './MIT-BIH/112_V1.csv', './MIT-BIH/113_MLII.csv', './MIT-BIH/113_V1.csv', './MIT-BIH/114_MLII.csv', './MIT-BIH/114_V5.csv', './MIT-BIH/115_MLII.csv', './MIT-BIH/115_V1.csv', './MIT-BIH/116_MLII.csv', './MIT-BIH/116_V1.csv', './MIT-BIH/117_MLII.csv', './MIT-BIH/117_V2.csv', './MIT-BIH/118_MLII.csv', './MIT-BIH/118_V1.csv', './MIT-BIH/119_MLII.csv', './MIT-BIH/119_V1.csv', './MIT-BIH/121_MLII.csv', './MIT-BIH/121_V1.csv', './MIT-BIH/122_MLII.csv', './MIT-BIH/122_V1.csv', './MIT-BIH/123_MLII.csv', './MIT-BIH/123_V5.csv', './MIT-BIH/124_MLII.csv', './MIT-BIH/124_V4.csv', './MIT-BIH/200_MLII.csv', './MIT-BIH/200_V1.csv', './MIT-BIH/201_MLII.csv', './MIT-BIH/201_V1.csv', './MIT-BIH/202_MLII.csv', './MIT-BIH/202_V1.csv', './MIT-BIH/203_MLII.csv', './MIT-BIH/203_V1.csv', './MIT-BIH/205_MLII.csv', './MIT-BIH/205_V1.csv', './MIT-BIH/207_MLII.csv', './MIT-BIH/207_V1.csv', './MIT-BIH/208_MLII.csv', './MIT-BIH/208_V1.csv', './MIT-BIH/209_MLII.csv', './MIT-BIH/209_V1.csv', './MIT-BIH/210_MLII.csv', './MIT-BIH/210_V1.csv', './MIT-BIH/212_MLII.csv', './MIT-BIH/212_V1.csv', './MIT-BIH/213_MLII.csv', './MIT-BIH/213_V1.csv', './MIT-BIH/214_MLII.csv', './MIT-BIH/214_V1.csv', './MIT-BIH/215_MLII.csv', './MIT-BIH/215_V1.csv', './MIT-BIH/217_MLII.csv', './MIT-BIH/217_V1.csv', './MIT-BIH/219_MLII.csv', './MIT-BIH/219_V1.csv', './MIT-BIH/220_MLII.csv', './MIT-BIH/220_V1.csv', './MIT-BIH/221_MLII.csv', './MIT-BIH/221_V1.csv', './MIT-BIH/222_MLII.csv', './MIT-BIH/222_V1.csv', './MIT-BIH/223_MLII.csv', './MIT-BIH/223_V1.csv', './MIT-BIH/228_MLII.csv', './MIT-BIH/228_V1.csv', './MIT-BIH/230_MLII.csv', './MIT-BIH/230_V1.csv', './MIT-BIH/231_MLII.csv', './MIT-BIH/231_V1.csv', './MIT-BIH/232_MLII.csv', './MIT-BIH/232_V1.csv', './MIT-BIH/233_MLII.csv', './MIT-BIH/233_V1.csv', './MIT-BIH/234_MLII.csv', './MIT-BIH/234_V1.csv']\n"
     ]
    }
   ],
   "source": [
    "# segrefating filenames and annotations\n",
    "for f in filenames:\n",
    "    filename, file_extension = os.path.splitext(f)\n",
    "    \n",
    "    # *.csv\n",
    "    if(file_extension == '.csv'):\n",
    "        records.append(path + filename + file_extension)\n",
    "\n",
    "    # *.txt\n",
    "    else:\n",
    "        annotations.append(path + filename + file_extension)\n",
    "print(records)"
   ]
  },
  {
   "cell_type": "code",
   "execution_count": 5,
   "metadata": {},
   "outputs": [],
   "source": [
    "train_folders = records[0: 76]\n",
    "test_folders = records[:95]"
   ]
  },
  {
   "cell_type": "code",
   "execution_count": 6,
   "metadata": {},
   "outputs": [
    {
     "name": "stdout",
     "output_type": "stream",
     "text": [
      "      0.752733  0.730747  0.159375  0.319714  0.266970  0.307124  0.270779  \\\n",
      "0     0.628595  0.571475 -0.009939  0.076968  0.122889  0.170717  0.142956   \n",
      "1     0.735441  0.738430  0.084738  0.206169  0.121107  0.179561  0.122728   \n",
      "2     0.738411  0.699388  0.051565  0.203068  0.125145  0.175656  0.134468   \n",
      "3     0.680462  0.680163 -0.019243  0.161988  0.107638  0.159469  0.108530   \n",
      "4     0.582148  0.524486 -0.040619  0.117758  0.091763  0.138946  0.111530   \n",
      "...        ...       ...       ...       ...       ...       ...       ...   \n",
      "2260  0.655886  0.462990 -0.027770  0.197068  0.131335  0.206258  0.154236   \n",
      "2261  0.738342  0.627394 -0.061221  0.132494  0.047617  0.102561  0.056248   \n",
      "2262  0.740587  0.666731  0.015605  0.212601  0.147614  0.204291  0.157438   \n",
      "2263  0.677623  0.747006 -0.000209  0.125799  0.126878  0.156325  0.127174   \n",
      "2264  0.766317  0.636956  0.035152  0.263598  0.155145  0.242336  0.164824   \n",
      "\n",
      "      0.285674  0.281439  0.283470  ...  0.000000.62  0.000000.63  \\\n",
      "0     0.171063  0.157647  0.162291  ...          0.0          0.0   \n",
      "1     0.175328  0.116942  0.162638  ...          0.0          0.0   \n",
      "2     0.155478  0.135086  0.151918  ...          0.0          0.0   \n",
      "3     0.181673  0.105343  0.170670  ...          0.0          0.0   \n",
      "4     0.125743  0.103874  0.130124  ...          0.0          0.0   \n",
      "...        ...       ...       ...  ...          ...          ...   \n",
      "2260  0.209908  0.161487  0.212191  ...          0.0          0.0   \n",
      "2261  0.093360  0.068233  0.100418  ...          0.0          0.0   \n",
      "2262  0.206046  0.163975  0.190149  ...          0.0          0.0   \n",
      "2263  0.145299  0.144564  0.151380  ...          0.0          0.0   \n",
      "2264  0.231962  0.184464  0.218729  ...          0.0          0.0   \n",
      "\n",
      "      0.000000.64  0.000000.65  0.000000.66  0.000000.67  0.000000.68  \\\n",
      "0             0.0          0.0          0.0          0.0          0.0   \n",
      "1             0.0          0.0          0.0          0.0          0.0   \n",
      "2             0.0          0.0          0.0          0.0          0.0   \n",
      "3             0.0          0.0          0.0          0.0          0.0   \n",
      "4             0.0          0.0          0.0          0.0          0.0   \n",
      "...           ...          ...          ...          ...          ...   \n",
      "2260          0.0          0.0          0.0          0.0          0.0   \n",
      "2261          0.0          0.0          0.0          0.0          0.0   \n",
      "2262          0.0          0.0          0.0          0.0          0.0   \n",
      "2263          0.0          0.0          0.0          0.0          0.0   \n",
      "2264          0.0          0.0          0.0          0.0          0.0   \n",
      "\n",
      "      0.000000.69  0.000000.70  0.000000.71  \n",
      "0             0.0          0.0          0.0  \n",
      "1             0.0          0.0          0.0  \n",
      "2             0.0          0.0          0.0  \n",
      "3             0.0          0.0          0.0  \n",
      "4             0.0          0.0          0.0  \n",
      "...           ...          ...          ...  \n",
      "2260          0.0          0.0          0.0  \n",
      "2261          0.0          0.0          0.0  \n",
      "2262          0.0          0.0          0.0  \n",
      "2263          0.0          0.0          0.0  \n",
      "2264          0.0          0.0          0.0  \n",
      "\n",
      "[2265 rows x 188 columns]\n"
     ]
    }
   ],
   "source": [
    "\n",
    "rd = pd.read_csv(train_folders[1])\n",
    "\n",
    "print(rd)"
   ]
  },
  {
   "cell_type": "code",
   "execution_count": 7,
   "metadata": {},
   "outputs": [],
   "source": [
    "# Đối với tập train\n",
    "# Tạo dữ liệu train từ cửa sổ trượt\n",
    "X_train, y_train, X_test, y_test = [], [], [], []\n",
    "\n",
    "for i in train_folders:\n",
    "    data = pd.read_csv(i, usecols=lambda column: column != 187) #record[0]\n",
    "\n",
    "    #Chia khung\n",
    "    window_input = 44\n",
    "    window_out = 44\n",
    "\n",
    "    # Số lượng lặp qua dữ liệu\n",
    "    num_samples_train = len(data) - window_input - window_out + 1\n",
    "\n",
    "    for i in range(num_samples_train):\n",
    "        X_window = data[i:i+window_input]\n",
    "        y_window = data[i+window_input:i+window_input+window_out]\n",
    "\n",
    "        X_train.append(X_window)\n",
    "        y_train.append(y_window)\n"
   ]
  },
  {
   "cell_type": "code",
   "execution_count": 9,
   "metadata": {},
   "outputs": [],
   "source": [
    "for i in test_folders:\n",
    "    data = pd.read_csv(i, usecols=lambda column: column != 187) #record[0]\n",
    "\n",
    "    #Chia khung\n",
    "    window_input = 44\n",
    "    window_out = 44\n",
    "\n",
    "    # Số lượng lặp qua dữ liệu\n",
    "    num_samples_test = len(data) - window_input - window_out + 1\n",
    "\n",
    "    # Đối với tập test\n",
    "    for i in range(num_samples_test):\n",
    "        X_window = data[i:i+window_input]\n",
    "        y_window = data[i+window_input:i+window_input+window_out]\n",
    "\n",
    "        X_test.append(X_window)\n",
    "        y_test.append(y_window)"
   ]
  },
  {
   "cell_type": "code",
   "execution_count": 10,
   "metadata": {},
   "outputs": [
    {
     "ename": "MemoryError",
     "evalue": "Unable to allocate 8.57 GiB for an array with shape (139037, 44, 188) and data type float64",
     "output_type": "error",
     "traceback": [
      "\u001b[1;31m---------------------------------------------------------------------------\u001b[0m",
      "\u001b[1;31mMemoryError\u001b[0m                               Traceback (most recent call last)",
      "\u001b[1;32md:\\UIT\\NCKHSV\\Năm 2023\\ECG classifier.ipynb Cell 10\u001b[0m line \u001b[0;36m3\n\u001b[0;32m      <a href='vscode-notebook-cell:/d%3A/UIT/NCKHSV/N%C4%83m%202023/ECG%20classifier.ipynb#X12sZmlsZQ%3D%3D?line=0'>1</a>\u001b[0m X_train\u001b[39m=\u001b[39m np\u001b[39m.\u001b[39marray(X_train)\n\u001b[0;32m      <a href='vscode-notebook-cell:/d%3A/UIT/NCKHSV/N%C4%83m%202023/ECG%20classifier.ipynb#X12sZmlsZQ%3D%3D?line=1'>2</a>\u001b[0m y_train\u001b[39m=\u001b[39m np\u001b[39m.\u001b[39marray(y_train)\n\u001b[1;32m----> <a href='vscode-notebook-cell:/d%3A/UIT/NCKHSV/N%C4%83m%202023/ECG%20classifier.ipynb#X12sZmlsZQ%3D%3D?line=2'>3</a>\u001b[0m X_test\u001b[39m=\u001b[39m np\u001b[39m.\u001b[39;49marray(X_test)\n\u001b[0;32m      <a href='vscode-notebook-cell:/d%3A/UIT/NCKHSV/N%C4%83m%202023/ECG%20classifier.ipynb#X12sZmlsZQ%3D%3D?line=3'>4</a>\u001b[0m y_test\u001b[39m=\u001b[39m np\u001b[39m.\u001b[39marray(y_test)\n",
      "\u001b[1;31mMemoryError\u001b[0m: Unable to allocate 8.57 GiB for an array with shape (139037, 44, 188) and data type float64"
     ]
    }
   ],
   "source": [
    "X_train= np.array(X_train)\n",
    "y_train= np.array(y_train)\n",
    "X_test= np.array(X_test)\n",
    "y_test= np.array(y_test)"
   ]
  },
  {
   "cell_type": "code",
   "execution_count": null,
   "metadata": {},
   "outputs": [],
   "source": [
    "# Tạo một mô hình LSTM\n",
    "model = Sequential()\n",
    "model.add(LSTM(50, input_shape=(10, 187)))  # Đặt input_shape phù hợp với kích thước của mảng X_train\n",
    "model.add(Dense(5 * 187))  # Đặt lớp Dense phù hợp với kích thước của mảng y_train\n",
    "\n",
    "# Biên dịch mô hình\n",
    "model.compile(optimizer='adam', loss='mean_squared_error')"
   ]
  }
 ],
 "metadata": {
  "kernelspec": {
   "display_name": "Python 3",
   "language": "python",
   "name": "python3"
  },
  "language_info": {
   "codemirror_mode": {
    "name": "ipython",
    "version": 3
   },
   "file_extension": ".py",
   "mimetype": "text/x-python",
   "name": "python",
   "nbconvert_exporter": "python",
   "pygments_lexer": "ipython3",
   "version": "3.10.10"
  }
 },
 "nbformat": 4,
 "nbformat_minor": 2
}
