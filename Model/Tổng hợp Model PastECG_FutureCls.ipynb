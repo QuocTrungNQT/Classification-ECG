{
 "cells": [
  {
   "cell_type": "code",
   "execution_count": 12,
   "metadata": {},
   "outputs": [],
   "source": [
    "import numpy as np\n",
    "import pandas as pd\n",
    "import seaborn as sns\n",
    "import tensorflow as tf\n",
    "from tqdm import tqdm\n",
    "from sklearn.metrics import accuracy_score\n",
    "from sklearn.metrics import confusion_matrix\n",
    "from sklearn.metrics import recall_score\n",
    "from sklearn.metrics import classification_report\n",
    "import matplotlib.pyplot as plt\n",
    "import joblib\n",
    "import pickle\n",
    "from tensorflow.keras.models import load_model\n",
    "import os"
   ]
  },
  {
   "cell_type": "markdown",
   "metadata": {},
   "source": [
    "<h2> Điền thông tin"
   ]
  },
  {
   "cell_type": "code",
   "execution_count": 13,
   "metadata": {},
   "outputs": [],
   "source": [
    "# Điền thời gian \n",
    "minute_input = 10\n",
    "minute_output = 10\n",
    "\n",
    "# Chọn kiểu model muốn load. Nếu là Deep Learning điền DL, nếu là Machine Learning điền ML\n",
    "hastag = \"DL\"\n",
    "#hastag = \"ML\"\n",
    "\n",
    "# Điền tên loại model\n",
    "# Gồm có: LSTM, CNN, KNN, RANDOM FOREST, DECISION TREE, LOGISTIC REGRESSION, NAIVEBAYES, GradientBoosting\n",
    "model_name = \"SVM\"\n",
    "\n",
    "# Điền đường dẫn của mô hình DL\n",
    "model_path = \"D:/UIT/NCKHSV/Năm 2023/File model/trained/LSTM_PastECG_FutureCls_10-mininput_10-minoutput.h5\"\n",
    "# Điền đường dẫn của mô hình ML\n",
    "#model_path = \"D:/UIT/NCKHSV/Năm 2023/File model/trained/SVM_PastECG_FutureCls_10-mininput_10-minoutput\"\n",
    "\n",
    "# Điền đường dẫn data\n",
    "data_path = './Test/'\n",
    "\n",
    "# Điền đường dẫn thư mục lưu trữ kết quả\n",
    "result_folder = \"./Result/\""
   ]
  },
  {
   "cell_type": "markdown",
   "metadata": {},
   "source": [
    "<h2> Configuration"
   ]
  },
  {
   "cell_type": "code",
   "execution_count": 14,
   "metadata": {},
   "outputs": [],
   "source": [
    "window_input= 40*minute_input\n",
    "window_out= 40*minute_input\n",
    "train_size = 0.8\n",
    "test_size = 1 - train_size\n",
    "# data_set = {\n",
    "#   0: \"test\",\n",
    "#   1: \"train\"\n",
    "# }\n",
    "\n",
    "data_set = {\n",
    "  0: \"test_ram\",\n",
    "  1: \"train_ram\"\n",
    "}\n",
    "\n",
    "# length_ecg là độ dài 2 khoảng RR được fixed lúc tiền xử lý dữ liệu \n",
    "# (độ dài một dòng trong file excel, trừ cột cuối là nhãn lớp bệnh tim)\n",
    "length_ecg = 187 \n",
    "batch_size = 16\n",
    "# model_cls = \"LSTM\"\n",
    "'''\n",
    "Độ dài của input/output càng dài thì số lượng file không đáp ứng đủ để tạo một mẫu hợp lệ \n",
    "cho mô hình càng nhiều. Để đám bảo tính thống nhất nên sẽ dùng độ dài dài nhất của phần \n",
    "input/output trong quá trình thực nghiệm để là chuẩn từ đó loại các file bị thiếu này đều\n",
    "ở những phần thực nghiệm input/output khác.\n",
    "'''\n",
    "missing_file_train = ['201_V1.csv', '102_V2.csv', '124_V4.csv', '112_V1.csv', '203_V1.csv', '116_V1.csv', '108_V1.csv', '207_V1.csv', '111_V1.csv', '200_V1.csv', '207_MLII.csv', '210_V1.csv', '202_V1.csv', '113_V1.csv', '214_V1.csv', '121_V1.csv', '109_V1.csv', '105_V1.csv', '107_V1.csv', '115_V1.csv', '208_V1.csv']\n",
    "missing_file_test = ['213_V1.csv', '231_V1.csv', '228_V1.csv', '222_V1.csv', '232_V1.csv']"
   ]
  },
  {
   "cell_type": "markdown",
   "metadata": {},
   "source": [
    "<h2> Get Data\n",
    "\n",
    "<h3> Nếu load theo DL chọn hastag = \"DL\" \n",
    "<h3> Nếu load theo ML chọn hastag = \"ML\""
   ]
  },
  {
   "cell_type": "code",
   "execution_count": 15,
   "metadata": {},
   "outputs": [],
   "source": [
    "class Dataset:\n",
    "    def __init__(self, data, label):\n",
    "        self.data = data\n",
    "        self.label = label\n",
    "\n",
    "    def __len__(self):\n",
    "        return len(self.data)\n",
    "\n",
    "    def __getitem__(self, i):\n",
    "        # read data\n",
    "        X = self.data[i]\n",
    "        y = self.label[i].astype(int)\n",
    "        return X, y\n",
    "\n",
    "class Dataloader(tf.keras.utils.Sequence):\n",
    "    def __init__(self, dataset, batch_size,size):\n",
    "        self.dataset = dataset\n",
    "        self.batch_size = batch_size\n",
    "        self.size= size\n",
    "\n",
    "    def __getitem__(self, i):\n",
    "        # collect batch data\n",
    "        start = i * self.batch_size\n",
    "        stop = (i + 1) * self.batch_size\n",
    "        data = []\n",
    "        for j in range(start, stop):\n",
    "            data.append(self.dataset[j])\n",
    "\n",
    "        batch = [np.stack(samples, axis=0) for samples in zip(*data)]\n",
    "        return tuple(batch)\n",
    "\n",
    "    def __len__(self):\n",
    "        return self.size //self.batch_size"
   ]
  },
  {
   "cell_type": "code",
   "execution_count": 16,
   "metadata": {},
   "outputs": [],
   "source": [
    "def get_data(istrainset):\n",
    "    if hastag == \"DL\":\n",
    "        missing_file = []\n",
    "        total_sample = 0\n",
    "        directory = f\"{data_path}{data_set[istrainset]}/\"\n",
    "        X, y = [], []\n",
    "        for filename in os.listdir(directory):\n",
    "            if (filename not in (missing_file_train)) and (filename not in (missing_file_test)) and (filename != \".DS_Store\"):\n",
    "                f = os.path.join(directory, filename)\n",
    "                if os.path.isfile(f):\n",
    "                    df = pd.read_csv(f, header=None)\n",
    "                    data=df.drop(columns=length_ecg)\n",
    "                    data=data.values\n",
    "                    data1=df.iloc[:, length_ecg]\n",
    "                    # Số lượng lặp qua dữ liệu\n",
    "                    num_samples = len(data) - window_input - window_out\n",
    "                    # Tạo dữ liệu train từ cửa sổ trượt\n",
    "                    if num_samples > 0:\n",
    "                        total_sample = total_sample + num_samples\n",
    "                        for i in range(num_samples):\n",
    "                            X_window = data[i:i+window_input]\n",
    "                            y_value = data1[i+window_input+window_out]\n",
    "\n",
    "                            X.append(X_window)\n",
    "                            y.append(y_value)\n",
    "                    else:\n",
    "                        missing_file.append(filename)\n",
    "        print(\"------🍒------\")\n",
    "        print(f\"Num of file in {data_set[istrainset]} set can not use due to its missing of length: {len(missing_file)}\")\n",
    "        print(f\"Number of sample: {len(y)}/{len(X)}/{total_sample}\")\n",
    "        print(f\"Missing files: {missing_file}\")\n",
    "        \n",
    "    if hastag == \"ML\":\n",
    "        missing_file = []\n",
    "        total_sample = 0\n",
    "        directory = f\"{data_path}{data_set[istrainset]}/\"\n",
    "        X, y = [], []\n",
    "        for filename in os.listdir(directory):\n",
    "            if (filename not in (missing_file_train)) and (filename not in (missing_file_test)) and (filename != \".DS_Store\"):\n",
    "                f = os.path.join(directory, filename)\n",
    "                if os.path.isfile(f):\n",
    "                    df = pd.read_csv(f, header=None)\n",
    "                    data=df.drop(columns=length_ecg)\n",
    "                    data=data.values\n",
    "                    data1=df.iloc[:, length_ecg]\n",
    "                    # Số lượng lặp qua dữ liệu\n",
    "                    num_samples = len(data) - window_input - window_out\n",
    "                    # Tạo dữ liệu train từ cửa sổ trượt\n",
    "                    if num_samples > 0:\n",
    "                        total_sample = total_sample + num_samples\n",
    "                        for i in range(num_samples):\n",
    "                            X_window = data[i:i+window_input]\n",
    "                            y_value = data1[i+window_input+window_out]\n",
    "\n",
    "                            X.append(X_window.reshape(window_input*length_ecg))\n",
    "                            y.append(y_value)\n",
    "                    else:\n",
    "                        missing_file.append(filename)\n",
    "        print(\"------🍒------\")\n",
    "        print(f\"Num of file in {data_set[istrainset]} set can not use due to its missing of length: {len(missing_file)}\")\n",
    "        print(f\"Number of sample: {len(y)}/{len(X)}/{total_sample}\")\n",
    "        print(f\"Missing files: {missing_file}\")\n",
    "    return X, y"
   ]
  },
  {
   "cell_type": "markdown",
   "metadata": {},
   "source": [
    "<h2> Load Data"
   ]
  },
  {
   "cell_type": "code",
   "execution_count": 17,
   "metadata": {},
   "outputs": [
    {
     "name": "stdout",
     "output_type": "stream",
     "text": [
      "------🍒------\n",
      "Num of file in train_ram set can not use due to its missing of length: 0\n",
      "Number of sample: 2646/2646/2646\n",
      "Missing files: []\n",
      "------🍒------\n",
      "Num of file in test_ram set can not use due to its missing of length: 0\n",
      "Number of sample: 2442/2442/2442\n",
      "Missing files: []\n"
     ]
    }
   ],
   "source": [
    "# Lấy tập train/test\n",
    "X_train, y_train = get_data(1)\n",
    "X_test, y_test = get_data(0)"
   ]
  },
  {
   "cell_type": "code",
   "execution_count": 18,
   "metadata": {},
   "outputs": [],
   "source": [
    "if hastag == \"DL\":\n",
    "    train_dataset = Dataset(X_train, y_train)\n",
    "    test_dataset = Dataset(X_test, y_test)\n",
    "\n",
    "    train_loader = Dataloader(train_dataset, batch_size,len(train_dataset))\n",
    "    test_loader = Dataloader(test_dataset,batch_size,len(test_dataset))"
   ]
  },
  {
   "cell_type": "markdown",
   "metadata": {},
   "source": [
    "<h2> Load Model"
   ]
  },
  {
   "cell_type": "code",
   "execution_count": 19,
   "metadata": {},
   "outputs": [
    {
     "name": "stdout",
     "output_type": "stream",
     "text": [
      "152/152 [==============================] - 13s 79ms/step\n"
     ]
    }
   ],
   "source": [
    "if hastag == \"DL\":\n",
    "    # Tải mô hình DL từ tệp\n",
    "    model = load_model(model_path)\n",
    "    # Sử dụng mô hình đã tải\n",
    "    predictions = model.predict(test_loader)\n",
    "    y_pred = np.argmax(predictions, axis=1)\n",
    "\n",
    "    # Lấy độ dài y_test bằng y_pred\n",
    "    x = len(y_test) - len(y_pred)\n",
    "    y = len(y_test) - x\n",
    "    y_test = y_test[:y]\n",
    "\n",
    "else:\n",
    "    # Tải mô hình ML từ tệp\n",
    "    model = joblib.load(model_path)\n",
    "\n",
    "    # Sử dụng mô hình đã tải\n",
    "    y_pred = model.predict(X_test)"
   ]
  },
  {
   "cell_type": "markdown",
   "metadata": {},
   "source": [
    "<h2> Save đánh giá"
   ]
  },
  {
   "cell_type": "code",
   "execution_count": 20,
   "metadata": {},
   "outputs": [
    {
     "name": "stdout",
     "output_type": "stream",
     "text": [
      "              precision    recall  f1-score   support\n",
      "\n",
      "         0.0       0.37      1.00      0.54       907\n",
      "         1.0       0.00      0.00      0.00         2\n",
      "         2.0       0.00      0.00      0.00        51\n",
      "         3.0       0.00      0.00      0.00       156\n",
      "         4.0       0.00      0.00      0.00      1316\n",
      "\n",
      "    accuracy                           0.37      2432\n",
      "   macro avg       0.07      0.20      0.11      2432\n",
      "weighted avg       0.14      0.37      0.20      2432\n",
      "\n"
     ]
    },
    {
     "name": "stderr",
     "output_type": "stream",
     "text": [
      "c:\\Users\\MSI GAMING\\AppData\\Local\\Programs\\Python\\Python310\\lib\\site-packages\\sklearn\\metrics\\_classification.py:1469: UndefinedMetricWarning: Precision and F-score are ill-defined and being set to 0.0 in labels with no predicted samples. Use `zero_division` parameter to control this behavior.\n",
      "  _warn_prf(average, modifier, msg_start, len(result))\n",
      "c:\\Users\\MSI GAMING\\AppData\\Local\\Programs\\Python\\Python310\\lib\\site-packages\\sklearn\\metrics\\_classification.py:1469: UndefinedMetricWarning: Precision and F-score are ill-defined and being set to 0.0 in labels with no predicted samples. Use `zero_division` parameter to control this behavior.\n",
      "  _warn_prf(average, modifier, msg_start, len(result))\n",
      "c:\\Users\\MSI GAMING\\AppData\\Local\\Programs\\Python\\Python310\\lib\\site-packages\\sklearn\\metrics\\_classification.py:1469: UndefinedMetricWarning: Precision and F-score are ill-defined and being set to 0.0 in labels with no predicted samples. Use `zero_division` parameter to control this behavior.\n",
      "  _warn_prf(average, modifier, msg_start, len(result))\n",
      "c:\\Users\\MSI GAMING\\AppData\\Local\\Programs\\Python\\Python310\\lib\\site-packages\\sklearn\\metrics\\_classification.py:1469: UndefinedMetricWarning: Precision and F-score are ill-defined and being set to 0.0 in labels with no predicted samples. Use `zero_division` parameter to control this behavior.\n",
      "  _warn_prf(average, modifier, msg_start, len(result))\n",
      "c:\\Users\\MSI GAMING\\AppData\\Local\\Programs\\Python\\Python310\\lib\\site-packages\\sklearn\\metrics\\_classification.py:1469: UndefinedMetricWarning: Precision and F-score are ill-defined and being set to 0.0 in labels with no predicted samples. Use `zero_division` parameter to control this behavior.\n",
      "  _warn_prf(average, modifier, msg_start, len(result))\n",
      "c:\\Users\\MSI GAMING\\AppData\\Local\\Programs\\Python\\Python310\\lib\\site-packages\\sklearn\\metrics\\_classification.py:1469: UndefinedMetricWarning: Precision and F-score are ill-defined and being set to 0.0 in labels with no predicted samples. Use `zero_division` parameter to control this behavior.\n",
      "  _warn_prf(average, modifier, msg_start, len(result))\n"
     ]
    }
   ],
   "source": [
    "report = classification_report(y_test, y_pred)\n",
    "print(report)\n",
    "\n",
    "#Save\n",
    "# Dùng classification_report để tính các độ đo\n",
    "report = classification_report(y_test, y_pred, output_dict=True)\n",
    "\n",
    "# Chuyển đổi báo cáo thành DataFrame\n",
    "df = pd.DataFrame(report).transpose()\n",
    "\n",
    "# Chọn các cột quan trọng như F1, accuracy, precision và recall\n",
    "selected_columns = ['precision', 'recall', 'f1-score', 'support']\n",
    "df_selected = df[selected_columns]\n",
    "\n",
    "# Đường dẫn tệp CSV đích\n",
    "csv_path = f\"{result_folder}/{model_name}_{minute_input}_{minute_output}.csv\"\n",
    "\n",
    "# Lưu DataFrame vào tệp CSV\n",
    "df_selected.to_csv(csv_path, index=True)"
   ]
  },
  {
   "cell_type": "code",
   "execution_count": 21,
   "metadata": {},
   "outputs": [
    {
     "data": {
      "image/png": "[encoded data removed]",
      "text/plain": [
       "<Figure size 800x600 with 2 Axes>"
      ]
     },
     "metadata": {},
     "output_type": "display_data"
    }
   ],
   "source": [
    "# Tính ma trận nhầm lẫn\n",
    "conf_matrix = confusion_matrix(y_test, y_pred)\n",
    "\n",
    "# Tạo biểu đồ dạng heatmap\n",
    "plt.figure(figsize=(8, 6))\n",
    "sns.heatmap(conf_matrix, annot=True, fmt='d', cmap='Blues')\n",
    "plt.xlabel('Predicted')\n",
    "plt.ylabel('Actual')\n",
    "plt.title('Confusion Matrix')\n",
    "plt.tight_layout()\n",
    "\n",
    "# Đường dẫn tệp hình ảnh đích\n",
    "image_path = f\"{result_folder}/{model_name}_{minute_input}_{minute_output}_confusion_matrix.png\"\n",
    "\n",
    "# Lưu ma trận nhầm lẫn thành hình ảnh\n",
    "plt.savefig(image_path)\n",
    "\n",
    "# Hiển thị biểu đồ\n",
    "plt.show()"
   ]
  },
  {
   "cell_type": "code",
   "execution_count": 22,
   "metadata": {},
   "outputs": [
    {
     "data": {
      "image/png": "[encoded data removed]",
      "text/plain": [
       "<Figure size 800x600 with 1 Axes>"
      ]
     },
     "metadata": {},
     "output_type": "display_data"
    },
    {
     "data": {
      "text/plain": [
       "<Figure size 640x480 with 0 Axes>"
      ]
     },
     "metadata": {},
     "output_type": "display_data"
    }
   ],
   "source": [
    "from sklearn.metrics import recall_score\n",
    "import matplotlib.pyplot as plt\n",
    "\n",
    "# Tính độ nhạy cho từng lớp\n",
    "sensitivity_scores = recall_score(y_test, y_pred, average=None)\n",
    "\n",
    "# Tên của các lớp\n",
    "class_names = ['Class 0', 'Class 1', 'Class 2', 'Class 3', 'Class 4']\n",
    "\n",
    "# Vẽ biểu đồ cột\n",
    "plt.figure(figsize=(8, 6))\n",
    "plt.bar(class_names, sensitivity_scores, color='skyblue')\n",
    "plt.title('Sensitivity for Each Class')\n",
    "plt.xlabel('Class')\n",
    "plt.ylabel('Sensitivity')\n",
    "plt.ylim(0, 1)  \n",
    "# Hiển thị biểu đồ\n",
    "plt.show()\n",
    "\n",
    "# Đường dẫn tệp hình ảnh đích\n",
    "image_path = f\"{result_folder}/{model_name}_{minute_input}_{minute_output}_sensitivity_chart.png\"\n",
    "\n",
    "# Lưu biểu đồ độ nhạy thành hình ảnh\n",
    "plt.savefig(image_path)"
   ]
  }
 ],
 "metadata": {
  "kernelspec": {
   "display_name": "Python 3",
   "language": "python",
   "name": "python3"
  },
  "language_info": {
   "codemirror_mode": {
    "name": "ipython",
    "version": 3
   },
   "file_extension": ".py",
   "mimetype": "text/x-python",
   "name": "python",
   "nbconvert_exporter": "python",
   "pygments_lexer": "ipython3",
   "version": "3.10.10"
  }
 },
 "nbformat": 4,
 "nbformat_minor": 2
}
